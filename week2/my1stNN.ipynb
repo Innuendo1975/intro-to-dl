{
 "cells": [
  {
   "cell_type": "code",
   "execution_count": 36,
   "metadata": {},
   "outputs": [
    {
     "name": "stdout",
     "output_type": "stream",
     "text": [
      "(50000, 28, 28) (50000,)\n"
     ]
    },
    {
     "data": {
      "image/png": "[encoded data removed]",
      "text/plain": [
       "<Figure size 432x288 with 1 Axes>"
      ]
     },
     "metadata": {},
     "output_type": "display_data"
    }
   ],
   "source": [
    "from preprocessed_mnist import load_dataset\n",
    "X_train, y_train, X_val, y_val, X_test, y_test = load_dataset()\n",
    "print(X_train.shape, y_train.shape)\n",
    "import matplotlib.pyplot as plt\n",
    "%matplotlib inline\n",
    "plt.imshow(X_train[0], cmap=\"Greys\");"
   ]
  },
  {
   "cell_type": "markdown",
   "metadata": {},
   "source": [
    "## Imports"
   ]
  },
  {
   "cell_type": "code",
   "execution_count": 331,
   "metadata": {
    "collapsed": true
   },
   "outputs": [],
   "source": [
    "import os\n",
    "import time\n",
    "import shutil\n",
    "import tensorflow as tf\n",
    "import numpy as np\n",
    "import random\n",
    "from sklearn.metrics import roc_auc_score, accuracy_score\n",
    "import matplotlib.pyplot as plt\n",
    "%matplotlib inline"
   ]
  },
  {
   "cell_type": "markdown",
   "metadata": {},
   "source": [
    "## Tensorflow configuration"
   ]
  },
  {
   "cell_type": "code",
   "execution_count": 13,
   "metadata": {},
   "outputs": [
    {
     "name": "stderr",
     "output_type": "stream",
     "text": [
      "/usr/local/lib/python3.6/site-packages/tensorflow/python/client/session.py:1711: UserWarning: An interactive session is already active. This can cause out-of-memory errors in some cases. You must explicitly call `InteractiveSession.close()` to release resources held by the other session(s).\n",
      "  warnings.warn('An interactive session is already active. This can '\n"
     ]
    }
   ],
   "source": [
    "! killall tensorboard\n",
    "\n",
    "log_dir = '/tmp/tboard'\n",
    "\n",
    "if os.path.isdir(log_dir):\n",
    "    shutil.rmtree(log_dir)\n",
    "os.system(\"tensorboard --logdir=%s --port=7007 &\" % log_dir)\n",
    "\n",
    "time.sleep(2)\n",
    "\n",
    "s = tf.InteractiveSession()"
   ]
  },
  {
   "cell_type": "markdown",
   "metadata": {},
   "source": [
    "## Binary classification (zero vs non-zero)"
   ]
  },
  {
   "cell_type": "code",
   "execution_count": 321,
   "metadata": {
    "collapsed": true
   },
   "outputs": [],
   "source": [
    "y_train_zeros = (y_train == 0) + 0\n",
    "y_test_zeros = (y_test == 0) + 0\n",
    "X_train_reshaped = X_train.reshape(X_train.shape[0], 28**2)\n",
    "X_test_reshaped = X_test.reshape(X_test.shape[0], 28**2)"
   ]
  },
  {
   "cell_type": "code",
   "execution_count": 322,
   "metadata": {
    "collapsed": true
   },
   "outputs": [],
   "source": [
    "input_X = tf.placeholder('float32', shape=(None, 28 ** 2), name=\"input_X\")\n",
    "input_y = tf.placeholder('float32', shape=(None, ), name=\"input_y\")\n",
    "\n",
    "weights = tf.Variable(initial_value=np.random.normal(0, 0.01, size=(28 ** 2, 1)), name=\"weights\", dtype='float32')\n",
    "b = tf.Variable(initial_value=0.0, name='bias', dtype='float32')\n",
    "\n",
    "predicted_y =  tf.squeeze(tf.nn.sigmoid(tf.matmul(input_X, weights) + b))\n",
    "\n",
    "loss = tf.reduce_mean(-tf.log(predicted_y) * input_y - tf.log(1 - predicted_y) * (1 - input_y))\n",
    "\n",
    "optimizer = tf.train.MomentumOptimizer(0.01, 0.5).minimize(loss, var_list=[weights, b])"
   ]
  },
  {
   "cell_type": "code",
   "execution_count": 323,
   "metadata": {},
   "outputs": [
    {
     "name": "stdout",
     "output_type": "stream",
     "text": [
      "0.70658946\n"
     ]
    }
   ],
   "source": [
    "s.run(tf.global_variables_initializer())\n",
    "loss_i = s.run(loss, {input_X: X_train_reshaped[0:20], input_y: y_train_zeros[0:20]})\n",
    "print(loss_i)"
   ]
  },
  {
   "cell_type": "code",
   "execution_count": 340,
   "metadata": {
    "collapsed": true
   },
   "outputs": [],
   "source": [
    "s.run(tf.global_variables_initializer())"
   ]
  },
  {
   "cell_type": "code",
   "execution_count": 343,
   "metadata": {},
   "outputs": [
    {
     "name": "stdout",
     "output_type": "stream",
     "text": [
      "loss at iter 0:0.1596\n",
      "loss at iter 10:0.1528\n",
      "loss at iter 20:0.1469\n",
      "loss at iter 30:0.1418\n",
      "loss at iter 40:0.1372\n",
      "loss at iter 50:0.1331\n",
      "loss at iter 60:0.1294\n",
      "loss at iter 70:0.1260\n",
      "loss at iter 80:0.1230\n",
      "loss at iter 90:0.1202\n",
      "loss at iter 100:0.1176\n",
      "train auc: 0.87503097958993\n",
      "test auc: 0.8850049776007964\n"
     ]
    }
   ],
   "source": [
    "from sklearn.metrics import roc_auc_score\n",
    "\n",
    "loss_values = []\n",
    "iters = []\n",
    "\n",
    "for i in range(101):\n",
    "    s.run(optimizer, {input_X: X_train_reshaped, input_y: y_train_zeros})\n",
    "    if i%10 == 0:\n",
    "        loss_i = s.run(loss, {input_X: X_train_reshaped, input_y: y_train_zeros})\n",
    "        loss_values.append(loss_i)\n",
    "        iters.append(i)\n",
    "        print(\"loss at iter %i:%.4f\" % (i, loss_i))\n",
    "print(\"train auc:\", roc_auc_score(y_train_zeros, np.rint(s.run(predicted_y, {input_X:X_train_reshaped}))))\n",
    "print(\"test auc:\", roc_auc_score(y_test_zeros, np.rint(s.run(predicted_y, {input_X:X_test_reshaped}))))"
   ]
  },
  {
   "cell_type": "code",
   "execution_count": 345,
   "metadata": {},
   "outputs": [
    {
     "data": {
      "image/png": "[encoded data removed]",
      "text/plain": [
       "<Figure size 432x288 with 1 Axes>"
      ]
     },
     "metadata": {},
     "output_type": "display_data"
    }
   ],
   "source": [
    "plt.plot(iters, loss_values)\n",
    "plt.grid()"
   ]
  },
  {
   "cell_type": "code",
   "execution_count": 347,
   "metadata": {},
   "outputs": [
    {
     "name": "stdout",
     "output_type": "stream",
     "text": [
      "y:  [1]\n",
      "pred 0.85140914\n"
     ]
    }
   ],
   "source": [
    "i = 51\n",
    "print('y: ', y_train_zeros[i:i+1])\n",
    "print('pred', s.run(predicted_y, {input_X: X_train_reshaped[i:i+1], input_y: y_train_zeros[i:i+1]}))"
   ]
  },
  {
   "cell_type": "markdown",
   "metadata": {},
   "source": [
    "## Multiclass classification"
   ]
  },
  {
   "cell_type": "code",
   "execution_count": 351,
   "metadata": {
    "collapsed": true
   },
   "outputs": [],
   "source": [
    "X_train_reshaped = X_train.reshape(X_train.shape[0], 28**2)\n",
    "X_test_reshaped = X_test.reshape(X_test.shape[0], 28**2)\n",
    "def y2matrix(y, classes=10):\n",
    "    res = np.zeros(shape=(y.shape[0], classes))\n",
    "    for i, y_i in enumerate(y):\n",
    "        res[i, y_i] = 1\n",
    "    return res\n",
    "y_train_flat = y2matrix(y_train)\n",
    "y_test_flat = y2matrix(y_test)"
   ]
  },
  {
   "cell_type": "code",
   "execution_count": 352,
   "metadata": {
    "collapsed": true
   },
   "outputs": [],
   "source": [
    "input_X = tf.placeholder('float32', shape=(None, 28 ** 2), name=\"input_X\")\n",
    "input_y = tf.placeholder('float32', shape=(None, 10), name=\"input_y\")\n",
    "\n",
    "weights_matrix = tf.Variable(initial_value=np.random.normal(0, 0.01, size=(28 ** 2, 10)), name=\"weights\", dtype='float32')\n",
    "b_m = tf.Variable(initial_value=np.zeros(shape=(10,)), name='bias', dtype='float32')\n",
    "\n",
    "predicted_y =  tf.squeeze(tf.nn.softmax(tf.matmul(input_X, weights_matrix) + b_m))\n",
    "#predicted_y =  tf.squeeze(tf.argmax(tf.nn.softmax(tf.matmul(input_X, weights) + b)))\n",
    "\n",
    "loss = tf.reduce_mean(-tf.log(predicted_y) * input_y - tf.log(1 - predicted_y) * (1 - input_y))\n",
    "\n",
    "optimizer = tf.train.GradientDescentOptimizer(0.1).minimize(loss, var_list=[weights_matrix, b_m])"
   ]
  },
  {
   "cell_type": "code",
   "execution_count": 353,
   "metadata": {},
   "outputs": [
    {
     "name": "stdout",
     "output_type": "stream",
     "text": [
      "9\n",
      "0.3243628\n"
     ]
    }
   ],
   "source": [
    "s.run(tf.global_variables_initializer())\n",
    "pred = s.run(predicted_y, {input_X: X_train_reshaped, input_y: y_train_flat})\n",
    "print(np.argmax(pred[0]))\n",
    "loss_i = s.run(loss, {input_X: X_train_reshaped, input_y: y_train_flat})\n",
    "print(loss_i)"
   ]
  },
  {
   "cell_type": "code",
   "execution_count": 354,
   "metadata": {
    "collapsed": true
   },
   "outputs": [],
   "source": [
    "s.run(tf.global_variables_initializer())"
   ]
  },
  {
   "cell_type": "code",
   "execution_count": 357,
   "metadata": {},
   "outputs": [
    {
     "name": "stdout",
     "output_type": "stream",
     "text": [
      "loss at iter 0:0.2664\n",
      "train accuracy_score: 0.71724\n",
      "test accuracy_score: 0.7297\n",
      "loss at iter 10:0.2569\n",
      "train accuracy_score: 0.7251\n",
      "test accuracy_score: 0.7386\n",
      "loss at iter 20:0.2479\n",
      "train accuracy_score: 0.73252\n",
      "test accuracy_score: 0.7475\n",
      "loss at iter 30:0.2396\n",
      "train accuracy_score: 0.73984\n",
      "test accuracy_score: 0.7529\n",
      "loss at iter 40:0.2317\n",
      "train accuracy_score: 0.74618\n",
      "test accuracy_score: 0.7599\n"
     ]
    }
   ],
   "source": [
    "def minibatch(X, y, n=100):\n",
    "    indexes = random.sample(range(0, X.shape[0]), n)\n",
    "    return X[indexes], y[indexes]\n",
    "\n",
    "loss_values = []\n",
    "iters = []\n",
    "for i in range(50):\n",
    "    x_train_minibatch, y_train_minibatch = minibatch(X_train_reshaped, y_train_flat)\n",
    "    s.run(optimizer, {input_X: X_train_reshaped, input_y: y_train_flat})\n",
    "    if i%10 == 0:\n",
    "        loss_i = s.run(loss, {input_X: X_train_reshaped, input_y: y_train_flat})\n",
    "        loss_values.append(loss_i)\n",
    "        iters.append(i)\n",
    "        print(\"loss at iter %i:%.4f\" % (i, loss_i))\n",
    "        print(\"train accuracy_score:\", accuracy_score(y_train, np.argmax(s.run(predicted_y, {input_X:X_train_reshaped}), axis=1)))\n",
    "        print(\"test accuracy_score:\", accuracy_score(y_test, np.argmax(s.run(predicted_y, {input_X:X_test_reshaped}), axis=1)))"
   ]
  },
  {
   "cell_type": "code",
   "execution_count": 358,
   "metadata": {},
   "outputs": [
    {
     "data": {
      "image/png": "[encoded data removed]",
      "text/plain": [
       "<Figure size 432x288 with 1 Axes>"
      ]
     },
     "metadata": {},
     "output_type": "display_data"
    }
   ],
   "source": [
    "plt.plot(iters, loss_values)\n",
    "plt.grid()"
   ]
  },
  {
   "cell_type": "markdown",
   "metadata": {},
   "source": [
    "## Hidden layer"
   ]
  },
  {
   "cell_type": "code",
   "execution_count": 364,
   "metadata": {
    "collapsed": true
   },
   "outputs": [],
   "source": [
    "input_X = tf.placeholder('float32', shape=(None, 28 ** 2), name=\"input_X\")\n",
    "input_y = tf.placeholder('float32', shape=(None, 10), name=\"input_y\")\n",
    "\n",
    "weights_1 = tf.Variable(initial_value=np.random.normal(0, 0.01, size=(28 ** 2, 50)), name=\"weights1\", dtype='float32')\n",
    "b_m_1 = tf.Variable(initial_value=np.zeros(shape=(50,)), name='bias1', dtype='float32')\n",
    "weights_2 = tf.Variable(initial_value=np.random.normal(0, 0.01, size=(50, 10)), name=\"weights2\", dtype='float32')\n",
    "b_m_2 = tf.Variable(initial_value=np.zeros(shape=(10,)), name='bias2', dtype='float32')\n",
    "\n",
    "hidden_output = tf.nn.sigmoid(tf.matmul(input_X, weights_1) + b_m_1)\n",
    "predicted_y =  tf.squeeze(tf.nn.softmax(tf.matmul(hidden_output, weights_2) + b_m_2))\n",
    "#predicted_y =  tf.squeeze(tf.argmax(tf.nn.softmax(tf.matmul(input_X, weights) + b)))\n",
    "\n",
    "loss = tf.reduce_mean(-tf.log(predicted_y) * input_y - tf.log(1 - predicted_y) * (1 - input_y))\n",
    "\n",
    "optimizer = tf.train.GradientDescentOptimizer(20.0).minimize(loss, var_list=[weights_1, b_m_1, weights_2, b_m_2])"
   ]
  },
  {
   "cell_type": "code",
   "execution_count": 377,
   "metadata": {},
   "outputs": [
    {
     "name": "stdout",
     "output_type": "stream",
     "text": [
      "[0.48872232 0.5029412  0.4890359  0.51322633 0.5136747  0.48962408\n",
      " 0.52376246 0.49014693 0.5007235  0.47836283 0.48768198 0.52901065\n",
      " 0.51027113 0.4798206  0.5202026  0.511184   0.49870944 0.5105344\n",
      " 0.47886255 0.49041125 0.55182374 0.51203555 0.48340026 0.5497394\n",
      " 0.5369637  0.46772373 0.53759766 0.4774647  0.5134394  0.5260604\n",
      " 0.46930924 0.43029368 0.5418696  0.49170908 0.51147574 0.44876626\n",
      " 0.50852776 0.50332576 0.50923115 0.53425944 0.46932784 0.51733106\n",
      " 0.5012069  0.52180684 0.46777755 0.46810374 0.5048769  0.46452293\n",
      " 0.50690854 0.48962533]\n",
      "0.32525387\n"
     ]
    }
   ],
   "source": [
    "s.run(tf.global_variables_initializer())\n",
    "pred = s.run(hidden_output, {input_X: X_train_reshaped, input_y: y_train_flat})\n",
    "print(pred[0])\n",
    "loss_i = s.run(loss, {input_X: X_train_reshaped, input_y: y_train_flat})\n",
    "print(loss_i)"
   ]
  },
  {
   "cell_type": "code",
   "execution_count": 378,
   "metadata": {
    "collapsed": true
   },
   "outputs": [],
   "source": [
    "loss_values = []\n",
    "iters = []\n",
    "j = 0"
   ]
  },
  {
   "cell_type": "markdown",
   "metadata": {},
   "source": [
    "### After a while the score of accuracy will reach 0.96"
   ]
  },
  {
   "cell_type": "code",
   "execution_count": 395,
   "metadata": {},
   "outputs": [
    {
     "name": "stdout",
     "output_type": "stream",
     "text": [
      "loss at iter 0:0.0177\n",
      "train accuracy_score: 0.97194\n",
      "test accuracy_score: 0.9644\n",
      "loss at iter 10:0.0176\n",
      "train accuracy_score: 0.97232\n",
      "test accuracy_score: 0.9646\n",
      "loss at iter 20:0.0174\n",
      "train accuracy_score: 0.97254\n",
      "test accuracy_score: 0.9649\n",
      "loss at iter 30:0.0173\n",
      "train accuracy_score: 0.97266\n",
      "test accuracy_score: 0.9652\n",
      "loss at iter 40:0.0171\n",
      "train accuracy_score: 0.97296\n",
      "test accuracy_score: 0.9654\n",
      "loss at iter 50:0.0170\n",
      "train accuracy_score: 0.97326\n",
      "test accuracy_score: 0.9654\n",
      "loss at iter 60:0.0168\n",
      "train accuracy_score: 0.97364\n",
      "test accuracy_score: 0.9654\n",
      "loss at iter 70:0.0167\n",
      "train accuracy_score: 0.97398\n",
      "test accuracy_score: 0.9655\n",
      "loss at iter 80:0.0166\n",
      "train accuracy_score: 0.97414\n",
      "test accuracy_score: 0.9655\n",
      "loss at iter 90:0.0164\n",
      "train accuracy_score: 0.97442\n",
      "test accuracy_score: 0.9657\n",
      "loss at iter 100:0.0163\n",
      "train accuracy_score: 0.97472\n",
      "test accuracy_score: 0.9655\n"
     ]
    }
   ],
   "source": [
    "def minibatch(X, y, n=100):\n",
    "    indexes = random.sample(range(0, X.shape[0]), n)\n",
    "    return X[indexes], y[indexes]\n",
    "\n",
    "for i in range(101):\n",
    "    x_train_minibatch, y_train_minibatch = minibatch(X_train_reshaped, y_train_flat)\n",
    "    s.run(optimizer, {input_X: X_train_reshaped, input_y: y_train_flat})\n",
    "    \n",
    "    if i%10 == 0:\n",
    "        loss_i = s.run(loss, {input_X: X_train_reshaped, input_y: y_train_flat})\n",
    "        \n",
    "        loss_values.append(loss_i)\n",
    "        iters.append(j)\n",
    "        j += 10\n",
    "    \n",
    "        print(\"loss at iter %i:%.4f\" % (i, loss_i))\n",
    "        print(\"train accuracy_score:\", accuracy_score(y_train, np.argmax(s.run(predicted_y, {input_X:X_train_reshaped}), axis=1)))\n",
    "        print(\"test accuracy_score:\", accuracy_score(y_test, np.argmax(s.run(predicted_y, {input_X:X_test_reshaped}), axis=1)))"
   ]
  },
  {
   "cell_type": "code",
   "execution_count": 396,
   "metadata": {},
   "outputs": [
    {
     "data": {
      "image/png": "[encoded data removed]",
      "text/plain": [
       "<Figure size 432x288 with 1 Axes>"
      ]
     },
     "metadata": {},
     "output_type": "display_data"
    }
   ],
   "source": [
    "plt.plot(iters, loss_values)\n",
    "plt.grid()"
   ]
  }
 ],
 "metadata": {
  "kernelspec": {
   "display_name": "Python 3",
   "language": "python",
   "name": "python3"
  },
  "language_info": {
   "codemirror_mode": {
    "name": "ipython",
    "version": 3
   },
   "file_extension": ".py",
   "mimetype": "text/x-python",
   "name": "python",
   "nbconvert_exporter": "python",
   "pygments_lexer": "ipython3",
   "version": "3.6.5"
  }
 },
 "nbformat": 4,
 "nbformat_minor": 2
}
