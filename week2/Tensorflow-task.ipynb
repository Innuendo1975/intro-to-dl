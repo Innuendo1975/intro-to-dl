{
 "cells": [
  {
   "cell_type": "markdown",
   "metadata": {
    "slideshow": {
     "slide_type": "slide"
    }
   },
   "source": [
    "# Going deeper with Tensorflow\n",
    "\n",
    "In this video, we're going to study the tools you'll use to build deep learning models. Namely, [Tensorflow](https://www.tensorflow.org/).\n",
    "\n",
    "If you're running this notebook outside the course environment, you'll need to install tensorflow:\n",
    "* `pip install tensorflow` should install cpu-only TF on Linux & Mac OS\n",
    "* If you want GPU support from offset, see [TF install page](https://www.tensorflow.org/install/)"
   ]
  },
  {
   "cell_type": "code",
   "execution_count": 1,
   "metadata": {},
   "outputs": [
    {
     "data": {
      "text/plain": [
       "'3.6.4 (default, Mar 13 2018, 18:18:20) \\n[GCC 7.3.1 20180303 (Red Hat 7.3.1-5)]'"
      ]
     },
     "execution_count": 1,
     "metadata": {},
     "output_type": "execute_result"
    }
   ],
   "source": [
    "import sys\n",
    "sys.version"
   ]
  },
  {
   "cell_type": "code",
   "execution_count": 2,
   "metadata": {
    "collapsed": true
   },
   "outputs": [],
   "source": [
    "import sys\n",
    "sys.path.append(\"..\")\n",
    "import grading"
   ]
  },
  {
   "cell_type": "markdown",
   "metadata": {},
   "source": [
    "# Visualization"
   ]
  },
  {
   "cell_type": "markdown",
   "metadata": {},
   "source": [
    "Plase note that if you are running on the Coursera platform, you won't be able to access the tensorboard instance due to the network setup there. If you run the notebook locally, you should be able to access TensorBoard on http://127.0.0.1:7007/"
   ]
  },
  {
   "cell_type": "code",
   "execution_count": 41,
   "metadata": {},
   "outputs": [],
   "source": [
    "! killall tensorboard\n",
    "import os\n",
    "os.system(\"tensorboard --logdir=/tmp/tboard --port=7007 &\");"
   ]
  },
  {
   "cell_type": "code",
   "execution_count": 42,
   "metadata": {},
   "outputs": [
    {
     "name": "stderr",
     "output_type": "stream",
     "text": [
      "/usr/local/lib/python3.6/site-packages/tensorflow/python/client/session.py:1711: UserWarning: An interactive session is already active. This can cause out-of-memory errors in some cases. You must explicitly call `InteractiveSession.close()` to release resources held by the other session(s).\n",
      "  warnings.warn('An interactive session is already active. This can '\n"
     ]
    }
   ],
   "source": [
    "import tensorflow as tf\n",
    "s = tf.InteractiveSession()"
   ]
  },
  {
   "cell_type": "markdown",
   "metadata": {},
   "source": [
    "# Warming up\n",
    "For starters, let's implement a python function that computes the sum of squares of numbers from 0 to N-1."
   ]
  },
  {
   "cell_type": "code",
   "execution_count": 15,
   "metadata": {
    "collapsed": true
   },
   "outputs": [],
   "source": [
    "import numpy as np\n",
    "def sum_sin(N):\n",
    "    return np.sum(np.arange(N)**2)"
   ]
  },
  {
   "cell_type": "code",
   "execution_count": 16,
   "metadata": {},
   "outputs": [
    {
     "name": "stdout",
     "output_type": "stream",
     "text": [
      "CPU times: user 379 ms, sys: 866 ms, total: 1.24 s\n",
      "Wall time: 1.26 s\n"
     ]
    },
    {
     "data": {
      "text/plain": [
       "662921401752298880"
      ]
     },
     "execution_count": 16,
     "metadata": {},
     "output_type": "execute_result"
    }
   ],
   "source": [
    "%%time\n",
    "sum_sin(10**8)"
   ]
  },
  {
   "cell_type": "markdown",
   "metadata": {},
   "source": [
    "# Tensoflow teaser\n",
    "\n",
    "Doing the very same thing"
   ]
  },
  {
   "cell_type": "code",
   "execution_count": 17,
   "metadata": {
    "collapsed": true
   },
   "outputs": [],
   "source": [
    "# An integer parameter\n",
    "N = tf.placeholder('int64', name=\"input_to_your_function\")\n",
    "\n",
    "# A recipe on how to produce the same result\n",
    "result = tf.reduce_sum(tf.range(N)**2)"
   ]
  },
  {
   "cell_type": "code",
   "execution_count": 18,
   "metadata": {},
   "outputs": [
    {
     "data": {
      "text/plain": [
       "<tf.Tensor 'Sum_1:0' shape=() dtype=int64>"
      ]
     },
     "execution_count": 18,
     "metadata": {},
     "output_type": "execute_result"
    }
   ],
   "source": [
    "result"
   ]
  },
  {
   "cell_type": "code",
   "execution_count": 19,
   "metadata": {},
   "outputs": [
    {
     "name": "stdout",
     "output_type": "stream",
     "text": [
      "CPU times: user 842 ms, sys: 336 ms, total: 1.18 s\n",
      "Wall time: 700 ms\n"
     ]
    },
    {
     "data": {
      "text/plain": [
       "662921401752298880"
      ]
     },
     "execution_count": 19,
     "metadata": {},
     "output_type": "execute_result"
    }
   ],
   "source": [
    "%%time\n",
    "result.eval({N: 10**8})"
   ]
  },
  {
   "cell_type": "code",
   "execution_count": 43,
   "metadata": {
    "collapsed": true
   },
   "outputs": [],
   "source": [
    "writer = tf.summary.FileWriter(\"/tmp/tboard\", graph=s.graph)"
   ]
  },
  {
   "cell_type": "markdown",
   "metadata": {},
   "source": [
    "# How does it work?\n",
    "1. Define placeholders where you'll send inputs\n",
    "2. Make symbolic graph: a recipe for mathematical transformation of those placeholders\n",
    "3. Compute outputs of your graph with particular values for each placeholder\n",
    "  * `output.eval({placeholder:value})`\n",
    "  * `s.run(output, {placeholder:value})`\n",
    "\n",
    "So far there are two main entities: \"placeholder\" and \"transformation\"\n",
    "* Both can be numbers, vectors, matrices, tensors, etc.\n",
    "* Both can be int32/64, floats, booleans (uint8) of various size.\n",
    "\n",
    "* You can define new transformations as an arbitrary operation on placeholders and other transformations\n",
    " * `tf.reduce_sum(tf.arange(N)**2)` are 3 sequential transformations of placeholder `N`\n",
    " * There's a tensorflow symbolic version for every numpy function\n",
    "   * `a+b, a/b, a**b, ...` behave just like in numpy\n",
    "   * `np.mean` -> `tf.reduce_mean`\n",
    "   * `np.arange` -> `tf.range`\n",
    "   * `np.cumsum` -> `tf.cumsum`\n",
    "   * If if you can't find the op you need, see the [docs](https://www.tensorflow.org/api_docs/python).\n",
    "   \n",
    "`tf.contrib` has many high-level features, may be worth a look."
   ]
  },
  {
   "cell_type": "code",
   "execution_count": 21,
   "metadata": {
    "collapsed": true
   },
   "outputs": [],
   "source": [
    "with tf.name_scope(\"Placeholders_examples\"):\n",
    "    # Default placeholder that can be arbitrary float32\n",
    "    # scalar, vertor, matrix, etc.\n",
    "    arbitrary_input = tf.placeholder('float32')\n",
    "\n",
    "    # Input vector of arbitrary length\n",
    "    input_vector = tf.placeholder('float32', shape=(None,))\n",
    "\n",
    "    # Input vector that _must_ have 10 elements and integer type\n",
    "    fixed_vector = tf.placeholder('int32', shape=(10,))\n",
    "\n",
    "    # Matrix of arbitrary n_rows and 15 columns\n",
    "    # (e.g. a minibatch your data table)\n",
    "    input_matrix = tf.placeholder('float32', shape=(None, 15))\n",
    "    \n",
    "    # You can generally use None whenever you don't need a specific shape\n",
    "    input1 = tf.placeholder('float64', shape=(None, 100, None))\n",
    "    input2 = tf.placeholder('int32', shape=(None, None, 3, 224, 224))\n",
    "\n",
    "    # elementwise multiplication\n",
    "    double_the_vector = input_vector*2\n",
    "\n",
    "    # elementwise cosine\n",
    "    elementwise_cosine = tf.cos(input_vector)\n",
    "\n",
    "    # difference between squared vector and vector itself plus one\n",
    "    vector_squares = input_vector**2 - input_vector + 1"
   ]
  },
  {
   "cell_type": "code",
   "execution_count": 22,
   "metadata": {
    "collapsed": true
   },
   "outputs": [],
   "source": [
    "my_vector =  tf.placeholder('float32', shape=(None,), name=\"VECTOR_1\")\n",
    "my_vector2 = tf.placeholder('float32', shape=(None,))\n",
    "my_transformation = my_vector * my_vector2 / (tf.sin(my_vector) + 1)"
   ]
  },
  {
   "cell_type": "code",
   "execution_count": 23,
   "metadata": {},
   "outputs": [
    {
     "name": "stdout",
     "output_type": "stream",
     "text": [
      "Tensor(\"truediv:0\", shape=(?,), dtype=float32)\n"
     ]
    }
   ],
   "source": [
    "print(my_transformation)"
   ]
  },
  {
   "cell_type": "code",
   "execution_count": 24,
   "metadata": {},
   "outputs": [
    {
     "name": "stdout",
     "output_type": "stream",
     "text": [
      "[0. 1. 2. 3. 4.]\n"
     ]
    },
    {
     "data": {
      "text/plain": [
       "array([0.       , 1.6291324, 2.0950115, 2.6289961, 0.       ],\n",
       "      dtype=float32)"
      ]
     },
     "execution_count": 24,
     "metadata": {},
     "output_type": "execute_result"
    }
   ],
   "source": [
    "dummy = np.arange(5).astype('float32')\n",
    "print(dummy)\n",
    "my_transformation.eval({my_vector:dummy, my_vector2:dummy[::-1]})"
   ]
  },
  {
   "cell_type": "code",
   "execution_count": 25,
   "metadata": {
    "collapsed": true
   },
   "outputs": [],
   "source": [
    "writer.add_graph(my_transformation.graph)\n",
    "writer.flush()"
   ]
  },
  {
   "cell_type": "markdown",
   "metadata": {},
   "source": [
    "TensorBoard allows writing scalars, images, audio, histogram. You can read more on tensorboard usage [here](https://www.tensorflow.org/get_started/graph_viz)."
   ]
  },
  {
   "cell_type": "markdown",
   "metadata": {},
   "source": [
    "# Summary\n",
    "* Tensorflow is based on computation graphs\n",
    "* The graphs consist of placehlders and transformations"
   ]
  },
  {
   "cell_type": "markdown",
   "metadata": {},
   "source": [
    "# Mean squared error\n",
    "\n",
    "Your assignment is to implement mean squared error in tensorflow."
   ]
  },
  {
   "cell_type": "code",
   "execution_count": 44,
   "metadata": {},
   "outputs": [],
   "source": [
    "with tf.name_scope(\"MSE\"):\n",
    "    y_true = tf.placeholder(\"float32\", shape=(None,), name=\"y_true\")\n",
    "    y_predicted = tf.placeholder(\"float32\", shape=(None,), name=\"y_predicted\")\n",
    "    # Your code goes here\n",
    "    # You want to use tf.reduce_mean\n",
    "    # mse = tf.<...>\n",
    "    mse = tf.reduce_mean((y_true - y_predicted) ** 2)\n",
    "def compute_mse(vector1, vector2):\n",
    "    return mse.eval({y_true: vector1, y_predicted: vector2})"
   ]
  },
  {
   "cell_type": "code",
   "execution_count": 45,
   "metadata": {
    "collapsed": true
   },
   "outputs": [],
   "source": [
    "writer.add_graph(mse.graph)\n",
    "writer.flush()"
   ]
  },
  {
   "cell_type": "markdown",
   "metadata": {},
   "source": [
    "Tests and result submission. Please use the credentials obtained from the Coursera assignment page."
   ]
  },
  {
   "cell_type": "code",
   "execution_count": 48,
   "metadata": {},
   "outputs": [],
   "source": [
    "import submit"
   ]
  },
  {
   "cell_type": "code",
   "execution_count": 49,
   "metadata": {},
   "outputs": [
    {
     "name": "stdout",
     "output_type": "stream",
     "text": [
      "Submitted to Coursera platform. See results on assignment page!\n"
     ]
    }
   ],
   "source": [
    "submit.submit_mse(compute_mse, 'orlov.van@gmail.com', '48EWDptT7hsZXYK6')"
   ]
  },
  {
   "cell_type": "markdown",
   "metadata": {},
   "source": [
    "# Variables\n",
    "\n",
    "The inputs and transformations have no value outside function call. This isn't too comfortable if you want your model to have parameters (e.g. network weights) that are always present, but can change their value over time.\n",
    "\n",
    "Tensorflow solves this with `tf.Variable` objects.\n",
    "* You can assign variable a value at any time in your graph\n",
    "* Unlike placeholders, there's no need to explicitly pass values to variables when `s.run(...)`-ing\n",
    "* You can use variables the same way you use transformations \n",
    " "
   ]
  },
  {
   "cell_type": "code",
   "execution_count": 27,
   "metadata": {
    "collapsed": true
   },
   "outputs": [],
   "source": [
    "# Creating a shared variable\n",
    "shared_vector_1 = tf.Variable(initial_value=np.ones(5),\n",
    "                              name=\"example_variable\")"
   ]
  },
  {
   "cell_type": "code",
   "execution_count": 28,
   "metadata": {},
   "outputs": [
    {
     "name": "stdout",
     "output_type": "stream",
     "text": [
      "Initial value [1. 1. 1. 1. 1.]\n"
     ]
    }
   ],
   "source": [
    "# Initialize variable(s) with initial values\n",
    "s.run(tf.global_variables_initializer())\n",
    "\n",
    "# Evaluating shared variable (outside symbolicd graph)\n",
    "print(\"Initial value\", s.run(shared_vector_1))\n",
    "\n",
    "# Within symbolic graph you use them just\n",
    "# as any other inout or transformation, not \"get value\" needed"
   ]
  },
  {
   "cell_type": "code",
   "execution_count": 29,
   "metadata": {},
   "outputs": [
    {
     "name": "stdout",
     "output_type": "stream",
     "text": [
      "New value [0. 1. 2. 3. 4.]\n"
     ]
    }
   ],
   "source": [
    "# Setting a new value\n",
    "s.run(shared_vector_1.assign(np.arange(5)))\n",
    "\n",
    "# Getting that new value\n",
    "print(\"New value\", s.run(shared_vector_1))"
   ]
  },
  {
   "cell_type": "markdown",
   "metadata": {},
   "source": [
    "# tf.gradients - why graphs matter\n",
    "* Tensorflow can compute derivatives and gradients automatically using the computation graph\n",
    "* True to its name it can manage matrix derivatives\n",
    "* Gradients are computed as a product of elementary derivatives via the chain rule:\n",
    "\n",
    "$$ {\\partial f(g(x)) \\over \\partial x} = {\\partial f(g(x)) \\over \\partial g(x)}\\cdot {\\partial g(x) \\over \\partial x} $$\n",
    "\n",
    "It can get you the derivative of any graph as long as it knows how to differentiate elementary operations"
   ]
  },
  {
   "cell_type": "code",
   "execution_count": 30,
   "metadata": {
    "collapsed": true
   },
   "outputs": [],
   "source": [
    "my_scalar = tf.placeholder('float32')\n",
    "\n",
    "scalar_squared = my_scalar**2\n",
    "\n",
    "# A derivative of scalar_squared by my_scalar\n",
    "derivative = tf.gradients(scalar_squared, [my_scalar, ])"
   ]
  },
  {
   "cell_type": "code",
   "execution_count": 31,
   "metadata": {},
   "outputs": [
    {
     "data": {
      "text/plain": [
       "[<tf.Tensor 'gradients/pow_2_grad/Reshape:0' shape=<unknown> dtype=float32>]"
      ]
     },
     "execution_count": 31,
     "metadata": {},
     "output_type": "execute_result"
    }
   ],
   "source": [
    "derivative"
   ]
  },
  {
   "cell_type": "code",
   "execution_count": 32,
   "metadata": {},
   "outputs": [
    {
     "data": {
      "image/png": "[encoded data removed]",
      "text/plain": [
       "<Figure size 432x288 with 1 Axes>"
      ]
     },
     "metadata": {},
     "output_type": "display_data"
    }
   ],
   "source": [
    "import matplotlib.pyplot as plt\n",
    "%matplotlib inline\n",
    "\n",
    "x = np.linspace(-3, 3)\n",
    "x_squared, x_squared_der = s.run([scalar_squared, derivative[0]],\n",
    "                                 {my_scalar:x})\n",
    "\n",
    "plt.plot(x, x_squared,label=\"$x^2$\")\n",
    "plt.plot(x, x_squared_der, label=r\"$\\frac{dx^2}{dx}$\")\n",
    "plt.legend();"
   ]
  },
  {
   "cell_type": "markdown",
   "metadata": {},
   "source": [
    "# Why that rocks"
   ]
  },
  {
   "cell_type": "code",
   "execution_count": 33,
   "metadata": {
    "collapsed": true
   },
   "outputs": [],
   "source": [
    "my_vector = tf.placeholder('float32', [None])\n",
    "# Compute the gradient of the next weird function over my_scalar and my_vector\n",
    "# Warning! Trying to understand the meaning of that function may result in permanent brain damage\n",
    "weird_psychotic_function = tf.reduce_mean(\n",
    "    (my_vector+my_scalar)**(1+tf.nn.moments(my_vector,[0])[1]) + \n",
    "    1./ tf.atan(my_scalar))/(my_scalar**2 + 1) + 0.01*tf.sin(\n",
    "    2*my_scalar**1.5)*(tf.reduce_sum(my_vector)* my_scalar**2\n",
    "                      )*tf.exp((my_scalar-4)**2)/(\n",
    "    1+tf.exp((my_scalar-4)**2))*(1.-(tf.exp(-(my_scalar-4)**2)\n",
    "                                    )/(1+tf.exp(-(my_scalar-4)**2)))**2\n",
    "\n",
    "der_by_scalar = tf.gradients(weird_psychotic_function, my_scalar)\n",
    "der_by_vector = tf.gradients(weird_psychotic_function, my_vector)"
   ]
  },
  {
   "cell_type": "code",
   "execution_count": 34,
   "metadata": {},
   "outputs": [
    {
     "data": {
      "image/png": "[encoded data removed]",
      "text/plain": [
       "<Figure size 432x288 with 1 Axes>"
      ]
     },
     "metadata": {},
     "output_type": "display_data"
    }
   ],
   "source": [
    "# Plotting the derivative\n",
    "scalar_space = np.linspace(1, 7, 100)\n",
    "\n",
    "y = [s.run(weird_psychotic_function, {my_scalar:x, my_vector:[1, 2, 3]})\n",
    "     for x in scalar_space]\n",
    "\n",
    "plt.plot(scalar_space, y, label='function')\n",
    "\n",
    "y_der_by_scalar = [s.run(der_by_scalar,\n",
    "                         {my_scalar:x, my_vector:[1, 2, 3]})\n",
    "                   for x in scalar_space]\n",
    "\n",
    "plt.plot(scalar_space, y_der_by_scalar, label='derivative')\n",
    "plt.grid()\n",
    "plt.legend();"
   ]
  },
  {
   "cell_type": "markdown",
   "metadata": {},
   "source": [
    "# Almost done - optimizers\n",
    "\n",
    "While you can perform gradient descent by hand with automatic grads from above, tensorflow also has some optimization methods implemented for you. Recall momentum & rmsprop?"
   ]
  },
  {
   "cell_type": "code",
   "execution_count": 35,
   "metadata": {
    "collapsed": true
   },
   "outputs": [],
   "source": [
    "y_guess = tf.Variable(np.zeros(2, dtype='float32'))\n",
    "y_true = tf.range(1, 3, dtype='float32')\n",
    "loss = tf.reduce_mean((y_guess - y_true + tf.random_normal([2]))**2) \n",
    "#loss = tf.reduce_mean((y_guess - y_true)**2) \n",
    "optimizer = tf.train.MomentumOptimizer(0.01, 0.5).minimize(\n",
    "    loss, var_list=y_guess)"
   ]
  },
  {
   "cell_type": "code",
   "execution_count": 36,
   "metadata": {},
   "outputs": [
    {
     "data": {
      "image/png": "[encoded data removed]",
      "text/plain": [
       "<Figure size 432x288 with 1 Axes>"
      ]
     },
     "metadata": {},
     "output_type": "display_data"
    }
   ],
   "source": [
    "from matplotlib import animation, rc\n",
    "import matplotlib_utils\n",
    "from IPython.display import HTML, display_html\n",
    "\n",
    "fig, ax = plt.subplots()\n",
    "y_true_value = s.run(y_true)\n",
    "level_x = np.arange(0, 2, 0.02)\n",
    "level_y = np.arange(0, 3, 0.02)\n",
    "X, Y = np.meshgrid(level_x, level_y)\n",
    "Z = (X - y_true_value[0])**2 + (Y - y_true_value[1])**2\n",
    "ax.set_xlim(-0.02, 2)\n",
    "ax.set_ylim(-0.02, 3)\n",
    "s.run(tf.global_variables_initializer())\n",
    "ax.scatter(*s.run(y_true), c='red')\n",
    "contour = ax.contour(X, Y, Z, 10)\n",
    "ax.clabel(contour, inline=1, fontsize=10)\n",
    "line, = ax.plot([], [], lw=2)\n",
    "\n",
    "def init():\n",
    "    line.set_data([], [])\n",
    "    return (line,)\n",
    "\n",
    "guesses = [s.run(y_guess)]\n",
    "\n",
    "def animate(i):\n",
    "    s.run(optimizer)\n",
    "    guesses.append(s.run(y_guess))\n",
    "    line.set_data(*zip(*guesses))\n",
    "    return (line,)\n",
    "\n",
    "anim = animation.FuncAnimation(fig, animate, init_func=init,\n",
    "                               frames=400, interval=20, blit=True)"
   ]
  },
  {
   "cell_type": "code",
   "execution_count": 37,
   "metadata": {},
   "outputs": [
    {
     "data": {
      "text/html": [
       "<video width=\"432\" height=\"288\" controls autoplay loop>\n",
       "  <source type=\"video/mp4\" src=\"data:video/mp4;base64,AAAAHGZ0eXBNNFYgAAACAGlzb21pc28yYXZjMQAAAAhmcmVlAAC2rG1kYXQAAAKuBgX//6rcRem9\n",
       "5tlIt5Ys2CDZI+7veDI2NCAtIGNvcmUgMTQ4IHIyNzk1IGFhYTlhYTggLSBILjI2NC9NUEVHLTQg\n",
       "QVZDIGNvZGVjIC0gQ29weWxlZnQgMjAwMy0yMDE3IC0gaHR0cDovL3d3dy52aWRlb2xhbi5vcmcv\n",
       "eDI2NC5odG1sIC0gb3B0aW9uczogY2FiYWM9MSByZWY9MyBkZWJsb2NrPTE6MDowIGFuYWx5c2U9\n",
       "MHgzOjB4MTEzIG1lPWhleCBzdWJtZT03IHBzeT0xIHBzeV9yZD0xLjAwOjAuMDAgbWl4ZWRfcmVm\n",
       "PTEgbWVfcmFuZ2U9MTYgY2hyb21hX21lPTEgdHJlbGxpcz0xIDh4OGRjdD0xIGNxbT0wIGRlYWR6\n",
       "b25lPTIxLDExIGZhc3RfcHNraXA9MSBjaHJvbWFfcXBfb2Zmc2V0PS0yIHRocmVhZHM9NiBsb29r\n",
       "YWhlYWRfdGhyZWFkcz0xIHNsaWNlZF90aHJlYWRzPTAgbnI9MCBkZWNpbWF0ZT0xIGludGVybGFj\n",
       "ZWQ9MCBibHVyYXlfY29tcGF0PTAgY29uc3RyYWluZWRfaW50cmE9MCBiZnJhbWVzPTMgYl9weXJh\n",
       "bWlkPTIgYl9hZGFwdD0xIGJfYmlhcz0wIGRpcmVjdD0xIHdlaWdodGI9MSBvcGVuX2dvcD0wIHdl\n",
       "aWdodHA9MiBrZXlpbnQ9MjUwIGtleWludF9taW49MjUgc2NlbmVjdXQ9NDAgaW50cmFfcmVmcmVz\n",
       "aD0wIHJjX2xvb2thaGVhZD00MCByYz1jcmYgbWJ0cmVlPTEgY3JmPTIzLjAgcWNvbXA9MC42MCBx\n",
       "cG1pbj0wIHFwbWF4PTY5IHFwc3RlcD00IGlwX3JhdGlvPTEuNDAgYXE9MToxLjAwAIAAADJuZYiE\n",
       "AC///vau/MsrRwuVLh1Ze7NR8uhJcv2IMH1oAAADAADVayF8oYJVUBjg5Cl8UC950wnQObmxLpMS\n",
       "eTd2N1o7ZvU7nZLqidQWs9IRqH4qZFuUNOvgrgAArGB7WlESNB735J/CfrjEy3i5zjzWx5r7oD4b\n",
       "7vRGf5YZpSE2SfCltWRnqtLPBS3FxRjhpp/BEdar5txSfEu67R/ppgZwAi2i8ff512MwmU2ndVwZ\n",
       "0/IypwbXeLiexIGKwjGLSLtuFQ6Y/OKysfXRdbpNhUrKtfRj7DGM8WCX1Bh4c330WAw+R6EXVRFY\n",
       "lu5UH1qoQzyL4+ViaXbsk9e17GMhYcjYQ2ErNh8GLHqFB5yll7cH5+/ATt414OGqKJBfavN2H7Eo\n",
       "MYMyQUJm9f6njg6oT6RI9deVwCrdBzM/Sz/x8vLmA7OACvEgs7ec3QswOORd/etOu0E7t7VpiB00\n",
       "hKHHIDZREnqwvaNj69QpwDqX0pss1cRClh94zlgStU4c5yUCVO+HQbSt4HAXLJj2f9Btb1Gp56ii\n",
       "Oi96XZV1x4KhUxTYawQAUfjzsl0QevSEuVTVlSNIsvo+7QD/x5dqmV34q8Y/e22ByjofSHxpk/7U\n",
       "JlOIzg46ZfH1hLZgWW3R/niY7hJcJ7T94UsjfEkSh3TDgfcD17lLYnCY2sdzwQUX/M7yx8DlUAxf\n",
       "Bf5jCXE+1+wNMg1QAvfybm1SjIO2TPl8BU8XJsElm8w528BUCYhGy7qcnRnuSy6QxEV7zgbX58W4\n",
       "OX++3kHg9QTGgyx+9vVBAdT1fCClHX4ANSaqmTCW59ftwD0BujqkCCWkUJ2w9uAMrIdCjsnjVQgY\n",
       "usw2C1nI5upe6qRnHhMYO+//zOhJwy3GFabODqjJ8LP6JD9HicRvbp/KU0u7QNM3PDeCZGEppIp+\n",
       "d+A0U9LkqJcqlVU9QxjMxe4V5wWiAXVz7X2hUEkcgvbIBu6DDirLSkB6X62ytFi1xHsjrXMwRBoi\n",
       "23k/4WJeSt9ercxBpim+OztNcFsiesOQP5sSGoW5wkc38yjAPbcq7Tdzbk/IrDDaOdxl5A3HGLvo\n",
       "zZ1BGOReneHzeHg/afksZWL4VFYt54t3/Hf9K1pP0qpg033ec0POTLSV2EuXudGEW3w0++tbXV/W\n",
       "TzfL1OHthmmQR6IPVUHFMoqzp1QcXRtQTOdfyzhgBiRX5WVO85tv8+La/kmO0HsSZYHMklOP3co5\n",
       "QDWHzfJAv2xFzpb4zaWMSFkI64HEJiEbYjDtCz5R+5934JrTITw/HoIDDZMsJDKJDy7tEPbaSA9e\n",
       "Rs6mLK1h7v5ilXo8fU4zXpoO8DIuXkGCPnMytYPsejoVgG8/4hV+pdupgbZzrYj2YP/KOAfFDlCb\n",
       "c+Afko28P+APuNw+AREopUusHlOjBttYqMfZpF0lXHnSyZGaC4E/9t+DTsSLLdxT7j02EJ/DJYcg\n",
       "zlbYlWxHyR67M59DOduDXxQ1yVc6Uv0xHmi8cZyM2klmNgFAuAnAXoBpK89d0ninH4c+/x3zxCND\n",
       "gVwld+ZkhAQLOdusrHeV3kkduEsmNVMMG/Z4jzBVquh65pjovblc+tWCuZM25L8WnssoH8vTmfqk\n",
       "8z4vSza/UA18+dAwWnRG9TaD1J9lDGVsI+2H5s+SHVWANZOLLVmeWQLhlKcLusWsnTy4W6Qc1hK3\n",
       "lWy4lqZwoLwKwRWbX98yP5cBLAAAJoy3FrpsDsUYtE3TL3kuxuFVvIqfYjjoZ3q1MFTJsXRq06LK\n",
       "CGXjzDp6hB7mkW+cUnSDxxWGDOoq2FRt3I6jf4pVWCtbujN+OSzPO8fJfMPqmvW7za2IZNH4Ivtm\n",
       "sJzTRzypJjeyJ0gkQxOt04Wtpk9pR8wFijYSlPAPe/xLLPTGlzVe4z/sJ/ZxT0sXez2TFb2HS+PN\n",
       "5fGrWLRo7iTiPCfUPMNtVVeW8QLshluhtUxaeuzxL4KRaXWDzZPD3oCZy7l7PrHjbnsCu+QniSLg\n",
       "8rdR9xoYbwUQ5YwHF3/Nci+zL1HxGZ4L2fog8TyKfh5YrePpnYaER/liN4NOXHG3TyRUAHQPEB+O\n",
       "0fmDCiGW42CFp/SOdacVMu4hEherC3AgxrebXZ6lt57G1D6yYyf/mXSrjlMM6aD8AzMo7YaVi/1Q\n",
       "riXfAbGXkxyMj9BfJMwbTj+GynyOugQf/Ri8ucxRM1dfn2kFerYby85cHDMQ9lc0dfLgioxLGqWq\n",
       "oC8rjPsjgmTYbWjjaA5viU+h3WQwUXncbJMFRQhDbme5/pstilZLsiuxC7ZL9VVppiO237u2tvTB\n",
       "5O/8XFIx0/TJ81Lid1cz77odgSOfPeXtxPbE5SBBn+cjPtwUOxtNkNL/OuX1ZKCfXJ5aiJfNNxEK\n",
       "D4e+kd6iysnSzitkRlLacXr7s9KBBllv2aI7NxGNNB+3pp85KO0OCRRDsw7GYBJFOmiviotN98fv\n",
       "2v7QdcgTYb85gFHBdRQSt7HxjJDk/w5CdMPF7EWgfeHzpqvABLah889ax9+imBMblgPrYaNqv1J1\n",
       "XnKchWA3APyUoBO4qNFdLXG6CZBn1McudnDPTfhmtQIMDDg7aUsx4YK15aB+nq/rZIHoQfXJOdfC\n",
       "zMFGuZut1ezWPRkPdrfmFbb69AbsqSG8ce5lixqUAxoRYZlB7as0utiunTvSauqfa0rMpUAVXLxh\n",
       "AvM7ve5ct6bpU3I6pDH2Liipvmm6CJ36P4Q2bErgqNdVz2PS9ebtw9Y5teX/nqV85RZdGzRifMIC\n",
       "0zU8GUebYKDN9+EEwQxkfCV2fhSi+XMCQCt8OqcFOKfm3Ze0eSfcFeBM2eF9u1QBZnSjM8ujHu1u\n",
       "ofWurCo3bI4uE7KiiCGiDfZOAahRluwQIip2KprEJVRNXyv+5qrTvRN+1OyIMbbeDZiEm05erue1\n",
       "k7Dl9uFkfPKCqrzftDROAKlgoLlA6r2CsAr16w7wapAs1sr3E25kvHP5yrhsvf+717jJIxZIg20m\n",
       "g1UjFgHkAfhl9T3pL1prSlWEHCQ5ocN78Fs8mZHyFt1mw5u2wAqyl56nKeu54bJIuU+SuKN3Ljx1\n",
       "M4npOALIKZiyZdPWJ/CA3h1la6apYFeCQ3ZPEum/+4TIuhV/q0CavAnGVShMlm+nMDpaRLime2ae\n",
       "nOMdlF/NgoHSd+5Fs87L4bpb5qo0xBlYF28kH4rgeEzrxMfQFcUwFdScj4JdrB/JhnY7vW8EPbm1\n",
       "s2QwfRT1o44OXeO3FByaOGcg1P+wPt9P0rEFYOFBzEliVS6TgzgB9N265P+S840oDOQgfCTqU9v/\n",
       "ed6ifJ6zETWcvF7c1zMA0jF3LVoQmfrOXLnD23NjPL+rBNW7SbqI9G7y99OyrZnzf6QqtLO1w9N6\n",
       "58VkS8Y51bU3fTOcTWOELDP6t6r1JjZswjnkF9QQegjGT8/4Iiz5gUcpfpU04+VyC7qZAv8Pcg0P\n",
       "bh5ENIJF3sRsYnO0T6o/YbsQk+C+Ce7Qe1kXS/x8dK2fwPsxtUU0qfWRLKmGK9j2kuNGpqOrwyvO\n",
       "lJO4t0GCRWe6NxrWkVl6+NNeT3Sz/xF6AAM/QDAALkZmYua07V2WqW0rnap3t3O66zhOkWBjwVfZ\n",
       "lVjHX3QGVBQtZnMeaICsqZpvi28GZZvAhVxNR/BEEEqbO7tWq9yk+vSzp/LW7d1X1tLGPORAqvLn\n",
       "47oFNSLRj9sS3Zi6AABm8HrTkcQxZW1jPvCWMr4AxpWpdJ5u8h1XplIShsuqKm8qCeg+yEcx7fjF\n",
       "h5x9aJto/0ufSFy9KcXyxQTt0PhpgN6eHv/Wl8Az6kcUG3xaVQUVqLYn70ixpJhUpPl6xv5xLYGP\n",
       "MKUsNEq46xfbuB2daoaUgPKlHqrjCwKhs9oHazpS0ksd6NzKsohPlQVDyqbjyYmwgwXDAsXdJLTV\n",
       "U292pY5NbwVrZxuDP5kUWtX8IN+b6Kc7TP3AT28QWwZJ8vJR9e/zkixxstxXkUYEwrNx7gy63nrN\n",
       "BiiGn57ZPSUh9WdeYzh39CVWi6tH1+XWmQmZCMYPZo2Bn2Oyf+ypihq8YEJxXWysOvJBldQIMrqX\n",
       "s0Rf07rPRxJkFJ9LJlDMLlq7biV/1PfrnxTY6Y4FJvkXkCRP+CLmczCUUvleQ9fY18lHtvlm2eET\n",
       "p2CRi9X7983b3cukYdgP18DMhtesJYRWvPTp9ZDffeb6zdAbVoxKaqeWAxmnKvdvfAs70QuLp8RR\n",
       "QVZEzfgBoOjHOhnmYic/7Oh+gipBkL2hQxbpnn+oFakTMsdNajBOvAX6az9mTqTDnZPZtFW6aroM\n",
       "BaOJFF1bZ79bISB//mPfegJMGlEY8IGYKjnwcVd6eOEyZKPkKerbuyjQIhFdjScZhhDkA8t+qli2\n",
       "sofPozVuUnRruSgZlUoZuAg/HpD+lLRrsfaAyvq0PkAWII34I6TNe3Xj4/Vgi7Tk+ce9MX8/3clw\n",
       "VVxSwBoR7Lq8YzEMSHdAkvBVp1ioScrmwG50vgwB4V7oAn8QmSnjwKR03DS6gJvplYiPNk5P3VDn\n",
       "IT/yFIDM0gJ+DDjmcjxUF//2fOIM6sDvJqg9VAYaKu2HIwqERRFbv9Ks68oAHRNlx1I+YTuYd1dR\n",
       "fa861XIb5G6nN8MkXbj2va9xPYyHwh8UpX3hPbX5MPUNbJGswgJD2IfNKVnuNfVv33Q4WamBzDTl\n",
       "vjoWNWb1bBtmX1zVH0693Myjm8XmDd6vCzCrrhxnfpLhQ6o8RHR+k+INyY7eqDYnC8hEReE20fpz\n",
       "ZVN28Bcq5qzM+B6EVi9n33M836L8VM8quTxzCfII3e9Yu/cC/wJNQtx4fySmNPvRxlesX2ll8qn3\n",
       "fh1W9Uyhiu5BxcrRQg/ZLwrIacTjdUsnzake7IdSoAKubiTuCJqEJb+jEegyOmYK0qoDcvnYkvL1\n",
       "ggOIh8Zyl+eqLsBvVJ8Ltc6sxD3/DQhHlGOLWYwxNxzdrisP2N/CjgKkdyvjVVM2A3T//PpDv7eP\n",
       "me3NBZtJNQC1D32RyManXu2aDRSSWv1+ivRuHeAU4z3BvzgEVFG+QihzHZlvFf+InascdILWGYiA\n",
       "4hy8MuaTRpJNj8B6md6aGNq8n/UqCZ531QCQWN8n2DZQXEHs/vok/DS9bIJoNLL/d+vJq2IRJ1V7\n",
       "EzhSMLiMJy8gKMhUz+BOsbBW42VcZdzPFKHJWyP8XN+vAqhbKqbmKLR4b6YZkkCQa4JO8KVQo0xe\n",
       "499J95Q8vm+9KBT8ecX57h1OhCkRpvU3zkOZV0wneTPN549umwEp1cjqk4joSo9rndmPZeHnx2a6\n",
       "JWCj7qBuSpoYbz1QZ/NcwiWg2nlhx6iBplfjBrXdIhRoU9/1N1cdxfnsLxx+cAdYO0L+BnNA7HWT\n",
       "XDFuR+sZEH5qxsYcQd1EjOBE/83EnO36Yx1uiH/i8M1JtBjWYhm+XBeNikJ5Ls4QuuPvXNQ78GbE\n",
       "KjziCjyvGf5+sxOV9DhGeTJLbakzj7W40PmcrdIDljJTWNaelMkRTyOzKQi+UtiZeN6mOLcOY5pC\n",
       "i4fUvRUex00/xEN0oQCR5MXkgr3JgkobS1n5G1T6piyRs53dgdkfy9kAeopHzuw826AY4dNGrl5H\n",
       "+ka8E0/bQ5G4mq26LMebv+d5Ngk9UEmuG6YU3A/2BMagryMX7DFfECFtXUWUandR6CTAj0qQcgJk\n",
       "bO18h13Q+9jHYTyazQTZjy84ORmmaEGwPuGZsBPmLTt69qTPBnj4g5BnU37L6PYWWBBP5q7l4u3k\n",
       "nf2bPsRfCUFtf5ZNp5eQkhh8pLeAJwcqxpgGGxGbHW4jfXAnZ0UUaYfSK/q4Di02rL9s4mWHL2vV\n",
       "AMT4Q9hq8KyGqkYJm0D53Mw9fQo4muUKDyiFkNloCKfa04LXUzuulBVXfFlJcOC2r/IA8A4HvzWY\n",
       "OqF4HIamMBRU/tuIgj8gVQuvieMrvgMz0cV11NRK5HvxwHx199oEAxZu/Bf/NX5nMAu4WfIvgmmK\n",
       "5FMkq8fqt/TJZ0RVQaLQZMXNMUFNm4tCkYANfHkKrHQdgGpaMM4y/vgTb/Qj93SMYgZOYGPqBzQt\n",
       "ciFfkQWdPjRMW9aBNqjFoI26SGRu2MS+9+NedfT6kgL1FQ8qo28a9zFgpZgsQM4IaKmyoLEVR/tj\n",
       "j23PKUBpJywuZBX1kSG4BN7eQB1dn2VpfTrubOAj48bAkJmAoRZjW5VGqAKKEmLydP7viZG7hK1u\n",
       "EaDq6C/Vd7zq7hHG3eVofAGz+xpAjCvBqzzVQyNc64oDEDRNBIFRuW0g2IF4HArMzSbrZP7aUbsY\n",
       "+oOrpAkRrjNFmwbLR5zCdbNyv63zDXyIrHETa6/1lIxjQSTjP/oAIl2Zve05/tWPlScBmXb8HI1e\n",
       "XLqwR4Do+YdUkuMf8psKTVmCv/+fJfm0M1aRv93o0ekkArZ0maYivg1eQ9w3uiIAm7jhWcJEG8jt\n",
       "hNhHFU94DT02UOkmUCjlKAG4BIQRg2cZ25jQMXeLYTLrPSTCMCFurnC3kviYmro23YLMA8fYqGIh\n",
       "/C6Y6QQ5hM+KB4f9SU2eLptdkvrqL6y8chiBi9/cwqNm88Pd3kLhnUq1mVs8fuMsu2crfxndkN7r\n",
       "58cmEqTIotFfgv5L26xbPq9ZO4bFfKxeuxCL7ZCoRZxd++JZz5TDNBTH7H/dL1lWusLTD2PLv9N3\n",
       "fS5sSla85FOzFjJeQMSMVJf1WkweeUATbGogyiOTqPe+UsFsCc7BBhd+485h0Ku3SiwxN+ZIn01j\n",
       "HhibvuyPJsxnF2BdmbPPHvCTW/GIDNFUysE29+CWW1ilr2bDysblCsPT8eR55ZAFw7p/9PwvQ5lq\n",
       "5tHbltpyONZFD0lMErbf8KQwZDaDURpkNcjFMDBUc91+scwtql3R8/QW56dn+lmo7NdFlQAc30lF\n",
       "ikEFEmceQllGrxFJ6crcHDnefeP5G3AcaBX54yEvQp9mJjNs6p98abUmpFNaODy4FNv47cpounlZ\n",
       "qD8dEnWj3ORrk01rbqD1XTVBDJaqqTGXEX8jtdOs8jqhemVi2cH7L9a5sm8ImL5k2Mxcr3BLr+1L\n",
       "Mp6FS3vKpzVl6pJVuJtWajhnVNMnDycz36Wf9SvTIZAJ6o1BkyoO77IwvrdxD77qL/sriSxyf2mX\n",
       "Y5Cz1KdrfjwknbcAD5FiqgFq4uzLKlqBwDV3uMCQKoEZRWqR5fyM94rU2TLk98SGoYVg2hmxMg1w\n",
       "eK1mQdK+yE6zsXredDlQxPglywMlnTpe+99IM0d3C2OFYKjlmaYXDFMvlDRJ/nge0CicGR0rmZLa\n",
       "BTinyEblW2z6KKlQwR5vclSnqnBwjSixeUmEAZrr+nbJWtNhUxcmJPLZM/mcMM+jXBURTT2S1Qc6\n",
       "2iKA75aVvyxG21Fc5JVoV1A/BFdWGaXFb2zuyH/FwAQBtHh8nPBUiGh0Y2scNLFtP9axTfkbZZ+X\n",
       "v00BZZtgJXy+HNn5by1fGF5iw6FqN6ys1LxiW2z3qH1mRaNX18PdGBvN6iRQM3fx2pN+hC6FaS+r\n",
       "/pxdQn0/Cp3ZTQziBRZpdgt6nWIfwrCwMdwhs7Sb/rHQT9IH1k13sMz9KqJLwBQO87DNg+P1X5Y/\n",
       "23TsiPJr7Rf2NMOAcb/+HgC/2tGX1dmTqilHuQ+vuqz+21eLc7BYPeNd5P+jAs8qbXB0LUTEZJYY\n",
       "DqlS94asMW+x7klCulEOlI2FuYdR0yUW6/jzWIh3pD2MOnONVUWtQD66KgFQDbbwC/u+O1pz5N8m\n",
       "PMjPjsVLvVFAvIp8PZczX8ax86DTCF0IsHeYZ7Ed57QTFDEy5WxxfkaYMsGy1swZQav1phez6fWE\n",
       "dLePbTfhi9gcApqCheZHDDkS23o6ohuxMH/xHEPfo5HtHk0JviJcStENr3OuoS75vxJnYEsGDE0g\n",
       "WbPPVQABtIqfuHlZq+90DJdwC7NbtTNgdQVdK1av8zzAvFiu1NgOGLlHN8dBk+NWy+fDJgOG9Xee\n",
       "l93nwHUfqj1biWGMgMQedL83QohuKvGfBPmSh+RIlKk6+73pkpa32gr6JSumTeMKXAlBxY8Ubucd\n",
       "FnRM0MP0cmEyH9RnG0fzgXLTXxsffhxRtXBhMGDBFxIXL2d1OLKAgzR7tXvB7ofCQu7YkejtdkVb\n",
       "35wu0FW2R9kJ4sEsfCjo6bhc2n62WDLbjqBzKBd7NMcHtz794uB4fw/i54xnufsPWtoMMUvU8bz3\n",
       "0YVBmDAIHFPKR+8SF1hC07Eaep6f4slM4Qi4sKgDdikcQHKS6JplmDuOKgT+7aYnRCI4n2QrDHl0\n",
       "UdND8A2+lKBrQ5WQbzQX6NJvCS+NGZhe68mWMffE8MZD3TrS50PrD0l68gIi+k6suew/BkLMvNV5\n",
       "gLFEQYCnvRsP5qf18LONuub62frn5Lzs4MQ33RmIMh/3JTJTfHScbBB+N7qUOApEgQMBfN+Z75in\n",
       "DVOWcO9IPHiW0kTmGnWdla9FrdjZDX+pOa9AKmKobjEdLCDr78UvNSZxouocwNeAEEgrlyfk5IgH\n",
       "XQybgwYvo6ma/cZOQOugJTys7Ean3D3T5lmHr5hWwkvvxPHHCejt2Z5yjXCSlfYS7skjxCkIE41U\n",
       "yE6wUCrSzr0Sv1LFzAbmYAUD3VtRdR+Kn2Yq2eQMnpaEO5ZXBm1g8/LkODzdVbJ+ikQ42vFjrS79\n",
       "1Unm7donFN89R3gZd4KH02YLz6lv+NrG91L9JdlPZwuAFCYN34DfcNlM28O3/GyodHN8CfGj+W5+\n",
       "OazMrebZL6GVJ7ztA+6fAPkvWZZ/0TGJedkyE1Jxf7M4oO/cUPSTdaPOk0ayOb0ehieUW89N7GP6\n",
       "jabK4Z61fcF2tMOhTXqR3AmZaZXZGUIUq/MwoPZ0v3Ca2qm2G/7P8R4wGdEwMshFZOXnQYUisjKa\n",
       "9n76u+zkQDDDm93xQUThbcaBquKT9HZ9z8UbGZLQG51f8Engq7ul0np8csITopwLTvWjW+Ovhalm\n",
       "KpC40Asv7YhjAUQbIVLYpCBF2f3wmLjCWHZ772IJihuu84ScEqZls5tqKPw/8HYHKUM03Abkj8uB\n",
       "oJgNo1fXMImB2HULoCOSwcypLlYY+jZ+0n2DitDIryub+TA26lFTt7yxMEEebMlzcBrXXaYERWAK\n",
       "Nrg5bfN3ppFpwOz9AIM8ujbRomkAgPuxZV/KITEbHpthaZHkgkDy407M4WEYrsgQf0qb38+DtxTP\n",
       "SccMQsNpWSCZ3cNxJBTNKvuMAKAfdrlx/kTU1NBNDYEihcnazKqJz+aWlOQRrXmnlVAYL8nE6z6g\n",
       "IdAGx4zX5xYy/9jm2wzvCceecxNPL2te7X+hb87ccN+Xxx1wGWGKMu9eIBdPgrR+QrXY0C04BPCN\n",
       "RN9CO1EfS1n+5IeRJJ5P1Jw6vrM0rGWw4JsdSO/i5tQWJmCgOhNZ0wSpTHVKJ2TIz8A1T9Ei7XLa\n",
       "r7UA7YWxhurMEqfT3Pg/MdtuEpSAFCkyOa45uDYAus424RSHGJhjMX5ISXw+mlxDGlSBQb4d9onq\n",
       "NONgri/GvsB2kEL2Xnwo5e/2z92xhDMaLLhm07Mp8fhPvnyemy2SeeVhY25dTCU/6gmIjnL6eYD/\n",
       "iNs8pgyPElwqcvVcheGo6UBgddEmq2ewNeJCMjH2t5eTMwc0UWVR94/dVjE83SWHI3LGQZOrDq/8\n",
       "JutomOVw/aR25nhCm38ipCNQF4O40awQb8f5tAMdgMQcbKSpXOldnQs1pedf0J9yPok3thaEWAek\n",
       "09hxrGi22c2Su9CZLdnNKfr+KTuY51+YUNDAMGTScjN4eb0smsQNV2X+YsqgHijbaMf+DqZGC2om\n",
       "F1UA6eHCQu9o+NGxs60bZxPufogptYS5LGyCtOd9CDwjSgKTr5v/SqJuH5ozYHAd0nXud4gFpj0p\n",
       "cnIv81u8Dx4rEqNu/WGStUawCbyYyArg6474C/oReDV+Heg9+rHZrzafYB48TQnC4tQlSz366yV7\n",
       "pXhheokR46mu3mJrhLdbNr1cL7FTbNTN1x8TDIDZR8F49iyNFiBJm3hkgB/boV3fp51eFbFrJh02\n",
       "s2MFI4Yi0Cya5i3j/saovjc1VBGoXxunK3vuER1dtKLR62D/0oJU1CXdddc4+2oiCkD+CB0aXJws\n",
       "p2qU5dgijOzYh/HGUl4dNJovqw+c3QKnDDJYX8953sn5N4ApnPv+Fvupm/NbfLTUeYZlpW7/DOuB\n",
       "SI9jA9de7z4EPjF9FSNFNn2fMwmdjEYEyyEhexhOOJlbyi+B1/ndiOoQvGA5Ajmix42wfru+9wMW\n",
       "SRrukUEmLpW/eVuzkFQUcHHUl0AYFzzIzS3JGacLWz0Of4hf+S1WC2qsqilG+USTJtOYX0nkt0gx\n",
       "xLRjPjrGK88St5JuwRfcthPJFoN9d1pO3gDi35LPShKLiFx9Pj4wiJp5odCwZp+53P+qc7YjEvTQ\n",
       "xkMQqpk4+qrq83/yu0MIzraXUvWThpsB6tZEOA7t5q6xZWnAXJJxZ2NBVqZHRA7pMKOJFMqyu+y6\n",
       "HpDzhBLUcgsd89OFRRAbmtF3uHkihElqgnlKiRVjh0Jn7Bd0nzDtwdp545uPiupf2oLbxajbEoxN\n",
       "gIZYo5EE6x3AIeL+KGy5ojDK7WKNmpKsTPfVeNSYPq0hv6IYQrYAo4JF1ImkmLCC74rxJVb2iJhH\n",
       "ChJKSkRBzUDuZj4qNRbFUiM3BNZnchg1LqGXgEV45wcRVIy0Cu7HuHqVDq5vOMnwJbxPJWy7BJUl\n",
       "nvVCBdEmBIJYIVfXzRPdEHrKFgcCND9Q9nG+aI+2ybZ/6EENfn5O2ktRw9QEoikTrhNCnTJmowsn\n",
       "j5DcaFphxTj1tVCmiFUQnx8F7tL/HZeCkMHvH4AiE+hFVRm3lKCwqMPqHqwbQm67v7w+LKUJmrJm\n",
       "GiINJvx8AfpAOYpZPs+ucJ3/n8yUPHQbL4glEbloMnMaEd9/Kh/B52IQUigNxvMbdrlN6Y3PwYqV\n",
       "Iqy0CZwDjqVFEPyRxvGmbhx0R9cUdu3HlZJ6uvPMA6Cbq7ZWkf7Qv7XjCBGo0osVzP/rT1iAiekY\n",
       "TZvQlluhAiozOvNSRrL/IOhrwdhBqA9uT4Y4ydp28HU6DWws2geNnOKA9aXtPHBJNhFHw4n4iNsT\n",
       "gk4gRKKL8w8yZT64I4iwpgu5wNvpwAJi8/XqNNX8SW6XhPkYC+VOGwhJRzX5yJipTvhZgXi+0CEI\n",
       "a4GKxhaL2svQQZMxvJF82+mCsbjl8QYfrGhylQVOGbcapR7seJPlgpa4q9BmZX/F6x7cJbPg0qEq\n",
       "ZIjgAmxEiBCEtSClenASm8moqWKlhK6uRu9VgkAXgCqviVpZ1kCym/YfqpgGXEtSLDrTTw3RX2EH\n",
       "uGU4kgx0d0OnGcbOAOIgFmx86sG83j69JccqRcuTuwhsbNm4FJz8SMRffGvIpa4TU6kVtn9rcwLJ\n",
       "7zewNqoB9jdj5xxKUg30+uIJkQaY1ajsKn9R6h4ogPPLXOHYT8PbumfmuVTP8g74mu+KAXK+rdXU\n",
       "tD2Lh3XzPOpN+wZbnbamAKUoQOn1aak3jOoEnidZGnTAdIvAmB4usAqB0RQoOQ+77ZVAA2Gi4xW5\n",
       "XcAYAm7N1Bj0A+BIfqKM2jOZOxj7wPlc4D7BvbW3IitTDHkbI5gx+sKtsYBe6tvw/KZoqHJfqW5f\n",
       "RWcGuY1x2d4U/TNYUySkbcHEuMTqVzFgr6/hzFgEee4KluoQoGOznDTpkX/KKFnJiAPjOsJHjWcE\n",
       "uudPcQbMBnCs2iayvJptroZ+IGmXRRdUVUMxPMvO3Va8U3DMGLTk2HOoBFV5SdwvVTIyc2Unz/7l\n",
       "LczaxK23TpQ3cI+n+iJgVRepJigU0QBmpU6z0PsUl5qHieZZffAm07/i/o0C5JiCtSrs5k/cTHPV\n",
       "u153QuR/4hmF49oMrw88WNDSpCk20BjCLfdC8r7e90dJ0GbHUawfs26GZDEaS1cufeQc6YsYqDXQ\n",
       "vVFImAzkoOwggMvlybeW+ybzsdx3BxjuBzQbJTd2Cy4ctfFXbnneXc7f3kHIw3K46xfEkJSiYmIY\n",
       "CK3rIBeVzVQl8761qp0z/dv1iMUgmi+MsSfSglDXLVt71eX5kkgBYMxucubh+bY+k1VNqUi+vfdJ\n",
       "Pnh67+E55Cvy/sT+Gi4h+6TbrTi+jQZrBPwLxPasGw4z8VtwDl3Chc3/OZ7FLRIRWnb07kQy5I7C\n",
       "6sRYn9oW71x97TzFtQNrFFzMZdEP6oehHxLzTFpa0Rq81ZcQu95rINR5Fth4AWeKbZMVZ7a+PLJZ\n",
       "nCuRS4eiy0lCGb+cIF9qydcLYxioI3KDGMlggBaFY88HvIkpAbcUuFILDBAJlvWNXaraOPi6jrni\n",
       "cegb2SfGZ8uOsUsUulKtg5WAU+laLIe0DSI64x5xV4CksUHhi7Fhb5xAl+mq3tqn70aIqP6TkgAq\n",
       "L9qcQOHVy/KE0WSlboN9/qUhXFVIYcFtWRgBqG/DCdV7cq+axuGsBdKLNW0QmYM+L+bnMtT8JzaG\n",
       "VOZMXcVz/yA58dei/6Prv2OzsrPXgUk67N2V4gAiWPAi7i5Cd4EdJZ2CMeSVqHKH/nus13/hmhgE\n",
       "00OZGQFKzxn1eBrYTPhjzQGr/lwD0CbS3QxNHnEguXDm520bFJoLlvo4k0cI3ltbMpF1hmo7f7+Z\n",
       "DqHVzGt//VmPO2qzKuWE818pTwbdrmaDjye6D3AOYA0bZJbG7MbqYeX7yd48ROC+1lLKGuTL7Obg\n",
       "sqyRJAN8mTcWTHYJvO1e47QOx9TiLI2m48i4M6y6Lp8FzSkNv4tRCT5oimlhhZ0Me2UuYsLr5SUF\n",
       "WZMT2EOMxBuqjxjV8QQVZjFRBaNWk5y/y4RJHrVjvlVs755wu/ktaQ82mqBvIzYcPWfPjng5tRpN\n",
       "IlZxBbwLOth7XkxSrzXy1s7vsYxtq4An3Nv1n+CbInfl+UDPVHC+RFN0ZQUsMLuo6sXoWt2gZOYH\n",
       "X0cr3n/6EkmZQBIf5fda6XXiatrvowvCP/BTOxs8X/7ajtVDVV1opTfMzAytdcs5WCWjkFsqtL7X\n",
       "eDnxkyIV8JKlalkBAJgXn2M3Vx9wCAUPZ/fhfzi7DOO6CYhuDepAubgdD8N7si6OfHlB21tQAjJv\n",
       "XunhYTUk0dbf4egg32zBldJSVWS2kE4V4nTNAxM9ZTW+kXZCG3OhjWyrWCGm3KUbaPgkOIh5NsPw\n",
       "J4cXj/O6LJnqTKd5lJzjT1MT+0HO20RojwAAICld8xo3CwIxux+RjxZzpgSl8lJYTdPsS3wazYRU\n",
       "xHASABEWTTenesR7Rz62/oOI63ozp1uGbI5atKuEwaPmy2shp1flkCebonzVpPGtHvJS9rwUI1h/\n",
       "gzkLCLuVk0j6tPo608mdx+DWznCfVZcN6aBKI3FCdEVoCGgchHB3V/wYXo7xdXZpQyJPa8y90qSU\n",
       "SuEe5Bn/T3ODiYNYEwrn8sMjO0jVuS3miJBlVU0f387TqkT4x9aEvT8fNEDC3T1eQTTxaHEbNnuk\n",
       "jq6ZdlPIMpGzCIfNvF4TuQ3Qia3YCfqWS+BYXILdKM90vyyAVPJp2LeXNclRqnKYa2/X+nV458oI\n",
       "L7ombTAfWc9+q+df2oG8fVU6j+ac+FfMjciCZ++2Nls73ZCl2oTtqCZUtwDnVEX2eazrdXK8Oeim\n",
       "YX1FBUYDXtFvx6skqiZJhilZRrvW6UjduaGDkcrUU86EBpf3XsX2zqOWYtW7zN06VPpIlBz2qLn9\n",
       "vkKN3CzVsiZEdAnnYX99lZyxobx6SbScBzFFSNGyAsffjM5kSRWywU70/2Vjq1b+2XISTUR1Tmh9\n",
       "UY5WpLKCUGGG3bZMDQ0L20EyrhI+anp6TXKWGsnSFilhoqVA5pKmeeCoF4UNzMLCFMck3N3LzOPc\n",
       "eYn0AMgx+kW93btHTyEZMawOgnxZlPktNYMVY1+LHkeugDMTMrK0CADqwCKUanf5WzT7N7Wtd76Q\n",
       "S4qX0UDRwxK5oYyI4X6M/MpTPy1eMj2Nb7V4P61pN6dqA3mh/I8356TueeO0w+TElCzb/wvkn4oF\n",
       "jNYJ201ZMJNDb5nBhgUv/oQn2Fj2rQWsX+LOwyMPsfB87zaaXWpdb1XFt5FBsOrB7DK0pKpvXPNN\n",
       "0F7/ymGxQ21i/j8MFcV/lY/rSaKXQmgY4Ncs3R6Dzf4n6odLjsL4LlaqUr9o2PooMWCm22/vGv2l\n",
       "y7LGTPJnNuKMLyzwwbuGGFDIBVOu//5M+d7qBt1JzGTGc8S9pa3CcuvpfyDHNjugeFsHhNQPojHu\n",
       "frEqiv94GtijantO5wzpW/QNSSNmRG0W6/1/GP8K4iawKQuKJwID8VV/XS3Mu4lO7UyJcYAESaQ9\n",
       "JOgBVMp2MJqv55QSvw/kb0gzCn/mFgES6Fbu8Th+czoWH477L8OoiznJWx02U1DQ6Ebm+JMQaqrk\n",
       "6Ua0ABMRKdgWLmZXIQXwjwWJb17JBO7E3O22u/Ks6WsyLCfKnkt89CTQbpO58q77v5CBULDEQQaE\n",
       "2Pj+X5vsWGw1VYaCJ90Nbn5Mqn/MOozjRMF6d1HfpG7Hz8t6Ln3jyP+4BeOiY4hbLSqnyfR0gTqE\n",
       "GodC/mU7dh5nBXpJupgwAZurRpWoHKoIDTRZlGkIa+YeoxIBfKzphLfG7HBBHrwpd+TChT7Ccz6S\n",
       "VDhS7FxMP+5IcLIiuD8aNEDK1WmgkXvfRyTs2MqHtJTp+zLAVX7guNZWXBRnVRByze65jGig/xD6\n",
       "9DS1WyQgfyGFZYKsXC5v7ndZIzVSJlue+gqoPlToKKjWoAGIbPgxqdyDeb61xpGd5ABlBOpJT7nz\n",
       "RZtk9TYmWwlh102+Z08n3kcgmvQ6jkWvWA+QVTU1GRSDzelXlMQT+SNnhNpSyPSNV0v0f/awYQNA\n",
       "a3mTifLt61SgJQtWSsSYH6RZH1xgnE0LihGwt22pK0wI0//sfw9/uV9mdR/i9YR/Su0X9FLHL9rt\n",
       "bm5h0c0aT/f0Yd//15Jn78UwjLcAV+ut3uqdCx9G5dteh0fzPHCvgAaRR/X+oOsky22Zc5UecP8P\n",
       "tNAJ7zGt92vagDQMYX7+ro4YIm9I+ejzoq4O3h2yvragSjakEhXpE9RV0HrxdGNJNH5jFBEJzDBE\n",
       "Xk2q5xPKabdIU1ZkuiETuDvK6L+QkHEJa6VimaoB5kI3Lo8dUnBeipZMeAF67ad3XeEdab8NgGo2\n",
       "msvU13zODmG+JTuTfz+usztQqLEdk6D137T2TG1KZRFBr95/4YLGLYr30L7hg7JHi0mecrJEI5U6\n",
       "9yMjnCRezFl6FFOx4k0mpVHGzZ9ze0CadrKWpx+JOmTvTntM+zB0BEdvwNBDz2DteJRjJaLYzK/Y\n",
       "JmFqq8Ksg3PILTlAB7lefBZPJrvOlY17VlBJQrYvSySz0IZbu8zXDRHQ353XRNDMWd6XwFcbgZFQ\n",
       "egkVLmLPy4oZMPXaWIwli1huEyDfTM6p1aGLZzYZ9HV3VXwbAKRtUcuoWAGEwvDDaSpDvX0zZAC8\n",
       "CNAgtJXFlTY3Xze28coNpG+megXFP/HnJYjU/cYcXCJX/8rqNNOjQkmCV1EhYLkWh3VtVVBMq3ym\n",
       "+TVKaHrImUy3RopxVcFt/PuzQf/P7sRedmhI8bgFOBDvXmqWZoanLqgS3F/yoNJ425TiV7gpJXgY\n",
       "i3jCUyRXtKEiS+7DC0O4Pfr5YaZP52rDw4OwtFj8pvmlcya7M985+ga6X2M4Rcrrrd50AgDltMjh\n",
       "7ZFOr3oH4T0Y39R00lYvZx3O6G/BiIQslUhfzvSYRnXnq9c/tq5QYIc1eKT9yqMWzk6t1u3KQZ+W\n",
       "w6sea6B9w+h9aLOSGQcIFqMcORl68bwFJgu/906LekmExv3Q7rs3Mdf4FLQEP39PVX8HT/l3lBbB\n",
       "7bfg1ec4NN7HVp+aMb81w2PRsv7H0BdT51SUe7vUEaoid4FGBmhFsS9pQ4tIBz2QjRha7zbSmW4G\n",
       "PoEsk1lDPdKoa2ZaAIpwLe3NDgs8RG8Zl2NX6muuK2lOJqFw2AwKTobqtbnHtYr8orGb1fUeto0o\n",
       "DdOtaF8qyO+uVEJMdF80PawHs2k8fGrD9gPVii2k6jwieC+hOXK8bYeFQdb3XG7Ps4sZeh/Vpt0G\n",
       "ozf/K4ykfB9T1Xxxrf1QAIS5m2ZvemJBojVwoqrzlHb5kaaP5ZRDys2B3Q2Ua3VuVHBjk1dgyIt/\n",
       "gRx+hxG2VAJmM+EZVAuvVvTok/iAdipyYbvSeg/rQ6RXcHv5TIDeFE9tYP7Lum0AY3wwQzrQzmBW\n",
       "b0R6WIjJ7znJ6STxuRUA3EMJ/7cUCRhx1UeUv/+Uwszeg5u5c0bwcgKJkOCR+cE3NzJLByIVDiTn\n",
       "/Uwc6OrhHzmr2TR3BwH6QrVEClLC1jJM5dfT/SkHqb07xpOS1yBqKMz/Z2i49gwq606Hm7SevOsJ\n",
       "+h6Pl69afCRcIc01nSewQ884Csqw2E4mg+7eVvEynI9lDzwJghC1/mY4veOTNGmY0lMUaHw7ivp+\n",
       "2bfhmSz8kImQF8+3kqxRSyWrH4GtxVXu8aC2edp+Aom77SO+wMbLFhpoFidlmpeoQawy6GVQFGDZ\n",
       "93CE6LtkhH9maWK3ddAg+7wVgUOHP7MfSgHxDTT6FfQk95Vkj4RTSCTXcEprooj1K3F05ADUkI5F\n",
       "utrjjwngkBZQf9eDEu8lhRtFGdNBASYNpj8I58mXq0ns2KCfbyGX54ey2XcT20ISbZFu9I5nAMoM\n",
       "Ol22WYAnbU98XUqMP1cqrjqehj6r061FIoyJmuXcamDLeicHXzuViM//N1qs6jk5DNPsYU3ss2W3\n",
       "xC/9nqdgCzsNtgyTbyPzFfXMvY7zS6K8mSHRnOJ5NqUKe5W2lGpOnClIMOtiAdcyMyEsSCXPsWFR\n",
       "SD4Syp8JPsMYnBkGq+2kKPvAuM6ivqqyLSnDMR4yDtQwEEbN928pSW0RPjBwto5xsHPBEKsyCZGu\n",
       "CKcctBJckbvrsW80Q3xRuKMxvLxO4kqlp/o9PE1GOm3kndtCCvekAc2HwVmbQGGhTkm8V4Sn18qD\n",
       "XWKYjX1gf+6h9YLlLM8Z8bJG/505oh1fCv3bqOGCDvD3glnRzOclGDlpgQ309YLyIKFD/+UxatYi\n",
       "bpM72LqxHEmfCSz+QoQDKf+C3C5UrF0SfiMGXCTWvHZaOH8OYyYG3u7F/iJOBp1LJPc/w0iVqnU8\n",
       "Q0xxtBHEJXMzOIN9p09ZcnfIOCfrLOivcY0HpsVFP2jVRLhhv5lbzIxyyHIs39GipWq9ZIE4QJMS\n",
       "+a/F/ZmYVdEKvqm1wehWuCjUuBzQgjUxQW9fxkd0iwHWv7QsrppSuJlTQvxXKfilKxNJmRE+MlT8\n",
       "Z8U31t3MWCAAF/UDSgFcYzgs7T/m7VZB5wAAAplBmiJsQv/+jLAMrxOTnPgh0KDa4BoVRfwuRqlM\n",
       "I2fA0rUXqHHtLDQr+/MeV4MwqWhk5DwNVQaLdaTRb6mVzwxAXZAMsLdadokG+VIr6hyfpjH7LAy/\n",
       "2XndPpkmzCsue4xry3cJJ1gY307uLgas8YsyCaPKoQeDAlfiMp9WBMCaN5SJa1ioe6ShAlMFkoLO\n",
       "SmIbHm3g0B/kF8f71kZb6QKFzLpeFY+pQ0qPuqdTT5+QkpiF28Yb+jvL+rIdPAdh93nYax5fAwtm\n",
       "uVNDsu4qMEezBm1u3ZlRFjHZK/J38TlOHZQJvQ2EJdEmPjAui8viNcF9XQXveBHxzlYzi6wWHDPG\n",
       "pSiLxsD0zALIKHWrzM5XVqNfQIhsUN9n7fvIAwXnGWKu6ZFu1oFalVrMcY3xvt1FeaXLiF05k736\n",
       "Bfr8+/Fhpr9FbIbRTJH3SeLXE95tgfT4M6M/hPXjJu1KAeBXfTfAHyXZ05YG9HOvL96dniTmMeUQ\n",
       "4H7Bv9TfmurIwHevl8VyHgOQCEc8lKFZv7PXem1AK/Jy0X4qrNLNNSMacJCes3QcCyecPU4MBM79\n",
       "Vc8M5woq0V8EPbj55STjTEX/S3XwOmqpfz6QnnBtmIksjfzxgnylxi/sjN9pzG+P+pM3oxOAG08q\n",
       "3HRBEJAm+K/nWM074+VnSLG7hUC15l9cmJUGuW1CC6YZgp/0XycLVxC18SgwPM0cgUzsqdeCIazi\n",
       "durnwlhsf8R99wXVuqrj0qdyF+jpqbrlCaJAjnxGZ3RLsKeO3o3UVIzhH9xU6MnaTGShbI7E+sLN\n",
       "o26RXvkwq8/Rhv9D+J58hCvrJJLlfgr0++ZkFuB9TOMgzz2E+afbggLYC8k+E/tJICOkmhPiOrrO\n",
       "h8c7Lz0cLhiNAwAAAFUBnkF5H/8H67xSD6n2dsTooyM657R0AAJad224RxOTJF6zDe1hioGVCjg2\n",
       "D3aLA16TZkS06fhye/v0YptFAistIASwqAUohXNDOjjflQEBEfOnhKsxAAAAhkGaRDwhkymEL//+\n",
       "jLCE4nJznwA9kmHayq9Ay4wdqIk07s+OHhIBhr2jABQVvrq82v7qR64Oi+e6OKCcH4l3b5d1Junt\n",
       "l4fRCmgef0z9mDC94TlqQVcYu3vTTfR2K72phROIb4CTb5iWyv8gzw1Ll3MxBAscFwjjXqsd9m5v\n",
       "/zvaj7N0ynvAAAAAOQGeY2pH/wfkijKKSqTBpv3HWVhIJCvBnUmFAuhDI5etvgIJUIBiU5wAXNs4\n",
       "aV2iesOQ1qaZljXabQAAAJRBmmdJ4Q8mUwIX//6MsAAAah94YBq+pQmSUWbS+y2Wi9ZaKwIA8u3r\n",
       "acroicKk5DaInsCKU7j2J09kfvTxC0Zy6eNJiXS+YlZR1dw1PJy50DtRWQ6ts208bPGTT41Dr/Xo\n",
       "ihAEhG3ke+thcDAh3+mOA14gjNoYbrtjx8IavqqgbnnT26OmGbxlxdxM5htwTkUmqtuBAAAALkGe\n",
       "hUURPCP/AqjypRGLZdFUljj04XkDgIPjOe4AOLKMQF1YYIQjNxFykeahp4kAAAAlAZ6makf/BDPk\n",
       "Qhmns8VCb4AR+wo/0ABKivn7Zl/bSOQSEB51MQAAAHJBmqtJqEFomUwIX//+jLAAANQNM1Q22AnS\n",
       "N2Lh5sVhgnyvLGxomYK0TbmuIxJZv5ZnoW1mkzhXg8OOtvt0zTz10iAiquc7lFyUe1kMp5IYk6K8\n",
       "mLEYcF8xeqKgvyLlXtG4zTUKL8a9HiKZXj4PN+TP5AQAAAArQZ7JRREsI/8CshQcHqn7pq7TPCOj\n",
       "4uKIlchuLIALhJvzXCyaxQaSb/y3OAAAACQBnuh0R/8EMYjiTwZMphmFgLEN/EYAFvCKFdkYPkDd\n",
       "IWYdFIEAAAAcAZ7qakf/BDPkQhmns8VCb4ASreT7lEx59HAzTwAAAFBBmu1JqEFsmUwUTC///oyw\n",
       "AADPPeWgAlbcQdMb1P08zR5GfFUu+nhVMBmpnZa6o8XkV904mgPZsWpq25v+wYWGeruZ2TObmFtL\n",
       "n99x6ydDqAAAACgBnwxqR/8ENPk4v9hoXBKWr4FMjTIyNXABc7TTloe8cYqwP0hATm8PAAAAPkGb\n",
       "DknhClJlMCGf/p4QAADNitfH7AA5gRQ3W9TxGGMe4tLeaErWPyvuaGVcagy5/+RcXc4eVg/bgywa\n",
       "yNpLAAAAb0GbMknhDomUwIZ//p4QAAGb24HAG361J08gnXWOztwrOYkVMhsJmwPfm4T5YZ8MIW4Z\n",
       "ILvFP8FxmgjZZPyQOA1k2IXv8rLbpTR8NuLabvBWfzTOLjr0La9sY3fH3qxI7iaLso/TOgmK+0eE\n",
       "ROq40QAAAC5Bn1BFETwj/wKx1O9l4IBMIRhT8wCgSVmhdr4kAEjaOe3ifahe2gYbi/IC4GrAAAAA\n",
       "GwGfb3RH/wQxiOJPBkymGYWAs/f+oEc9ecvRcAAAACMBn3FqR/8EM+RCGaezxUJvmazDtZsq8AAf\n",
       "h9QbxAdBumvtgQAAAF1Bm3ZJqEFomUwIX//+jLAAAZSuIQAOWKiam2r3g78ho7CDYyB3ks8ubsQD\n",
       "a+ObJcbqligMrQ4ELFy4mv7vkQ75uEz11gcDUqcJ+TxTuf8whdT1UJ3/MbooBQ/7BFgAAAApQZ+U\n",
       "RREsI/8CshQcHqn7pq7TPCOkTmbpgBKd0SBQFiKTuIHaSANJvOMAAAAhAZ+zdEf/BDGI4k8GTKYZ\n",
       "hciD04AF1Fx4g5vRLKx0K3gxAAAAHgGftWpH/wQz5EIZp7PFQm+UmRYAJeYxI4xppPrH6AAAAGxB\n",
       "m7lJqEFsmUwIZ//+nhAAAZF9B4A5h9PYQncWQf0WwcHBSS2bW9D6IBhl24cg/PMM4Wbuk+ivvbr9\n",
       "Jkh87uSbcJdFX3UK/fsfJeZORfHI4uXc908cNe6jzfYWzd1ujiITyakpBU0VoV4vlA8AAAAeQZ/X\n",
       "RRUsI/8CshQcHqn7pq7TPCOkSQG6QthLekUhAAAAHgGf+GpH/wQz5EIZp7PFQm+PqLiABdMi+ZEE\n",
       "1FKKmAAAAJFBm/1JqEFsmUwIZ//+nhAAAw7r0ADb9RuijLj/Ep+HNh5bU/AXsePkW2QQOLbiSL/z\n",
       "Ljxdf+RE3UwgORmmEzJsJjJx8SJ3OkRHAv1aQWjNz38WJUkdOmj/HO68FcThpoTMvhJ6cAhD47Lf\n",
       "ZoUwycIA44m73A5Ngn43Jyw5na9y9QjMUJsNf4ZebADB0P8ZQdXfAAAAKEGeG0UVLCP/ArIUHB6p\n",
       "+6au0zwjsBONhJSoAPwrmjMPSV6HUEh0yYAAAAAfAZ46dEf/BDGI4k8GTKYZhbjH8ZAAmUf9/tYk\n",
       "N8bHawAAABsBnjxqR/8EM+RCGaezxUJwt6w5+LpDswpVsP0AAABMQZohSahBbJlMCGf//p4QAAL6\n",
       "86MAco3gqVp7tzV/CiT6Natcevs6MNpSuXsikjU8V8VWuFN6zzp4jkkGv5ubkO7Vsu+LuUSR/sFq\n",
       "mAAAAChBnl9FFSwj/wKyFBweqfumrtM8I69cAUcAAtvcP1l5buzrC5TGN5lAAAAAFgGefnRH/wQx\n",
       "iOJPBkymGYWAsD40STkAAAAeAZ5gakf/BDPkQhmns8VCcJgUursAE6o+uIXVK35MAAAAT0GaZUmo\n",
       "QWyZTAhf//6MsAADAO7bAJhwnv1iBpzPrPI3MCqJaifYkeeXol+V19g67EsAqhnFqf2pfmXrUR2F\n",
       "Rn1AWdbKCjhLzcK8d0SmbqUAAAAkQZ6DRRUsI/8CshQcHqn7pq7TPCOvmoKAA/A9e1oc7kIF+Nqs\n",
       "AAAAFgGeonRH/wQxiOJPBkymGYWAsD40STkAAAAYAZ6kakf/BDPkQhmns8VCcKK31lMfTSxBAAAA\n",
       "T0GaqUmoQWyZTAhf//6MsAADAP5vACd0olz7wAS10TOUF+pZZcFh67MEqlx6ZVchvpdIuyuthZWh\n",
       "Z4YmYEHXV1UkDP0HCTEv2U+jJHMxdSEAAAAqQZ7HRRUsI/8CshQcHqn7pq7TPCOvj42OU4AW3/EC\n",
       "vBNx92+V/wFZmnaBAAAAHwGe5nRH/wQxiOJPBkymGYm3+MAAuc7ExK737xCuv4AAAAAfAZ7oakf/\n",
       "BDPkQhmns8VCcKfOkACbfvX1s0UD2ZK2gAAAAGNBmu1JqEFsmUwIX//+jLAABgAXVE+AGva4S4MK\n",
       "l/Q4DuV7yfuTl26qBohC3q77zVvQgDhHqoMFkqGGdjSuONbJTKczQo5O9MAVtSV48LFfYQnp5VVx\n",
       "ZSqjqceUS21SAyQZtBEAAAAlQZ8LRRUsI/8CshQcHqn7pq7TPh5uoAQoXQ2k1d9izDNP0dfmaAAA\n",
       "ABkBnyp0R/8EMYjiTwZMpo8711xCYL6UuFCpAAAAGQGfLGpH/wQz5EIZp7PFbMliT8tfgUaQD4EA\n",
       "AABTQZsvSahBbJlMFEwv//6MsAAF217bgCD0TjbekhTnFl3gtIPoQiaqzW2APq9kz9YsJ4PaaQKl\n",
       "kSd+5L5T0kmanh2GB3msByBxHZga3pTPuKRFgMEAAAAhAZ9Oakf/BDT5OL/YaFwSlrMIypAAB+HY\n",
       "RUdTifprw8GBAAAATUGbU0nhClJlMCF//oywAAu2W6IA5gLcKl8by7Dg/HaZOHyvhdeUKGOR71Np\n",
       "ZUjjk/wxXU22BwO6NxIqLGfSslAx5izObaYlWQssb1fkAAAAJkGfcUU0TCP/ArHU72XggEwhGFXe\n",
       "dfCZQAPxGNSkK/vGsOkp4n0wAAAAFAGfkHRH/wQxiOJPBkykmpgL8uPxAAAAFwGfkmpH/wQz5EIZ\n",
       "p7PGbI5EhSDobrpmAAAAUkGbl0moQWiZTAhX//44QAAtSYQvWgQIAAjSRX1FjwyR8Uff5ycxompI\n",
       "S6Ctp/UFvGoHAZ4qLc612PPcHcu9//aWWkT0n/kgz+wtSi6nkYQrmpAAAAApQZ+1RREsI/8CshQc\n",
       "Hqn7pq7TSK3vgALCnOqC9oY57auWCXlARMViSEEAAAAgAZ/UdEf/BDGI4k8GTKjoS1pFbEAAt3jx\n",
       "5CecNeMTKaAAAAAdAZ/Wakf/BDPkQhmns8Zpy5IAJwZbv+Hc8L2je/EAAAAzQZvYSahBbJlMCF//\n",
       "/oywAAu2U6AByn4+mFC22XnRwKuMHEXDknmmJ4TmOk7p79WkzPSBAAAAMEGb+UnhClJlMCF//oyw\n",
       "AAu2bwwByjQ5FH3M8dw4C0ZS67M+XplNowkVVlGsteSXgAAAAERBmh1J4Q6JlMCF//6MsAALtnm8\n",
       "AHK4s11l6vv0Tywn6jBk2eI85Jlt3fITtInH8JFq3QsAXdGjJD1TSYASbSW9XHxAwQAAACRBnjtF\n",
       "ETwj/wKx1O9l4IBMIRhV4800ALbZtZw8wkx94iYrEkIAAAAUAZ5adEf/BDGI4k8GTKSamAvy4/EA\n",
       "AAAcAZ5cakf/BDPkQhmns8Zp1pgAP5z2Cvuu9o3vwQAAAHZBmkFJqEFomUwIX//+jLAAFv3x92Pt\n",
       "5AAQPhR4K44MFckcdaqdIBg6DK5+3lWqIfUs41F0bjurJpZn9zGrbnb4/o7yPNwK45e3qiNj8Ht1\n",
       "xrJKTxOam6qu6Gyj6ZLm3B486RnG5n7kWDdudaQl3JP9rJPQ/qvgAAAAH0Gef0URLCP/ArIUHB6p\n",
       "+6au010hC+zB1zBrCmp3qZgAAAAdAZ6edEf/BDGI4k8GTK2vEI4YABM04RpjvZOWYfMAAAAWAZ6A\n",
       "akf/BDPkQhmns8hXJtKBkv40HAAAADhBmoJJqEFsmUwIX//+jLAAFtZlInuLDgE0n9bKg/la+Tjb\n",
       "Cd0wueONyoEnEPwIH2ECrHHY2PkTcQAAAENBmqVJ4QpSZTAhn/6eEAAWwpoCPu8AVbm531YW3i8o\n",
       "YVqp9NObNBolWaZQm4mQABw7Y1qNXFlc3lD8Vru7nFfkLCygAAAAH0Gew0U0TCP/ArHU72XggEwh\n",
       "GFkQTWajtVv+MaO9ljEAAAAYAZ7kakf/BDPkQhmns8hLbbTl3M3YTgKTAAAAZEGa6UmoQWiZTAhn\n",
       "//6eEAAsNdj4rOFgC8vnbaEMKKUzKl+5AS5E7FCGbPlxUtW7QaW5t9OSCZLFMmP1sn/rGgC+gWDI\n",
       "9bbeXlOGJMTH+/Wt+Ga5tJz8lgzUr6NYZrnkSs5B8oEAAAAhQZ8HRREsI/8CshQcHqn7pq7ThwMt\n",
       "9MWr5f/w0I2ATQ9BAAAAIQGfJnRH/wQxiOJPBky23krJl8kACHGwXL+/ESp1pTy7gAAAAB4Bnyhq\n",
       "R/8EM+RCGaezzByTDG98ABa2yK7jQGixs0IAAAA3QZstSahBbJlMCF///oywACysF6SoAgeKWklC\n",
       "LKk9lxoHzHwy2i4GWWCg0ih5C8ZSz53JM/E7gQAAABtBn0tFFSwj/wKyFBweqfumrtOHAz6r87KB\n",
       "7EwAAAASAZ9qdEf/BDGI4k8GTKSamAW2AAAAEgGfbGpH/wQz5EIZp7PEn4rdDwAAADxBm3BJqEFs\n",
       "mUwIZ//+nhAALDjccAbeZX/xj/B5oYHhnW/WVTFvtywGVxFRRTsWETRYwB2g1k/zWS+xYakAAAAb\n",
       "QZ+ORRUsI/8CshQcHqn7pq7ThwMQflpJG/ZTAAAAFQGfr2pH/wQz5EIZp7PMDC/KwnKUEAAAAEZB\n",
       "m7RJqEFsmUwIZ//+nhAALGU6TT7vAHMKM+3gZCYZ0DmV9iPu9hqQEfxN4jXOzMyxw3GhvCMHd0la\n",
       "WzSITm2KdN41aLiAAAAAIEGf0kUVLCP/ArIUHB6p+6au04cCs/zZDDtX4h5qMNnHAAAAGQGf8XRH\n",
       "/wQxiOJPBky2xzLz25CyR9iwTcAAAAAUAZ/zakf/BDPkQhmns8v3dmtItUwAAAAsQZv4SahBbJlM\n",
       "CGf//p4QACsd0JNy2QAQzDa5scxlV6/YNyCQ3VYDUfpOEvEAAAAnQZ4WRRUsI/8CshQcHqn7pq7T\n",
       "hwGmkomyz7KAC0x9AFEMX6wLJRQoAAAAIAGeNXRH/wQxiOJPBky3YTg9C4gAi/bkoytbRzlmwmeT\n",
       "AAAAGAGeN2pH/wQz5EIZp7PMS8O2gju2JZqF8QAAADtBmjxJqEFsmUwIZ//+nhAAK1fl9EDAF+IC\n",
       "fZJfkJswLyKraVS67euDP16euUDOjGrVUew0uYpX1VLSLgAAACVBnlpFFSwj/wKyFBweqfumrtOD\n",
       "P8kgCI/JdKNEcrILZw4I5BYHAAAAHQGeeXRH/wQxiOJPBky2TwR0AN1ytviprlYHFojjAAAAFAGe\n",
       "e2pH/wQz5EIZp7PEn4rfjAMVAAAAJEGaYEmoQWyZTAhn//6eEAAsZeSoagDmDRYBj0TsVsmi+UQW\n",
       "0QAAABlBnp5FFSwj/wKyFBweqfumrtM1oYBHMa9wAAAAEgGevXRH/wQxiOJPBkykmpgFtgAAABIB\n",
       "nr9qR/8EM+RCGaezxJ+K3Q8AAAAwQZqkSahBbJlMCF///oywACzX+67ISQBB6CD3IYw9S+2Bd6oc\n",
       "jfegEfWeebTPkKCAAAAAJUGewkUVLCP/ArIUHB6p+6au04UieMAJZGNzXF+1XeknIR1sv4EAAAAW\n",
       "AZ7hdEf/BDGI4k8GTLdeLcThHxm+9AAAABQBnuNqR/8EM+RCGaezxJ+K34wDFQAAAElBmuhJqEFs\n",
       "mUwIX//+jLAALJnLmAJ8KUtnAi7dWGpmAJHcjFMWy3Llha+E5vi65CR/uWKJLtqgu1yYAU948BXO\n",
       "KxIpZ6Cj4ImBAAAAJkGfBkUVLCP/ArIUHB6p+6au04a92AyuAFxEzVOJhR3kIcqilR7RAAAAFAGf\n",
       "JXRH/wQxiOJPBkykmpgL8uPxAAAAHwGfJ2pH/wQz5EIZp7PMHcqSwAFkJe4csNumi8UtS4AAAABJ\n",
       "QZsqSahBbJlMFEwz//6eEAArGTowBxRtf1p9pUE52rDWeI430UwqqfIX4y+OEgEinSkyJyE+VZwd\n",
       "G/AtqrHJzU5ww6wlWTgibgAAACQBn0lqR/8ENPk4v9hoXBKXXNDjBhcQAW6ROaGoOJu3YJb6VeEA\n",
       "AAB0QZtOSeEKUmUwIZ/+nhAAKw7+6nFyzwByjcRWCNGmWZfwosRLd/uEhOtPoV4BpwBgYN/2+3e2\n",
       "7O5yodTlfUvf6fHbrhmMcQp/x83Uk2Dp7RJuYRyIAswAVdhPiXQNi1tlgKyzZKsjTdet7iY9Yp6g\n",
       "ksXPhDwAAAApQZ9sRTRMI/8CsdTvZeCATCEYX6RN2z8CABYJOzitkTkqJhj6qkySa1QAAAAeAZ+L\n",
       "dEf/BDGI4k8GTLZOfwABO3ZHgWL3fLA80XvpAAAAIAGfjWpH/wQz5EIZp7PLsz25gAcboEz4Dvts\n",
       "VzmHcATBAAAAQ0GbkkmoQWiZTAhn//6eEAAqE8e7nJADN3OkiEbF4uuehgDmMa4/iE1iIgs5k5vR\n",
       "Xj1xtaOAxVfmvAUAgo+UT/1z4RcAAAAoQZ+wRREsI/8CshQcHqn7pq7ThwGZH4AAtExl/rXyroRE\n",
       "psRQJrl5cAAAACIBn890R/8EMYjiTwZMtcYx7ubMACOBYQdKSMYkpcH2aVCAAAAAFgGf0WpH/wQz\n",
       "5EIZp7PLo7m9QnBXWScAAAAvQZvWSahBbJlMCGf//p4QACn0lJ1ACx4wg+soVJYzQmR7ZidAe2rz\n",
       "wmLVux6pwm4AAAAoQZ/0RRUsI/8CshQcHqn7pq7ThwGV9IQALhL8cyBaqqayIsGEqs0ULAAAABYB\n",
       "nhN0R/8EMYjiTwZMtU/depYGmu0TAAAAFAGeFWpH/wQz5EIZp7PEn4rfjAMVAAAAMkGaGkmoQWyZ\n",
       "TAhn//6eEAAp+s/3ADbXEGkwwJJOEnsZzpOVSuYNijgbnQKhDSIa58IvAAAAIUGeOEUVLCP/ArIU\n",
       "HB6p+6au04cBieHEIkFy/zcZEEbbiQAAABQBnld0R/8EMYjiTwZMtcwVwLAS8AAAABIBnllqR/8E\n",
       "M+RCGaezxJ+K3Q8AAABKQZpeSahBbJlMCGf//p4QAFPyvjgDmHqujgv8jR95inQHpqQ/6LyIOuWB\n",
       "z93ClYZPeVOgko3/yKZ+I+CQ1UNlpImTxOUkx7g0KCAAAAAqQZ58RRUsI/8CshQcHqn7pq7Tznwl\n",
       "1D/BAAWqQQmzYf/rT9zAZdOg0d+DAAAAFAGem3RH/wQxiOJPBkykmpgL8uPxAAAAHQGenWpH/wQz\n",
       "5EIZp7PTL3MXuIAE2qA5DdB5rwXzAAAATkGagkmoQWyZTAhn//6eEABT8bjgE0oqzXaMm4+V5m5p\n",
       "rJUg+UtI+XBWYhkWpjSBJzb+O7TnDhjeoLNeoXvsgyCg/vAikQikPdaOqRo44AAAACRBnqBFFSwj\n",
       "/wKyFBweqfumrtPOuk2odDAANVtAEEK/PyaWIFEAAAAXAZ7fdEf/BDGI4k8GTMeYCb3T2w8HjeAA\n",
       "AAAUAZ7Bakf/BDPkQhmns8Sfit+MAxUAAAAhQZrGSahBbJlMCF///oywACpZ2rADdiZ1Vcou37K7\n",
       "oOmAAAAAG0Ge5EUVLCP/ArIUHB6p+6au04cABMOQqEV4wQAAABIBnwN0R/8EMYjiTwZMpJqYBbcA\n",
       "AAASAZ8Fakf/BDPkQhmns8Sfit0PAAAAO0GbCkmoQWyZTAhf//6MsAAqWebwAoNtRkJCqlSpatvC\n",
       "lNh7QlFglob/TJR34987hzc/twu70NXLMUO7AAAAHUGfKEUVLCP/ArIUHB6p+6au04cBlangPM2r\n",
       "mMQQAAAAEgGfR3RH/wQxiOJPBkykmpgFtgAAABcBn0lqR/8EM+RCGaezy8XEVUX0bpgpIQAAAD5B\n",
       "m0xJqEFsmUwUTDP//p4QACkav/YclsbIXAESG8J96t2dE4nfE1OQsdSSFe5PEMMLlBMA5w4VoYly\n",
       "zCIMWAAAACUBn2tqR/8ENPk4v9hoXBKXXNBz+tgAtbZW3XgkITGAYs6Qv93QAAAAKkGbcEnhClJl\n",
       "MCGf/p4QACjspsDGwAODRpylNPMXYB8pk5Mxv+3kX0nCgwAAACVBn45FNEwj/wKx1O9l4IBMIRhf\n",
       "pEDF4CKAGwIPGOATFJJxHwSBAAAAFwGfrXRH/wQxiOJPBky1Lib2eo0uJBRBAAAAFwGfr2pH/wQz\n",
       "5EIZp7PLl0WrykFgy4e4AAAASEGbtEmoQWiZTAhn//6eEAAo1QgQ4AoW3WtiSzn1G0abplb8Hh1Y\n",
       "y18/T+P1cWXD9TzLPST0tcK5iKU0RJ65P9mWO3UbCiIMWAAAACZBn9JFESwj/wKyFBweqfumrtOH\n",
       "AXb8yngAtaukYKtdfDzQ6GavhQAAABYBn/F0R/8EMYjiTwZMtN4uCgMFfbVQAAAAFgGf82pH/wQz\n",
       "5EIZp7PLbfft5I979WwAAAA9QZv4SahBbJlMCGf//p4QACo4mu7AEa2MA6icgOOyb0LtnMarZG0c\n",
       "Uo0lztzORZr8iMUWaN13dTiC55MKSQAAAB1BnhZFFSwj/wKyFBweqfumrtOHAZWtoHFSHpDuMAAA\n",
       "ABQBnjV0R/8EMYjiTwZMtV4t+gLVMQAAABQBnjdqR/8EM+RCGaezy8t2cBG1TQAAAChBmjxJqEFs\n",
       "mUwIZ//+nhAAKfnMpACl1WPcFj3wRzXA3yh45/GMsGBAAAAAG0GeWkUVLCP/ArIUHB6p+6au04cA\n",
       "BMOQp1jKgQAAABIBnnl0R/8EMYjiTwZMpJqYBbYAAAAUAZ57akf/BDPkQhmns8vF993khL0AAAB5\n",
       "QZpgSahBbJlMCGf//p4QAFPxuOAOYfU7VB1hF91r5pxzlD03h3Jeq9AjZQ0A8ygV8SMnTi62x5fK\n",
       "5N2jhwb/Mm8QgZygMWHHqOpAhi9gxhoD7iyE1jgrGO2yNDYJ90Pn6wjLRm2jTn0vQW2rh029cDjC\n",
       "OyxXC9bFfQAAAB5Bnp5FFSwj/wKyFBweqfumrtPOzDj40b0EV7EJpnYAAAAVAZ69dEf/BDGI4k8G\n",
       "TMe8TQIHOiqgAAAAIgGev2pH/wQz5EIZp7PSnmb4ACWqwdHa3BCM33eXWXOwxYEAAABCQZqkSahB\n",
       "bJlMCGf//p4QAFHZSz4YAWFqmTh+MZfm22wUibikKBsA1b+l3YGuxqfEjt7nhygVFnp1uxnEM3pq\n",
       "aHHAAAAAJ0GewkUVLCP/ArIUHB6p+6au08trGABLIiSpqE5SQeOlINgyG4pGYQAAABkBnuF0R/8E\n",
       "MYjiTwZMxbykNQ/4F2KPzc+AAAAAHAGe42pH/wQz5EIZp7PSf3n2BQmDPA+SLJJvkoEAAAAxQZro\n",
       "SahBbJlMCGf//p4QACjaqpwArnN/MUrw8rz1v5Hjpk4M5n3UuuSFN4wx8FhxwQAAAB5BnwZFFSwj\n",
       "/wKyFBweqfumrtPGWpklS2QN0/K2OFMAAAAVAZ8ldEf/BDGI4k8GTMWYCb4T2qthAAAAFQGfJ2pH\n",
       "/wQz5EIZp7PSduRe6fyFDAAAADlBmyxJqEFsmUwIZ//+nhAAKNrP9wBt6tXKJ8F6d9ZUzf+3a3D/\n",
       "KQYetXFtZKxRV9nym9/t9qEQYsAAAAApQZ9KRRUsI/8CshQcHqn7pq7Txjrp0iwIIADbexR9X53j\n",
       "w0Cs6qN33UEAAAAZAZ9pdEf/BDGI4k8GTMWYgI+Rh2lY0uGipgAAABoBn2tqR/8EM+RCGaez0ncC\n",
       "I/aE7TP2PppYgAAAADtBm3BJqEFsmUwIZ//+nhAAKfqqnADjBdDo9rMXZ3Cv7OvTN3DiLCEd/hKt\n",
       "lrz/PYeWc+Q4j6d3Rz8OOQAAAB9Bn45FFSwj/wKyFBweqfumrtPGOunSJGNgFHvmwPW9AAAAFwGf\n",
       "rXRH/wQxiOJPBkzFmIURA0Bkm9lRAAAAFwGfr2pH/wQz5EIZp7PSdwNGfZc6PFfAAAAAN0GbtEmo\n",
       "QWyZTAhn//6eEABT8bjgDlGYedTmqXblQk1rjRul5L83UfcW/IMLTrSj+zs+Q8xAwIAAAAAnQZ/S\n",
       "RRUsI/8CshQcHqn7pq7Tz2sYAEsi8sQltqFF+0jQTXGtbrWxAAAAGQGf8XRH/wQxiOJPBky3Jud6\n",
       "75XbBfmnqmAAAAAZAZ/zakf/BDPkQhmns8w6In37lbS4kX2aCAAAAEFBm/hJqEFsmUwIZ//+nhAA\n",
       "U/G44BNfRXV7srn6g+20cqR8tsCFBZTchadBVHPfgP7Ra5b0pfbzTThMmtSyNWhgwQAAAB5BnhZF\n",
       "FSwj/wKyFBweqfumrtOGvdLjglmbkz36kPAAAAAUAZ41dEf/BDGI4k8GTLTMFeiwEvEAAAAUAZ43\n",
       "akf/BDPkQhmns8tzdnoRtU0AAABCQZo8SahBbJlMCGf//p4QAFGyvjgBrpY9wm0qZVDkPgRWzm2L\n",
       "8HbKVO1Dryx+3aPk26i0eAbshbC7ONDHU9IUnBQQAAAALEGeWkUVLCP/ArIUHB6p+6au08lxZMQA\n",
       "+gBIUNYepjJC5U22vdIEB+n1pb//AAAAGQGeeXRH/wQxiOJPBky3Jud675XbBfmnqmAAAAAfAZ57\n",
       "akf/BDPkQhmns9Ler4AB9UizFXBzRJ2gPlNb8QAAADVBmmBJqEFsmUwIZ//+nhAAUbJ0YAbagEAE\n",
       "iPu6c2+9lnxxD3Td+tSsm5XxhIjvGscG4sDFgQAAACBBnp5FFSwj/wKyFBweqfumrtPKfDKVIG48\n",
       "BBfQ7wqIgAAAABQBnr10R/8EMYjiTwZMtMwV6LAS8AAAABcBnr9qR/8EM+RCGaez0p4DxXDoyVTF\n",
       "tQAAADVBmqRJqEFsmUwIZ//+nhAAUhwc7gBDLj205CW5ONCqaw8ANqERvtS/bbcoFfElSEePxFg4\n",
       "4AAAAB9BnsJFFSwj/wKyFBweqfumrtPKK33HYFmfgeYwge1JAAAAFQGe4XRH/wQxiOJPBkzFmAm+\n",
       "E9qrYAAAABYBnuNqR/8EM+RCGaez0sOQknkZmZHxAAAAREGa6EmoQWyZTAhn//6eEABRsnRgCt+u\n",
       "Ht2CJdVDt4be6hy016Q8vl+hewWYcJ5hZ/8fqFZt553iwLrx5lvWlt1tz4I/AAAAJkGfBkUVLCP/\n",
       "ArIUHB6p+6au08mJF1ACyQocSZppWZ6CLAZt7cKBAAAAHAGfJXRH/wQxiOJPBkzGOv8lAUdLZi8B\n",
       "VxRBSbEAAAAeAZ8nakf/BDPkQhmns9LFk4ABOSp1yYlvUHg6Zl5wAAAAK0GbLEmoQWyZTAhn//6e\n",
       "EABRsbjgCdea3ITLt7LLxTWJyRP5o4Mb70IsHHAAAAAgQZ9KRRUsI/8CshQcHqn7pq7Tysw5IyRj\n",
       "B7zs/61MBTEAAAAWAZ9pdEf/BDGI4k8GTMaYfEURf+rAgAAAABUBn2tqR/8EM+RCGaez0nbkXun8\n",
       "hQwAAAAiQZtwSahBbJlMCGf//p4QACjtwi8AC02kG4uIiB4WopOFBQAAAB9Bn45FFSwj/wKyFBwe\n",
       "qfumrtPF1SFMoRggArOcralRAAAAFQGfrXRH/wQxiOJPBkzFmAm+E9qrYQAAABYBn69qR/8EM+RC\n",
       "Gaez0ncCJPhb2PFfAAAAK0GbtEmoQWyZTAhn//6eEAAo7aq5YASl95qOcPQc53alZCcsub1wVsHU\n",
       "QYsAAAAdQZ/SRRUsI/8CshQcHqn7pq7Txjrpz74ThHlyS6cAAAAVAZ/xdEf/BDGI4k8GTMWYCb4R\n",
       "QN6AAAAAFQGf82pH/wQz5EIZp7PSduRe6aYaEAAAADZBm/hJqEFsmUwIZ//+nhAAKNqqnABavw3P\n",
       "lSQj9Qme+Ex4R3gc1QqKe/3cqfkHBd6Tx15+HTEAAAAeQZ4WRRUsI/8CshQcHqn7pq7Txjrp0dx0\n",
       "QK1cUl8fAAAAFgGeNXRH/wQxiOJPBkzFmICXXKjcLKEAAAAVAZ43akf/BDPkQhmns9J25F7pphoR\n",
       "AAAARUGaPEmoQWyZTAhn//6eEAApGJruwA2qG3KsZxMEPR2R4c4HAROPX32gP2fWVXGRi68kS07l\n",
       "aj8OacL5pV5iwxZ/PJhUwAAAAChBnlpFFSwj/wKyFBweqfumrtPGOunSTvbgA1SQ7Foliol4osJB\n",
       "47iBAAAAGAGeeXRH/wQxiOJPBkzFmIFWOQ4eduMS4AAAABgBnntqR/8EM+RCGaez0ncCTqfbyg+J\n",
       "YUkAAABrQZpgSahBbJlMCGf//p4QAFGxuOAKtzheDaMr/0+d0E0jU3+5OqBQVdVYumtzCxqV9fW4\n",
       "8wOW8zJOmT/66D/I5LpmiXOSZT7wpJw9svu1eyn4xd5VhlJcQVrbL1D7K98JTg6ug56DwwRThH0A\n",
       "AAAnQZ6eRRUsI/8CshQcHqn7pq7Ty2sYAEn1CmKjziyBuurE8dqC/Bm+AAAAGQGevXRH/wQxiOJP\n",
       "BkzFTVzcw7DykbrR1sAAAAAYAZ6/akf/BDPkQhmns9LOrQWtgKKD+IinAAAAMUGapEmoQWyZTAhn\n",
       "//6eEABRsbjgDijZ5UCPKAY4hCb90OPrUdcP92JBxxqAkUFiQWUAAAAdQZ7CRRUsI/8CshQcHqn7\n",
       "pq7TyrpfleCxKhpNv1kAAAAUAZ7hdEf/BDGI4k8GTMaYKJMwY0AAAAASAZ7jakf/BDPkQhmns8Sf\n",
       "e7EXAAAASUGa6EmoQWyZTAhn//6eEABRsdpQBfiC1PRLgX2KRHUAbQB1YMy7hVTEXFfReZWbAJOA\n",
       "n+vWtBe9sj2e1APG6h9knEeecffOEfEAAAAeQZ8GRRUsI/8CshQcHqn7pq7TyssolMcgPQYVcgFB\n",
       "AAAAFAGfJXRH/wQxiOJPBkzGvFnZCD2hAAAAFgGfJ2pH/wQz5EIZp7PSdwJOp9vKBLwAAAAwQZss\n",
       "SahBbJlMCF///oywAFA2xHwAJ1n8wdprTPMFEQJh6DSqNsEtp0M7jKN/vANCAAAAHUGfSkUVLCP/\n",
       "ArIUHB6p+6au08a6k9IlGbkHzQ0ZAAAAFAGfaXRH/wQxiOJPBky0zBXnMGNAAAAAEgGfa2pH/wQz\n",
       "5EIZp7PEn3uxFgAAADhBm3BJqEFsmUwIX//+jLAAUCO+/gAf6GZ6r6VZ4ymRjpS4FNc2WCAQTmCa\n",
       "Q/2pXh1PZx9rrZVErQAAACNBn45FFSwj/wKyFBweqfumrtPHcg2AG671CMpVs4mfgtJVTQAAABkB\n",
       "n610R/8EMYjiTwZMxbykNRrb+uhLpmKnAAAAFwGfr2pH/wQz5EIZp7PMOiI5xbE4fzdwAAAAS0Gb\n",
       "skmoQWyZTBRMM//+nhAAT3K+OAIfy2FT581vtuLi0Oxvwyz/6u2awfT9mFlDvTWUNHt3DmrbBTqn\n",
       "x3nYdAcu64CP3XqwiPM78gAAABkBn9FqR/8ENPk4v9hoXBKX9FmmWF4SC4cZAAAAYkGb1knhClJl\n",
       "MCGf/p4QAE+q7Ku8MALD5k4gfT7E5iau0TS2xiGtXqV+bKD2KmvqsLW+YqhenhEXl55W8ryOxDGE\n",
       "v60vN/Voc2JRSMOAbzMf09rqzKLcWUYi0arpkP+JvCDAAAAAIEGf9EU0TCP/ArHU72XggEwhGGmG\n",
       "oI0J4tthm2ZLOlOgAAAAFgGeE3RH/wQxiOJPBkzFkXVVk3qMQVsAAAAeAZ4Vakf/BDPkQhmns9JI\n",
       "37wY8AFsHmq/kePX31HwAAAAI0GaGUmoQWiZTAj//IQAEk5WAAB74x6jSTb1CEpRlST+WQI/AAAA\n",
       "I0GeN0URLH8ENPk4v9hoXBKX89UWAC1KbLDHbP9jCVAJfvKDAAAAHgGeWGpH/wQz5EC27lz/dcYp\n",
       "IAPT58xgMJu6DP/zGgAAQNtliIIAD//+92ifAptaQ3qA5JXFJdtPgf+rZ3B8j+kDAAADAACurTM/\n",
       "vFjYagIEXFPJXx118MlmN7hDYI+Byp98tTgYEnjT6rOQpnp8+6U9yl2Yb8wOrefY56+XyEm5HyAA\n",
       "E1RlrFxqI1f2zbUOJUQSo03Qvydngg74q3SQOCZTCyEYZJA9HDf6pOHEj1NvzB9P7/X9wakBp3FX\n",
       "Ets6z2JBmH1meyp7mQIbaS+ECvLpQJ87NwM1xYkxMZYGPig0RaIDRxBvUCRa0AZ7jR+LlAOHdY+3\n",
       "gTrKz5YJh0/2hUyufjL/LABfv04y+Wz7FFSEwMKgPn3KABzoAcRQqfc0cE4eBheKWJ4tCvARb7jp\n",
       "7fVPV68Uen8FS4wqf1UwOiuPb96+MKyOte5n4nf92T6B2IvXFgRD+IMgQ95cynVIVNPVQFp7XJf1\n",
       "eY56wphPIGRSMEmb/ws0nckUT5HYAn8CH4BH2U0uwoaRaBtRIUS/I3iukmLM413ElRIhJkddX43v\n",
       "xYNhTb2oNgkj+Q25xrPh9sBCJTTQ4zDGuBoZtbc23m4Hq1DXray4CqU5/L7PqjDeyXUDRMehOzwP\n",
       "N3kkHrHwLX1+TGjd+1Aj8PsPRCZNw41PAV4bpf8W2V8u7oYyZKufCExi/dhd/Frzy0J0zXglbX/U\n",
       "IOzBEZMXWausgDAP74ohNSInHJe9zSGSCwcGKZT/rqO2dmy+quRFwOxq36htxaZ5aHpW2VFTq/YA\n",
       "H0nmii3k/BEB5b5ptxiwHZ4AsY+ctnCXA03gMLjOjP7VqazO53CCGYJw0Z0Dp3vpVcnW57uN4AY1\n",
       "sTpOMeQkGf9Yj2izTXHLJNfTWNOIEQjI3seO+NQ4EpjrQJfegmkqettIvgzxwUuueXiF7vv7TBLo\n",
       "nXquc8kUX8wfZJ7jEVNXWbt/DiCySrWiRyVtUmKy/3Ev63baeao3mc/EfRHFy4tphofBRy0v3wwm\n",
       "b21hLbHiqkaFTZkTxZ6gKlVG4GggV4nxlJPdmxIQ2/A0b5rQq2YtSJDNWPkGivp2GVh3xAsflqA2\n",
       "8AKX5xCX9YH+4IZP2bPp9na5Snrizvtqcpnu7CpP9WcB6BKnZTDbaRDzpR/b2s0b2NrH1DeYOYNI\n",
       "93pWG4Z/7g2OzM7B+gXesju0lCyrU1ScWhY6wHSTKVdMTA2b7n8y4RrjjEwKKIg4KRzKoN3c0cLL\n",
       "g0LdW9wNRYX2W3Q4S/T0FlCGbVWAQkgUglqniffN6oGcHzHZwkKmqHQhgeZoKyFvxMdsSiVdqnii\n",
       "mdwHHFupUCrb67IeWT6pC1URnz/+bguzg1LV75GQbvkMEQSRta1NEWDksFgq1AqIMou6FKcexbB0\n",
       "XnmwAZCO2KSH76c5lPNo9Qkz1nnmnCm33GIOsRX34FxGEC42COo9ftkzA7wQEiRgSLC7xhVkbFBr\n",
       "u5ts3cwoYQHRRjn6g6XVld5oxz+Vq0fSGFxwcTRWkwe282FyB9VIvZkCEAT6h2Cokv9ooe6ajMzb\n",
       "OzKYRlLggTsYjaSwVWzCnRMm+COJuzVLba3gYmXdFWi4aMO+DB0CAe4lcjQW66sf/z2jVnS6Yr8k\n",
       "g1e4LOaQE8KHFy/mXnBLCDivcIJy+pNKKGvdn7q5DwiqLnC6cu5GRGltpr+xap3KV87MJJ+UITl4\n",
       "yyGmvb6Y3bRG1pFf3q8fN+rzmUxfDWfYTHbloJ7rywNsFcB6QQaf/YQGZKz6AWc6RTvP5XEb+Go4\n",
       "zvOqgzVIJrTHtIxnqUzausoOT/IvHyOVe0c8qPaL3SrQkq4ukpfb7k58d0jTyyv+bWQJQx/RsRAH\n",
       "r+P9umkqAubhSUGP6heyGIJ/HRF9yr4asGk76KbMu/kzuVpiI7iDJTLiy5b31f4tL6Eit9err7Kp\n",
       "n6H1fzUEOeiSoQoaoRjNQlx7C2zezoiz4ZP2b4C6ZPbr7BmnSgDdM5tAcsPSRh03wTmG+TzHJFvk\n",
       "T7B2zOGDc1KMRiRgIgcpsLM3qrdyrfBwov8BkMPFYcf5jLlep417zKagK+KyydGtWiRh2wCQoHFW\n",
       "gXmhV5bB+mYwx7DL4BngeA/kUDqt/yxu8acWSCOKwjDrWTOjkeXKKpurdG9+pjbh6nQfOQsRA+ic\n",
       "edkgkCoYwsiwCSdFMkC5roSguk569AI33GHrwJ44/pOAmQhEnkC9jJoUhNZD/4q53E1GV3FrjaUN\n",
       "DoUh5TEZdCbhc7bYK8BQ1xKMGHYM9V3yEvS2zj1gEzHOs7zAcXoOC4ygwbKfPNdxnnbLiQ9KePYa\n",
       "XtOHeBc+IXZM1MgZOAG4S59DALosDgtHSgc6t4835BWFIrY5+JFkZaFlKhwXL5Ui9Dm7PxuHG1IA\n",
       "2i55sOwsh1X4DPRpPBZmwG6curjzTYmsVSI+L1Dz4zGrzJ1dGBrBjOFzAWtW+jis2jLtHUItAtBh\n",
       "qHrC5as4MeTyaSF6ECcNr5md0Wm0YLZ6M2XMw/UG1JWEP6FbeVL8atS49sGBb8J75nU+yGGTSQWm\n",
       "3Er698eZi4GSAmN8cZ2FktwHPVnei4pFBfKsQy614Cy1i1KL2PFc81uyYJWc5tPL55bmY9U8zdXv\n",
       "iWvNd6ynd12pGqtlobLJiOSoktIsllOjW4/9YniRVFG6JaCKoqMLgwRFS47CmdJeYzN3A0xgdcao\n",
       "PcNXUPCwqc/XFFDILZhDgnqS70k4huZlWtuXVf6BnjwcswBns28BO3cnq8CvNdZrVhYOO1U9ZoDg\n",
       "Q0Lf70fd7zPBHIn3vbx7bv63LHU/Em7DAx72t7Vv22EWb3OgFpZWPYNL0pJfNL80y11JFrhnNigV\n",
       "PNstdNZvxs1BpDmfAla7qSJCZlKmdr4AQnIOeAzxGUQkQwhsW767OZHx6S5Lyn48tRhfujcbdr8x\n",
       "Bs08kOHjQm+0IEx6GzNt0hHLXpqB6c/PVhxwYZ6zQRwGOTl9jfoj3Ku9Ctx6vPmujDKe5Bjl64eu\n",
       "4KEWyZs1B8r/EioTdBKfctlWlxjooYugF5zPsbamEBLirXZzLbpU/wSbjb/1gejvSExVXvEkWMF9\n",
       "nCKF4jN2z4LjRZ/bhqvvTmWWVUN70QxO1myC5R8liREFpdupkU9+Byez+1iqyZBoyEePh3bV4R6t\n",
       "JNx2UUR/EYVK/xbhTlS3ZDMBJs8tWq8fN4mBtHPZrLR7GJuJG6JxLRG03hSXR+zTxWLTyJU3E4V6\n",
       "BzPQD6SXTXeiu7ns8V830yndDSsEzbCMOdD3oetcbGNw0wqkwFYB41lzyzBWjgHcrnfnkJTL28HX\n",
       "6XZrLjzibvfQwiCxKbD9Gxk9D9d+dUGKmp5be81jrKwiuoUAQd45NEaTJ3/kP4J/A2siUCWNlnUg\n",
       "OlJAM31PJoNEg2aTTy6mU5B4E0iowzgDXRspFqcOQvFO2AiiHcwxPYtGFTy+bw+crxhGcl0HA/7M\n",
       "b1ICOp2J9R+DLTzB3Hikkundib9QVHr7Gbe0S7vDQsnYWSAYz5iFMgY8cLqK+luIkHyegf2C8INP\n",
       "CHnxvfi/U3Qo26KQek+Ytx4mlJd2wsz8ZuS95m8ocI5mxOzfl1ZNDtcC7hwqweoQIysVfnkKLI7P\n",
       "9OLdcV9n0mY+7c98U4KoNAjErRQFjobU2UJkQkZqsc/A5Yy1iu5m8BDQbb9wwyUlOvn1//0GYv8o\n",
       "HHSfNTDhLJQQRDPRs/0OSQzg53c1RiJ6K//Xc+VM2tys7wj2dKVkQQAqbeyiKuPdhcF1++GWv6wz\n",
       "tbFZCR79uVevXG1TKnBrD0q4tnRVfIJiF2niCnY2I7bmFmSZrMiBGVtqntnxQuRehtHoi/OPUGrt\n",
       "rP9y0lHRVkAHWnItDXdcO7+yVcjwOoU5SOkq4kpJPJXFK+dl6tSwpt/yj24bDBImrIyMZImfL++p\n",
       "Ntt8SCX0KXoK32OfbxzMInyYUBERzO0tcT7o3Y8KQymGd02FujJINXyGwj7MbD3pGp6KtTI6WZdT\n",
       "5UKnpgikfspy/QPRJVtP46koYGCOKbE/yUyg7Db7xgNdVDWMnmDE0lo/+JZEuJ/cswTRAt4svfpx\n",
       "CK0twewrpRtNsW9lSgBzRVZB4Q416oLAbKd9GppVDJsuDGBaklTyisNqPICIsV/+osj9LNgRL67G\n",
       "zadGFMFGawT2XmVAcV/c9gDtNYLbs6hbiQ1x8zDUaHhuAE0W7BgAe46xkeZJvOYLHBj12oW5lkHb\n",
       "ttMe7WAebFfr8YtDqGeZozWwCJv6Orx6HQfSC2Wfb/HLBQCevmclDQoAMzyb+aWTqUtuYwFk/Ddw\n",
       "wFpiwC8QuAemWyDS3OJPnIMCL2MO8P+IRM483UYsjrU9LHV1mSnCCVTDY2CwsxIuQYbBYCQXZOBp\n",
       "y4F61jJQkL8c4R+gj9rAJFtprel3MHkfEANpmgteqJvEy0RdycX0W01/9QWOB3gW/e1cUccENqve\n",
       "hazDqNf0c6CArNRel/r14ISBqRUthVPmdjWsLentqIO+hP3C3rH6V5lv4RpWFuJP7S5RBp5uoojT\n",
       "eWZAghnf3OKYvHK3Uzt+pJ/ZDbONAXJhQ/wIMiuak3VwMujhrGgTz30bkywVnHjvmObcp+76OE1F\n",
       "uQLLjj/67dui+CTvlRRtgCWRW1jPRicblANsbRc/77SJK7HeWAhEADtYBkRREryvqv/dvS6BiQnf\n",
       "ykNoS8hxdwdMizOAqc9Mqe/5ghfkwaKZgncCb3n84/mEC3qrrOBjz4ozloji6i4SfVYYKZysXOTB\n",
       "nR72yhkOPOiK0hxxWreUKvPm3a5/r5ER7VjpQs6rYgSBrSzerIE3hVSiG4PTlEC+L4lbBntKK8Au\n",
       "1N1C3z9LwbnV3Oz9R200622+U0cs+n36jRb9NpCJW4IHqQl84H4hY+KRB9INwsePCmQpC+ENdJ2t\n",
       "A+srRT5CnNoezshyQNVhx+gh10G26O3YZYoR7hOKFEFVWsRu56xpEIBCJSKCR2OLzgC6zpG43XTm\n",
       "pdu0QyontPGd7XUuM1Dbkuv3Ml0L9Jldr1shPJu+9WZDvruKne/EWPUjXhj8JoKtmI5P5XFT2mOY\n",
       "3TAt2gVInXHQcsD/A3jsX9xBtvsx4zi9/9d7Tm34qyjU45Y/12EH1uqQhoUKSaE/BVllI6EssxKj\n",
       "MhUJk8rWWt7NcLkAADwlLaeMAQrBPM2WQoKYRZO8CVoDjaRDoGWe7zr2r9jw/l29BO6XxSWcnrpG\n",
       "RLdV95AvmVDwHGVESrsrudi0kjWfPZs3L5610/DOQiVv7djsL/wkdpqwdjKvtZPmFFRUPw12h77R\n",
       "LNXTwkZdpnnwvolpkS9kyTUvW9LiOYO73kB5+mIzBj6h37UolCJeQkpHPAmB9rtPD0iW0fhT0SrR\n",
       "5FwvG3mn7/xWSC1EMb56bEZKAvlcidx/VR+Im3Kc9mjHv2c7kNDa1FiwGbw4ZlfOW1Ke0/UEKJ1M\n",
       "p16vbX/QH3vY4y83oFibdvBDhWgvO+VNQsOcJXCHnytoFwGL4da6uo8Zfvv3YURTy6TWbDipPVU8\n",
       "FXR13ntN7EMFz7QaJ4koZ+MXznXuhg7stvFEX37X9fC/RaXaD9goPRFxJ/i1aqwJDVkbYsln5aG8\n",
       "GaTACO6vUMDCSxFx9fF6ar+7m7bmY1/5e/m6f6BQefYICothDHUJZxL1Y5oaX1QvZMN19u2LYXza\n",
       "Gbx3AzjUxKXy7cd4jQS0Q8rxTJ3EfGGIxU3QqFPjMBSbvCVzwIPL2vU2PUMS5OYGjIOvpVFw6nYf\n",
       "vaBkdOjGETocjOz5zUIDY1hPXq1rKLnFZYObmodQgS01V1sDizCwmUpg2IuVviRFahqu+fMD14Sw\n",
       "BJGKcggQumNYObBYTFaFkFdgTjQGd0LptXCQ45u+PgFMvE3xCBmn1JmnNWRdbuIJVsPMYOkGfBRy\n",
       "GQQozZYyG3JUYFpSltkkKM0E57WzvFlZPIO18RK1CDa1zzAz3lgY/zmsALX2rs3Ybp7x89xEXcb0\n",
       "9D9ipdNqa28AAHuHOn7oB08tlLyQAUNP33D+LuF1myFwtr1p6qR6uoaGh6nJ06jICnz9VputMTsm\n",
       "x5zbmh1D+XM8eNDlKaBabnfVjWXrrukgkh33xjB1sv2uIkm+9Adgch5Z/rkfKlf6Q4sAWgAGVnuY\n",
       "OuU056Bc1CnE3F7zxyBHUPgm0gW2bcI1aFILs5q/i5QOXejhjYkbJ+Am24oAJavmb5/0SGekUGYD\n",
       "1rObb2jYutkRxjU+a+MAf6M9GV9XLWu/R59RA5gTBC8ntniqTZQEbV34PzbrPE5pZVGonaiUaqzo\n",
       "zVgKc4prpaq7Cted7xWkR2dCllPgimpsL7DETKYc+Cv0K4BFFo66bgsgJoES/dD+9XnQ9G54y++u\n",
       "WwR/6eUKjHdUfZHYWV8fp30qu7ril8o3D6aDyy9HQt6C3uelR3XzP+AgU8wg3/LNMqBL66wl1wcC\n",
       "41FDnY2gfjibQ66uoYeUIr6whexL6NsPBvh0WgZJMfu0jHaFra5holiwIHsxizjZJZvwcdAPtuk1\n",
       "cWy9RpQMZbs6WKc1d2zr7c04YaQtZraBvMhQqHshAbBxkLr+tmKu6FfC2yOQbdHalzQqEI0jg8+J\n",
       "zMQs0XDspF/Qu0vL87XLi/N5Cw9JYXZsPrYEnNkW70fu01uXY2IG6hjGmbp+dZgACObhpqBJQPa5\n",
       "Frj/4E47GG3VvlIrqo2iM8s/ubAi0EAYfUMPZ+/EhlKM2gF9vb/CGtl/rBxNcXj8m2Gt1dO0y9ns\n",
       "oVCBS0301Q3rIW8av3037jInoSj42Bpc2uxgUpxao/ivgcFooA0ctxZ3k9K7oReUn2cWHMG0mndC\n",
       "FUfkjfRSFBfiHf7QKUT/CnRCsuta2PdoeRKx7IJ4T4mxQbA8T8RUIkXwwRA1c28NyqUVbb6b8oEZ\n",
       "+p7EfXILJwkUJciQ92Rum/W7RpOs4Cbg34GSIWQPDaS55ivR46Z07tJtZvCXVEDmrScS3e+WEobM\n",
       "12wubVfFoPBMya4owWZbKGNNYrnkvTzZMJC+/mCnJU7uTHM2/EGrXWQVTnK/VuPO6o906+yiKuks\n",
       "delV3uYzOsa1F/s2KBdoztkC5pSG06z5TevlYMOEcOxsoc1moBcY2p56WG1JI8e20uFgZn2q5FiD\n",
       "pe40xIuTrYtr79Lf3YfzG2sDA66ImXnuzaBRZoxFZ23G0XBSYhFFGIXK+ulQ+ynHMF//SVJtsG9D\n",
       "rgos4NwZIEkSCFvoTLylGVYEAZqoPyn+neUlw6hHHIWFJ7G+4IccdGQ6ALPYcfsI73CWoNUAtJnk\n",
       "b8IVL752tv9p2NpZVUpRQbKVYapr6rKVngFwWA2PlkD51IwLMuWtSj6gqfxmfDusIo0IS970jtMG\n",
       "ZOFVZJ5RHykICbpTxpgWGibQs21kcNnDSZluH2ZlLdYs1ldjnHzeM9MSaCrzctxER4kUMPg2ONMJ\n",
       "glSW8J0y7DOCcFqpkco058NB6mapPPvrkSjnIYyYRu8nwucMTwxRVmv0ZHKUrF0wUByz3OYG1XLY\n",
       "EX6U5tXnqHwwUOly37a30uhcv8LJkZ2zR60Ym7QNiihvtYtywSPFqKPLewBi1HtGRNmx4jyE39ym\n",
       "tJJ8p5oTcMpyInGbZwtQK24fzQDH+1mHu7N1891aYAf8+e9sXgn5q+1MEYnwqkLmWhrWeGZ03jy1\n",
       "UsPCkc1DXbIPbPVhAl1CHIKfa51Kv1NfEemqJxcRpeZRdbOff7DouAOCABfCTTVFGaQ/rsM9Ze69\n",
       "54hPs2mY3SK0DN6OR3U3vH1E2DxmWAe1AIB6bei684PCo7zOb3B5OJ9Afab3DJDPxS3OIhcdRXM1\n",
       "/xzGo9e2+DKvcg7gsYiBFN3P42gxrVsRzRXl0QNEsOaYA0Bc6r89DCp8DTWc0DmQkw3PLWd2KiMX\n",
       "aa7bj04D2JJuEczixYnPRlqiWt7QpfABaBVx2IWnTU0KdKLXCh83/fu3R0Ozt9wYtQk1A8UFprlo\n",
       "k6Be+V7PSNQx2nvzDKBd3wqAqsbs5mGtRJefxdQrqUhuy34QROD/m42/VnVeRHKQxUX939ihMUNW\n",
       "ZfL4FML3ZVdqC3K7XBcojXKhWWdesPWEYhilRmUDMWi2dvxCSPL9y7wJxWs2UJi/1eAJAu9W/jjb\n",
       "lxQdujQJTYI8ZIZ9JV3GhlnQYYT7zvDTNxLxNot6L8oG7H031nyd8Gb80IConPmHNLjIWte+C2Vm\n",
       "zSstanGuAj+UOOp9U/HJ5o6H0GxOhGR1EFzcEnH6xUHyBvTB5bU8+d5hRdGehe04DfxqtE9ML9Vm\n",
       "9JesgafVHzX35ZBDUMipumhIeoJpExtMUP0MO+GRQd+a/AbAFjhpWZXwnslRazc7W47OBvJ5k56C\n",
       "G3QatXmyA8fiXinmwp6QqFHBq5NMANBpCDC0IcThug2Bse797P8dJGZlFeciuyLi/TDtB0XbP7u4\n",
       "BkEDUagkE/8NGI3KIllsD9CzQr8L77XhoQ/XZov3lmpLxI0CSMJ2oRd22dw1yzWfKN90mXia0R0t\n",
       "cs8/cxSssjLO4psOX2v964zJeW5Yyz8JX4cOwjwRFBQwmlwyARPUZokQnWqpXtqB9FbhGXXYuPNv\n",
       "sHUHypV4QQc4lA/vXmxRiGU3MJDq5Kcj2O3Mvyoy73+1uNrl14bAQ8DYJjmZfW1oo1lvCg7NTKUy\n",
       "Ziu8bYu0LO9hbFhBtD+OSedLDftzeu+mZs4NJKfvAWMuFfYzd4+3Y2ldg+vPjwRH2kvtJeDhtRkq\n",
       "Xui0y6yBNRYjzru6YNG7BUHPeun9zQ7ddJpcPHhnl++dcC7mYhLFK6TUKHUs/6x2/OTA8SvniqEJ\n",
       "0/VVxVWsz5cQg6UVWKLAryooUrG94ajDLis/5T8JzAZ1y4W2yw0PQI43AQpLIVHXmlhvUKdFVY59\n",
       "p13AGByGUtHZX0IQBlqIhKFVpSNJRDBp0n4v81MI9OAgilkRkng8+JFTb3P46Fl/sT4ZSecS7Hc0\n",
       "mRqoDS96qocID7cRxdaT/m6QZ1wS6/aMLaxn1CKx9IFQZjHAmD43sQ8IIXvynKxWzVDeV2GZTjo6\n",
       "rHdhQVsURxK5QKgwSjpgWhLWunFkHnoDWY66bWzML9+3iK9dXKkW2EBK/BjmuuzJ9qya8MXtYHC1\n",
       "qLvdrY0XrFBJxkTLwuL3srV10tioXLPHd2US8zejgdTbmO11ObGJ70PwWJvbDIylTYJ/eSqnJJnn\n",
       "kruRRS4t/J8h7Nb/FEYDmBAeUFOVelzoGK5dXXczVp8iDWOF8ep6UVLs2flfby5W/Chv0UkLrUrZ\n",
       "ueWx++jqJQnDsKy/HnXWz/S1C71mbWYGi/55mwRbQw2NoQvTK2fRlIDxN+gxXFcVSkZ3SQse9QGV\n",
       "JlBoRSvb66OVPr1wikiUk4kIwfA0Ozq+r3UUlJZ+d27lmPyyRpwm5N7DCFY4Tt/rRVz3/M9X6pt8\n",
       "u+9S8imgnvSBZtAl0pYmY0cL3RXWaSrl5kZY85lIEG/sNrjD1Xjkour+M3oRyQ0BM0HFiMsparEI\n",
       "HOrKQhCf2awb+twEUZxYQehdFJRbQP3WkFzOGkDEJXWQZTwhPSO/HPeEXGtoB/FbHjMVjp8yTvyv\n",
       "G8+vnF/THCJCEDfPLVSa4iD7o10ZutW8cbv/MUIBgpEcgMpUy8wnGnykresE39hj6Uf8X6G9L1j7\n",
       "xYw0de0p6mT1ytWxzDpZzUFB3ZwIH7HB5WnZZ04AvhQ2yQfWhEka/0a3XoZ/l+OE4lIdT2A1CPuK\n",
       "4en5+4R435d21WEcdRvrhxj01sGp4cnYKr/+LGrfX0nUYwH41YIXQx5Jns3mrvoAIMWzRawJALYV\n",
       "pvZhG1kXQLSXV8/UA2DZgmBFkgls0YpBNm4QhskmWtLrUyyFTwR1mMwPAg0RuBkP1MDluZLJdLEQ\n",
       "Keh2vUPtSvCPB3/KLclC1BQ5av6Kx8jCEX8LWLCNtRtO5ykmyQuXUNIDqniInnNvxYoc8ajHZPej\n",
       "iOdD+ywpB8qJIEQp+ZbKx1eeSxmDkNEnXYNqgu7vblZEJD0z5aFTDz0P2PJA0rO2R+gWm4zUb+bw\n",
       "aYUmhGb/YZ4CrfYRoXuKOnTtTftCobNzgrctgj8sAbSDg6d9YM8vS6k6txE2KWf5YYHMPV/JbLec\n",
       "pNmCD9yBfYexKTxsRQw9mVg6UvFoICQVUp35byGB3mx9UhSWxSzeorasHRBviLBsUqIIeEmMA05C\n",
       "K65Zcb83RkRNtlt1pjKlIKeJsAy5EEXrfxF4lZurDY+57Otp2JL9g3bc6Szg2OL3uQoZUgNY8iBH\n",
       "xONJFLs+Sg15DxiSD0lAJwcMQybEbGdlXpbBysKvrbn6Fwt5JIavDiC9JIqXDtfGa9SncYyTZQUk\n",
       "pApnA8YCEfNavgufnXxqGoMwdq3llnGht1+vdWsKk7rQp5yeFV8FAdJDzazjOmWJzRgAKmYgzokI\n",
       "rH+Nc+31PccIwdvm+qGB9VPvP7Br0cnHVUq4b/iXx33phwBjbm3ukAmGRKNtOrUmE2y0wSQPCDqX\n",
       "tQdp/zXLsEgh2VM3D84BORE/8Xc19gl0yHfW/NJ5Aiex5Ix5RbP88cUp0n8TCgzbMhZAi2x9Dw5O\n",
       "eCC/4BiJV06hr/GcJlTPc2NSBUg878sNBgu+/bh52dycSV5yyGsd4bViKywD2HoN9o2X9ZGb3Noz\n",
       "IpKDJnM2EGndNucqt3dsg/Qm5IK2RP0CTe8TjebSDrJz4c8DrEtWuZ34uASziwctVXL6lorHtSTD\n",
       "3PS/oAX9MOj1zg901N7Az2luNLkrl41eu5w7tqHvdWSSkresgdryGO3BlhU/tbxMSdDhaEDT5LG2\n",
       "jdEWrmtEpAzfrPSGYo5q7bNp7nIiHTKD1azlT1/DOCk0A29LsRr744/KoaQsITlrS7nhhh/aowlr\n",
       "SKUtp0ZvCP28XlVzuKLM5IoFkrtZ2TTff9Ary2gaGGy8ymHGGUoLWQiofY7xmUMQQNn1WAT2o9wq\n",
       "pluSM7xZ3CQXZOCHxqPjTYtMe1CBN27f9SKNMK5CjAwxPa/cXJb1bdESXkxHP33jCpQ9jBFYX3uK\n",
       "q8PJ/jp3W5aLCIayi5Xjlp4YeADkUy81bE5JuguQXAXnQ9u95B3FHClv1ST20SPX1LHnHQvnDGtb\n",
       "uGXZys5YKPu+CurWMXYg8W3RS5UzYLPobVgFDpI0NrXTcmzhfiCT7cYWinB0fBCOnqBkhKXjD3bH\n",
       "K9fUFLKQEYeQY4BYObtSJnpBp9qn+RxzERAJq+jb2nsTgAjhcKGjkwaoQ9UkxUK7u94XUz7atqUK\n",
       "YqRuIsWumYeQ1PHJP4rHQTLLIn3xBmpDE9nLJFD71ihX0nudGyVR+mPgBp/nbWLd1I9te0NQwOdE\n",
       "gH6VB4avGVHwdvSD97sWpDGZeOhX9wAeDcVTrAaEdqmlDw0Hj5c4bw/F+QYDkm6BoX9+NsJzOLL3\n",
       "F2mpMlLMgr4SVeFOo01WQm3zb10amwLnJqhVPdjrnOiQaaSe35yOmH6JJ/q2XuJtjAFfnSbC9ySA\n",
       "NMPR4vcFDqbGitX8cYbzAgyJ+3eLoa5IAmxG+LLuwNzUkylKP2E0N3MPXHMYxFc3O3OkO02CizdH\n",
       "idLeDm6LkkrUB92GfAR3WOMZXgDYVhS6m9hdekvwIdmWxj9shqIfLfaRv+VtdiQVyFL7CeKwzX0t\n",
       "kt23pKZv/RXszjBbZhD6jqNJjpYvhX5qp51kQ5+rPb8kCYj/DhJQHwWN2+eDCnwMczNpAn8KlOxI\n",
       "wn9omb/h2rurC7dl2lZt4pz0XOCU3O1Ee7zbLZvQtd3d23LHgn591/eLK/bEgns3UR0do68sPOyG\n",
       "WCHFYm39f9MeVEkv9VTbwCml5+3nliBA+g0EWsDx1CAisZMlGM2qp+6ZNCDVvWbZ8TnYN5p8njsA\n",
       "7ipHt0aSADthAFc0HfkfhYHT8CCZCA4m1tvGelnqGoIByff5KUmoJZ1azxBSdf0BDb6fm+OZXfsx\n",
       "lYU2HbdtJ32E/hygAUt2+oMcXpPeCNKXbVMGdjj8ZrvgAT1JeZ7wZeaEJo5jGhBiJS+nuTHkJWsX\n",
       "f17IE3UO119r9lOGjYO6Y7LPbOgNFmhDj21v/+6RYlrPhd1EEJeqRV4CoxBU1qk8uaDnd34LTK89\n",
       "uZS6fhp25x5rsxnGZ9KwExN6wyUfgXcjF8eCX0fcxOtf6CuuOYX7fo8L3H7oLftT0mARGo4c5YxK\n",
       "WPZ7bXm/mSDjI9syL1YpmtfIKVR+LepJBDx78biFqJ28PCvpfWl/i62y68rpAkAsS9vusooqAHfF\n",
       "4YcKTB7P4y7hvzgMrB6XgWPbeFXKxl35AnUmraFIIsteMG2iaCP5Nr+Ub4/+QCEKO/VjRCB904tD\n",
       "vOrPXx3tPqAq5qLPhSYK6304prAAUJBHY0UcnDin0a3gRBTp2/Jvjrb4TvkfW0UgQ1l4k0H+pLxl\n",
       "NA4GmO97IiqFIlYVGiusTb0VNkFvBM1S4K15OzxK9W4EJQfzLK5y8Qzp0J3kQDnzFDB+/VBEATPo\n",
       "Xw7ZWL2lmxuEkmhvSkfAzvPzARxDh8hpcLmH8NxjBipP+V+CcwE+fdP6wJOgwt0cAhf9oiqq5il+\n",
       "OLd165TjuWp7FkIHmmN8Kp0K9NaDY/mQs2qM3JlgXR5oCDq1id3ndfN0W648gunpyrObqlnATcNR\n",
       "ibTzkKmNk1PltlSu+57+m17rOoL372faBAeFQ7Z4pKiz+8bWKH0CwJ5A3yEwSi1Cb8vM32gO46uN\n",
       "nVe2x4DrTUG/tO+5tMWT7jWkoGtT6UyeWPSmfpy9dJSyn1bfdfHHEhGjELiaPwtHhMB0LskfqtOe\n",
       "HQqZ3Kby38DBPjcZ4AFMjqA5282YiucLUvpGi7KPYhOjv4/AbrrXRMULfwZqz/0uGZhi9Kuoy8hg\n",
       "9Lg9Azjiz8/0nkhiWldAEhWBePKjgFjHkatI4ZFetELKmbXFIUfv+reULVPeRNz4LIvUm6nmGzx2\n",
       "wRJkGx4P8SQ5kjnf4e/Q8z7VgvmcKSTUnp1boGod7R/9kt0OygmKvK11m3tEradkwWMo3N7l2gfB\n",
       "O9eq0gIZkYE6v/JfcUP12kaNT8jY+8tD8/rl0SukXucK5zoaYfZrDc3bCVKS5Y5vFmhhTKRYRbyI\n",
       "8Z3ODJfUZPykFOJ28TVfg14rCYDIpUM0zCJlGLQKfC1JASk5Drrvf+am0jJd6R3YynMRvq162Fj7\n",
       "2kJwVc8QspaBSbnCJU+hXb8L3j0DqWWSE0WthPTQuddIFaxpxVzzDDuu38UKLA0Y9TEApczP72JQ\n",
       "Jc2oir9uxJnPtVfD3jO/aOXrUMiz1qfSv4ehKoZeLM/LcmgI40YlpFEVmP9ADVMu1YaziwY5CCEr\n",
       "0GTJhV/F6hQkmCnqGiLIXDECRZdbErSG5brsSDmpY3nQPR4NhKk+IKWw4S89Uxi+kFZ0HnyzjFMn\n",
       "lOFXU2GR8Tuou5xzyd3XAu88nH3pByz45FGvx0TdBGhc6P9yohTzvzhNoPix3nnCNcvdgSrTtMMQ\n",
       "37fHdQT9VFTotgCChShx8y9CKh5gt/tYwmbBWuYBzT/WWu6ukjvAITIPhZWiJu2H+YoWaZO2QouE\n",
       "n7oPqFOlPbmxa7E1cDQsIq2RNtZbPlo/M2UddYhXqcWtf+Fv92t3cinUbdOMjIuma0bJBO6G8GkR\n",
       "g7ObOaRj4zaWDFye5crvd9cQgYdR9pimCucRgSG7ln7vTp/fyutUdWUTp7ZOq0d1NderC09Y8jCX\n",
       "x1JsM58d2yOjcTrggksfO7vc/bTW5TRflp1GsSPNRfrbVrch+bZFNV3rk0Vyu1kV9/k8aSP/X/Kc\n",
       "78bt1hSlxyjPTfMXxycXiSlOtVNckozhb56292WQSVKZqJ8mIgP3Q98InTMk0+zXc6gAnCfJGs5X\n",
       "jiDXeox3UbzsehLVR22GZhCdgclaHCH7qv+RVOpkH4QbJgvdojQdgRc7+RWoyY/Z/OzyV1v9njnI\n",
       "lqwWjObQRvgFyub9/0ZZtoiN1egEyERKL8ZCW4UN37RoQf92bmS8o5bpbGH8G/dJbdnS1ULX8bhD\n",
       "FZzj4F86FXTEc0NX+RVW2Dv+Dj11gnbOBrt24mFQk5BdPPOWQbShb6oMRwPnycnkd/3eYDkdtULU\n",
       "8PEEHXv6zt+zVdKxMjUTRFn2E54ulo6T2syeySVJeYPgfnEEWX6xRFUio2YCBeiKBMxavjM2YGgS\n",
       "xrsCc08KdO4dY7C4mSaxfzBxjWWxU+fM/Q6gMXd2k3ZiwyIjengE62/xMwk/fIyR6eueWDPXS+iq\n",
       "FzXYuxECyVO57vADIFRzrPAXUcfGaD6Dnbk+4tcMQw0lkL1WgoXn792V+R8q/ZjmJcv+0wBCidI3\n",
       "4gnXm9EjqEZwlxK5dH015cz6pyrEARzT8N2/qzkqKSngrDLAKmGMYSFC2cQuT2xTSx8bFz02/0Wg\n",
       "QFh8TufF8vRs97XaB0HK4VZ4mW0rNLidY/aoIWZWyd/BieJTIcPqRJco/J0BhJyITBGe+fwJqbRH\n",
       "n8Y9vB4AqnlCdQb2Dds2HvOgszZciQWxYWd0Ha8edNYoUaY9Pg48qyLUSO6U1/JSOYsLRgtsZKlR\n",
       "+SiX3FsBo+IrDT/HUZKLuiSu7C701lppHSyxKeVw7jZ+O1swG6eheNUWjNsDHKO4ZqASQxUujnPa\n",
       "ROdM/6ODqFcE/HudreA/hPGa0909hkSTqQOUq7s19MF7PdaayqcITLnZpqQ2Vfp3GbjUSSTeMArR\n",
       "xdXkRGvtZ5Mekj8upYnQVdsWSP/kCrbEHrjMiDfrF/7FmLyka+lzj/4wjhC50zphBgdZbejFj4zP\n",
       "aoijgvMROOmnfWbSvJha7+8bkjinTLp8HF7j7MEYt+Lx+Hsq1EykwQoNFB3XgtYjO8dyxjYgzGZE\n",
       "J7ulOLpy46//vxHdsFxUACTxBWwQ1oSk4J0PyctCwL08aiNwHMRzomCwUqFERtYyzdjeaIYHYzd4\n",
       "KxHEVsOMDlsV3qm+/wnXXlKhjYvUPsAlaVP2/EJbs+CuPDRyxGgnqpeP/0GZieCq+nfD6YrfaRVZ\n",
       "aJtadXCS61TSjJKsqSz3d2COWWTHg9jqsBS70kvGW84zh1DIJKG/e3tRoZhsJso5mMqmTmNkxHpY\n",
       "+j4RWhce13HCr0cdoIPO6KNqYO2KJrUxC0pJFwz1RLlgpB3qSgPj52o09DTNFg4++E6Pbn7Xv9mv\n",
       "z1hrwd9wLwvGV1w95LtJK95ZF0ulAJKn6EM/H5UP8ZyCP0zDLIfLgO1Ymb4yJoUs4BlhsgF+cDsz\n",
       "xyFeodDRPvcLDUHUkWFVD7/SCos1bYPXT2DM2cKszbh4XcjmDT2EUeJNR2zsKiSLmTxoyTv0mtXx\n",
       "CWrMIF+l/OBSA3mpuf5SQElprN7xRfoBoBW9i2i4jy2V9WneKUCEliRMwtd/ShSl5WWMtroABPYY\n",
       "DLll8zMTBXyUx/LnoUEkVDPApBmE+EmTJyvPM7UMtf2PDf9wB0ukPuFx1od8tOHSycWf+beuz+/R\n",
       "eL0DMRVAO/zRcCLC+Lqz1chA4CBK8ZxADNSVs6ZCgfJzQVNkZ8lKUx7im+Dc/VE38v87pV4HgGz2\n",
       "1lsTmXpSaESs4KnHvjiyje9XKqETfA1cZzeiJ8A6DjnqpmrkYpN4L0cSbL0bXn9OecfztZkpIQRY\n",
       "P8HW30OgHsqzM80BgCFg9sXtvoN9wQ4lt98uJrmLAzSGR7BhaSGrfcqUMbBnhhmFiFPtIN1y6B7g\n",
       "nTO8gl6Fxb/0LoMpn3CHhCF5mmAVNQwBTf9rssTI+wVy0h73STSdZdxTCPPTpBNb+UuefQk3wPNe\n",
       "ufWD2w/9dBbW/bXqAK1X5AdkK+xGFVYaw8q00jZPPj70dq64ysYl9LtwzImdjbiyFeCN/myzHzRw\n",
       "Kgu3rbRrZPF+ILvgAfB2v3lueDtWf0R1AcA17y+2ASEklPvLh5M4w5dLgBJlAYAXrmllmXEKTr7f\n",
       "VJN9EftNxmzl7KQ7ZztmgPq8Ugb7imREobZaJi+NdWxhuik/PP+PPnHTgmFsHoOp22OJXj1F+z+X\n",
       "FryuEV6eMlmTaZaAoz/RcuQXW6nADnGlxKvrOrMbx9MbkKFkdlXpdjvP2yvlqBZcUItHv6FBO31r\n",
       "U5+7nBclAH4YuMjUGwyccooYVhcLlYvoY5VzL71P+E5Outw5Ulwd8MRjzQBPY9PVXnwZO75x2TVe\n",
       "0JxWjXUPYOTnfa8XzrCXUhJEbJBGF/uJzVkajWR6ToZ8PujHtIs9LV0qmn5BUFHkagv2YA6rSCid\n",
       "79fy7865zgIYiNNQ1hSq2TIJV5W/oHWnXAmmkUzTxEoyHhP/aCs/L30fNKdlAepVhcR+XRK99MHg\n",
       "krYequX7EZUOP7GyJlGiVfjNI3GaLvL41jDvr1pCr84U5YsjU6/UQcCqPfAg8bd/z8RiRA0gzuSK\n",
       "bMzHDPe6veLrrmTy5EAKllrCnBuKrDvb1reZXrv3zq6xBeSdaHuDr+9sT5NyoqyEC2iG0ctivrk9\n",
       "iwJZMFPId0LXsQjWp2KR077kXJbfujM3ks+JAdgj8PFo3FqJqeZ9/pjdpLhOanLTm+ETEgTm1PCH\n",
       "N7HVFQwb6UtaDVsF6lLkoY9ELd0RrPF/EFlRg5MO5Dpk1yubtCwArghn4TFPWR+wuAxJNHvjraS7\n",
       "DdHgcZIcRw0SrRrRs9wnCx5+8OVStEwuHzA38m/BXPMNNR9sKigEozmQ4bAQ+tCTfBp+VDJGFz5i\n",
       "lBIJpxNt25+Qrfzvlz6Ct5C+Z2HcGaGrpICQ1xBb2uJPDvvgbbVXveqQLmYxsWL7ptwze5svBohi\n",
       "BePy6jIGbAUfzdJv99MErZJniY3nsiuPhVfPQD8urofGacw/Zy9hd/Hni9sTsegQ1u+rT1pZo+fq\n",
       "gFJt+7Bqy6D/3bwIp2A2wGipDfk6al6WPZ0ryDiq0cdlmlDdN8Rp4GDyohYSfUufXtsKNICkzUn9\n",
       "Tmd/O2/K3P+0/8VK9l8QA7xIjcWJi+lR7wrj+BDphFQcshIracOppDMysJRZJr2+SjeDgFnccfZT\n",
       "RaiL6guePvooaFsubSGQDcK1X2xiI50d3CQyG/RcRyysuORd471tJcYNLEtu//Ii35zWnhgXa/OM\n",
       "8KjzsKz2hFfo0VWGLSYhfTToLJIBy00r74OIsf5A4n/z9vmi7dF4JaWuqSIhjd9u2GVxpM18pbYp\n",
       "+pCo6cUzpRcjDyemxERHu2wGW//1WU7y1gvvzX8PmGXtL+q5O4WvzLCDzvlZXJQievoaVwZlADLK\n",
       "u16Ll9iu1Va+RGz3Aj2Qam+wjEa5nQOSuGRph26gTstpOG9DhuqppxCh6xl27zg/r+c5Mh9lL3MO\n",
       "ljjqXSZqnAJ536+C1OrPugxIcvNWrRXI0E1a6JeJaBu3JOU7xdJSyV9Cq41lT4wS2YXU3GPTihIl\n",
       "rW2dQxyKsXp/U0tLsHSGcz+aMgduIdNYqPlhZQxsIwC1eZJJhGxv72D8qSqlQEVqdswhqaf3Y0hV\n",
       "8qZEppISR10LoGusVpEPeEcv85Ev8+03yNIvVHyaCGufgX53h0id8/9zeO4gaA4y6hMm1YEa5NeO\n",
       "z3MrMKqgub67aHMsE4QnYlkuWbWNZwvQLtDoEXW4M+i7k0o8WUhNtA/7eNG86c3Jf6rnh9wVz3+O\n",
       "tea43HyQQTqF4IFLhvyXgrDsHeL9Yy8XSOyjzJxKrO1W5O/O37WlzEebcRp4tOwShW1xNKP6MHR3\n",
       "eXCgajxXwu0vqlJwYkXck0YPvSl3HZ6/55EQ6J7m5BA1ySiTTxv0d9Aazan02+psKgT1sbvcGRFT\n",
       "nICq98h+6H/ob7KxJUFMXUUjT9S4I5TAnOE+iOxC2/EjyI0spyqiaERpNcfnX0GLa75QGxD6RDAd\n",
       "za2tPI1ZtMYz/VExfeA0vgmmXIERkslfqYvt58DiQEuJRLE1o4vfSBqor/qfPyI/nB+jpHOYwOSM\n",
       "rk9NwjXeWjft5a9H1Qp35QNE2Z/TwVHUQHKgadXwZz/BBdS5f/2JbD56Lj2K66sjPOPKqcuNFmFR\n",
       "4PCKVchbaUWCJCtxTSojdYNzdLeE3n6rVBDW9NxKvD1iD6X06Z9mBB59fnJUN+r1d/qt29u5MMTP\n",
       "iGebj0PMBy67wEA+8/ZtTpTewKwDIt7wZpfqxVrk9ZQvHL3J5cTYOBEUVpLgxTo/Z+D8/2ZzBH1O\n",
       "RTrLD8XTS4adKHawR8qCt0mlN4Vqb7/x5Bvo4oIVHaHSBYIFXgUv901T7ctS+JKVD88QuKOtqNub\n",
       "vnN9imOFaQAdqt7wr5pG+3CYPlfNkeLNxfRHquN6ka7e7iEU11y10/9HqvvIsFIBh6e6P4qaSDjs\n",
       "yabbP5qHudEkuT2OFb8aQz5DmPXysMQ9qcKaDE9I/Ms2ZDEoh9/8zg7zwzQLnU9uqbrmWtHDDjwz\n",
       "XNTxcLSNmZ/adLsESWS/tPwn1DhC2HCuAcSJ/4xpCZUN5adycHvPhJhlEbnWzANoq/t/8ol7Z7UP\n",
       "L2HXNgREpos3Yab6kjymmfF7YSub37i2SGbtWo2r8L9naZIm1txfYcy1Rj6jAd8GdJTYpNDGC/QH\n",
       "Iv49On49GORFysjqTLPxEkysfHUhKglfLByidk8mHP2mmkLOj6AjUb5KK8Ib4p88Rg/NBdxLfTHr\n",
       "23riHgkCEBWVV7890JoRj6tChmtDCd0HKYylIN7OJmeL0KPlaFMXIYfhwDjzcWFJPpm3x6cwOmAD\n",
       "yXKv3RrSDzPkZato+5j/MajVwtoi5K+OnSqP3ZrYw7on/vFEjJDox87myIi+2J6C4PxXyaTayq3b\n",
       "OuZNx6FrnuYSJ14JjJsAPlOkKyd2Mf2Rytz0ceb8BPHZZs103KfUnd7ZHbSz95s5xx1MUK5vEiTS\n",
       "9yeHGNl5J0WnB0vo4F/iMENKB9HHT0Un8dF0VaycO0w7dcp+4PWK++NSKibCHs6gt1IHqjJ7paL/\n",
       "mnPshytkPfbMfFwIoLW6jJ01U+raz1T/31I7rp0vl6Lg/fAVhKobrpopdsMkUXsdQstxYSkX93UX\n",
       "OUVD88LmdTAjd8UIoTFWRQQvI5nxzFPqHxjBbqOjra1eJF9AoTjLuJc9YDM08u1O5CEEs8uSaxe7\n",
       "GmY4Jd1hwWiVAeRCrITmv8j20AUmoWySTiy0u0o8/GUngD0v+38x4sNLew5AB9l88EczyrRmb934\n",
       "fnIQvrk3yR9zE9cr6R+t1wvSavFWngHY03PHhbnHlznjnm5DejMgXWWNWIgvwkE1f8dCIAWJ6U3j\n",
       "ZmYO9Fi3yOalQnZrWhJietdKxXXzG3Yt89zXep5NELv61cMlnyEbaRQe1z/9r+lcBgu1ukPrnz/H\n",
       "JYr9Lf6fPpAm5ZIZI1vvmUyggQnYeOJkA1RP5tDjLf/exbvvHr9pUROFqfMmXdccEdnYLwWPQTNM\n",
       "5a1horHeLDiC3/cRFO6wrvgyERUL0wqurvhjwYllxlg/t5RHRRiSDLMtixF/isHblP3g1mE83cT9\n",
       "TxPjQRolmSzMcxsxXQlzFG8ftPNLY9AXdn4BzbAdReOo5PZPmd1MFaWY6QULzg1FaO9Zf/80483e\n",
       "paD/gi2RA0LDSvBTyIH0rzCNaQP+4u+Bd9leVZOVoZsufhtp/ezLU6i3d2V5F7bX3wgcRc9GHrOa\n",
       "u2QsZcX6uw3An+tEvKGiCfDK7cZ1E0iv//JKvu5FCWnIl4rNcWvdF9cyE4K18sBgx/b9DhiudWAV\n",
       "X3TFPQfb/yagb6o163Ue2VBOpO6IkAzDNhaRXPvrZXF5ko8ObsApem04KEq+0rLCQVBS7tlNX9GU\n",
       "2wmqXOuQA+fxnVa2ETxe3qImIQpEJ2EjLU87wAhWMZLbJxIe30t68Htls1+PD4jY9Rxz4EdH2hI3\n",
       "PJ0FdTW+/0khTZL0SJCqmwRc12sKlNcgTuOIBE/m5VP5Qx0N7fhhWoMCDQu1+99LALeJmcWFvkii\n",
       "XnZFZPY8pgOCEZ778ZxGBXBVLYTTQjIZBC2LPvxhIv3qv960UTj7+QT++d0UDnxoaFEA0fVuPk8W\n",
       "FPE8p1FOKIe+QqDzqjL8nzcQ4gi+OLBdBlN2PPRvpN7kGaozviXsD5NwyvU3f+Pg3Lb1ILfbzbZ2\n",
       "W50iwgN1p00yyA0annSySHc8RxblBHY63dsv+xmhOaiO3uYEeoeNRp7x98zX7CayIG3CWkpNFXeh\n",
       "4kusuDb9pMwgejmQA2P1KnucAQ611z29ogW5//vCi7M1C3OdJU+rhbr7rt4J6YxjJEq48PlJzyZE\n",
       "PuLdm8Do+zukclb0LK4H8QSNi3HLPjijFQn4QrEQ8Hes7/QFyapsIKPnZSPsTpEjGAwRx6KjagdV\n",
       "o2p/ZXI2ryePmCeE1Vt1NqGUiPkifg8fHsvKPgs68wZu7pMa3KSGQUiIjqF3bEkQXcHtIn6VgaFy\n",
       "vNSOd8f/+r1SSHTHIdiPIEuarnCslKa3bBbGf06wwg88OfAHEUa8TZlh5wEXJ9M8Xwc8RR1ZU5wW\n",
       "2VDMd1nQIlijDNSYB/cm6eDxm1NES5BLclEtI0eco1VKXap000reAyTKzGnrF94kG8K5G0ALfsrJ\n",
       "+d6aNwhBj85SkM/bs3ifD6lHWx1BrY9/fKrH7HMTYUZVRkrKCbimQw+Iv1nGuBGCwMF6upBe8fcY\n",
       "3F2aEQNwjd4J86mlkwezEJqKCTucOTh+wsJjLm/ecVSeUTr/yM7TZ+G/7SwzlV9GQEt8k3AQQJeB\n",
       "s9+Y0aowPD98tHs62PpWpsJ1sC6O4S/LV4xBpman++2JmpdkFC6gnzst2sq4b3nnvlm77srBxGVq\n",
       "l3l0CEBOjEJF0CxVtRbrJy/89pbPDM4kK/zznopO5E0mlSkiLtF0G+sLwSzobKwe9QUTP9vnePNW\n",
       "AfLX1P00YgqVWsQfU4U1FMiqt6nDpljvoVJyi7lh0wa2jELCqYFmnEGrn0WbtgdgemVzeKTNKw0O\n",
       "exGZeTHSb9p6HTpb42eheNSNQCi8Smb/3/5kLeYJqEl/7gPgo4L5IVDaE9YAsta8WSF7Q9XyUVL0\n",
       "JUtDCGOuonNuLMumhlV2D/7X3WbfmpnFzEEFx83y0hOvN5TtMzxDba3T4CxOodHY2NBpoZqa8g1a\n",
       "XrbEU5yIaQm5oJ1VldJnIoDlv3OYWzKSEErDXNgng1yBCWoIfHuwgbvD76gIJkdAB03EkrsMPNT6\n",
       "m8B6k5lM1Zz1UMAUeAazO0/BYR9BzBPGc+nu2+VbauLD4FjQTYhkKRfG0N6SW89zHyvTxawzScAh\n",
       "csAvc8+M20LGUOWaGsMX2HTPt5k8lQRxt1ViGYanOqbQoWFiClugp1xunu2rb0SnPYKny/+5a/c+\n",
       "+V9CTRURM7l16oMRDYQxLMkzWPrcc0KwhhoffVoPnBm49aWr/AC7KlAe3QgfV6L01nRW/WB38WHm\n",
       "lWBzifWDXXBun1jwogJtATzRwOXOheJmbXSHjeZpvlaCmff1FLjZ/qFVZ5bEyDLo+mCVDpVflw5O\n",
       "mCsHso0IfRuklSZrGMNNXCu/A0RJcS+2QK2em5YjlxqOxQuYZ9FVr0lYblCcYIeTMpLG8aDeUhFs\n",
       "tmLguQRFKwlr7SwI0naV90rQczNrYpQOe5iqPP3MhjmQ7cP/eZmrVD1+zvQew9xifXnbHN/0dKed\n",
       "+fvH9pKNuBB78NmyyBSpRSgSnkvtPuQ9rbh+5HWCuRxmeYYlkav3lypPVWMyHU97ZKrksc2njLrj\n",
       "AUWF/eE9vRQuT/QBR12JOKQ+UTJl44UfjWkSAzjsFcO1q43vcms4XnZaYQt5MS3oWs6XVtuOjCB4\n",
       "RRRqg0grhznohOipeLkSij9Qb4s0qZKOhX9lHyaYg7abrrPnxXmEGr+yDsRPSAIpXOuTVbEON0oE\n",
       "qmWUFSwb31/gfRShAMPtla6NwYIH/sttZBJY2fCYSNV0IJmTZJTmNA3YbJyn5oDXQKyoeYGpIi8+\n",
       "NjBhkCZoFjVwvd3Gq/Z2HduSWYCA2FgHrnFjZb2qrzwBl2LXleXDzWLiYZZ90ToKRc/o98NQ067K\n",
       "U6Ffe/ZbnfktzCqbmvFlPxoJT6iXHldpHKS7TkCZ9+ZRHtVQUs+7LfNUrHZ7R1fAwhcVd5XEiWia\n",
       "UM6p0OS6Cw/RJ9lhJ8fcQIx9kqJsoc3XCZqoHSlgGh/5d2wjWIP+zZOWZcSgHyUaCrE5bu35CdT9\n",
       "PMSjWtr6rqezbE6kDp33BAn6NSDnZrk96uTx6nYSOVvTt9qoA6OVg3ztIlmoXujIr7FbHqjZxJ4G\n",
       "XiCviaqMxSEI9Eg0PZga7Kdw0sHIfv3+PQa4Mk9ENYFMuVh5uXElJVcj7AuPJwC/TAJ11C9pZdg+\n",
       "X2S8shNhCJCn7iXVzUNXrAAykH+eeGzAHcAj6sYY4qQhAAABc0GaJGxDP/6eEANz7HggpfwBu86G\n",
       "8kVPZnTC+oDU3VxRQ7Y0XnJUgKJIkfVlayXSnZKX8pa6EpGDxShmRTiMtYnP2htjGQjE0U4g79Bk\n",
       "En80OpMQmmtAHo2tFOzOUEOm8HihTfze9aEAaqg+gRnnvJfbNPo3KQl2PymKoxd6qWgVKPMP8Otv\n",
       "KGHtQS/NP/BTQdltWytWf62natdIl4+vDAzp7ydc5IKK/svZfZXRAdPquYS4zdpopBR1r98wyWxa\n",
       "l5rqFunufU68L1k+kQyi4vi5aJkWohOjqRl79lXwv0Ygl6XjRTzEy8rkiN19s8nmHraRZnTLr0D9\n",
       "qhJqM/r3SPyTaq1+LNgMaekk1rctSb+aNtn6k+qeMdjiLplUdsgdub1WN/J9C/DfAr7amjNJckG9\n",
       "6IbWDCm/h6yTKcQKCDDWJxY5gAsBGRRR3Frk9BQl5AnvQaxfZ72chjjVWFMmo9mI6+2p0Gewrrqb\n",
       "FY1HlehKLEGNAAAAMkGeQniEfwEaUVCGtTIgAAh+FONubD2C7wWUYz1ep+zj4Ww1ctStYeMd0bB8\n",
       "8u0JRPmBAAAAKwGeYXRH/wHEijaJEP2RN84k4/X8qvMSWWxeCPPIMJaY6UheznuFiRM6RkEAAAAb\n",
       "AZ5jakf/AcWADMFUeaYhSbakpVkvrdJ4O4rQAAAAM0GaaEmoQWiZTAhn//6eEANz7HhUDhFoALD0\n",
       "T1XgfjLZR83vDJYjI/FczNeKvP9nX3HUgAAAABtBnoZFESwj/wEdgYxITyYOYvJ6UlzMgHaMH+EA\n",
       "AAAVAZ6ldEf/AcSKcBTHQ+O7jJshL8jwAAAAEQGep2pH/wAA4sAjIjiKsCeBAAAALEGarEmoQWyZ\n",
       "TAhn//6eEABPcnRgCt+tPDaKostVjOFIcAhMqalOK/Xet6FTAAAAF0GeykUVLCP/AAzhT5h1Tucw\n",
       "N8TQt0IRAAAAEgGe6XRH/wAUf0aSIfVbYRCwcwAAABEBnutqR/8AAOLAIyI4irAngQAAAEVBmvBJ\n",
       "qEFsmUwIZ//+nhAAT3J0YA4ozu/oeRsDaw0xNesJSfXtiezG5NpnD3WOGXxowVupX5pbST/Z7auT\n",
       "OfLXeZknBSUAAAAgQZ8ORRUsI/8AGZBv4gALZd4S1XKuVhktziiq0chc9VQAAAASAZ8tdEf/ACfe\n",
       "jLua2+G2oxkwAAAAEwGfL2pH/wAo+XNBx4w3D47bWZEAAAAsQZs0SahBbJlMCGf//p4QAE9yxpQB\n",
       "fi8i4lzHLiYN5F1ZqI0CF2yyvdkQMqAAAAAWQZ9SRRUsI/8AGcKdnZdT4iImRXNx7QAAABABn3F0\n",
       "R/8AAOJFWNW0OW0LAAAAEQGfc2pH/wAA4sAjIjiKsCeBAAAAE0GbeEmoQWyZTAhn//6eEAAAB00A\n",
       "AAATQZ+WRRUsI/8AAI8VCL61eSDyXgAAABABn7V0R/8AAOJFWNW0OW0LAAAAEQGft2pH/wAA4sAj\n",
       "IjiKsCeBAAAALEGbvEmoQWyZTAhn//6eEABRsq1wBfjKkAZSCzOnux9XZbGx+YPbUYRGJoEXAAAA\n",
       "FUGf2kUVLCP/ABpinZyNBuH/qylq7AAAABABn/l0R/8AAOJFWNW0OW0LAAAAEQGf+2pH/wAA4sAj\n",
       "IjiKsCeAAAAAE0Gb4EmoQWyZTAhn//6eEAAAB00AAAATQZ4eRRUsI/8AAI8VCL61eSDyXwAAABAB\n",
       "nj10R/8AAOJFWNW0OW0LAAAAEQGeP2pH/wAA4sAjIjiKsCeBAAAAK0GaJEmoQWyZTAhn//6eEAAo\n",
       "2b3gAiVtVozC3sBRkfRQhoA2qXwRoNyiDFgAAAAWQZ5CRRUsI/8ADSoP5dI2jU8CrHP5sQAAABAB\n",
       "nmF0R/8AAOJFWNW0OW0LAAAAEQGeY2pH/wAA4sAjIjiKsCeAAAAAK0GaaEmoQWyZTAhn//6eEAAo\n",
       "2qqcAOkeqxn6+REtBiGzGxgiIVMmT9BOFBAAAAATQZ6GRRUsI/8AAI8VCL61eSDyXwAAABABnqV0\n",
       "R/8AAOJFWNW0OW0LAAAAEQGep2pH/wAA4sAjIjiKsCeBAAAAE0GarEmoQWyZTAhn//6eEAAAB0wA\n",
       "AAATQZ7KRRUsI/8AAI8VCL61eSDyXwAAABABnul0R/8AAOJFWNW0OW0LAAAAEQGe62pH/wAA4sAj\n",
       "IjiKsCeBAAAAE0Ga8EmoQWyZTAhn//6eEAAAB00AAAATQZ8ORRUsI/8AAI8VCL61eSDyXgAAABAB\n",
       "ny10R/8AAOJFWNW0OW0LAAAAEQGfL2pH/wAA4sAjIjiKsCeBAAAAJUGbNEmoQWyZTAhn//6eEABP\n",
       "cr44ArMOn8evBlrmv9qPLLIgZUAAAAAVQZ9SRRUsI/8AGcKdno0G4f+rKWrsAAAAEAGfcXRH/wAA\n",
       "4kVY1bQ5bQsAAAARAZ9zakf/AADiwCMiOIqwJ4EAAAA+QZt4SahBbJlMCGf//p4QAFGxuOAK367u\n",
       "R6FzaiIGD/76MmEDLLLOIzNKHdYm6PT8N8vgw89+lYceI7JgqYEAAAAWQZ+WRRUsI/8AGml+unOj\n",
       "Q/Mi1ZOubAAAABIBn7V0R/8AKP6MuiH1W2EQsHIAAAASAZ+3akf/ACoKAPdlVndV5HVbAAAAO0Gb\n",
       "vEmoQWyZTAhn//6eEABRsr44A5RvBaTUla5zysSQeDXfq14WpgeBTJVXTigphHuvOrDTd3r6hYOO\n",
       "AAAAHUGf2kUVLCP/ABpqBXAAOztO5cQVrxOfnNBGb2+QAAAAEgGf+XRH/wAqHoy2mtvhtqMZMQAA\n",
       "ABIBn/tqR/8AKgoA9VwXw/pGMmAAAAAcQZvgSahBbJlMCF///oywAFSw+wAf2cuCL5BUwQAAABZB\n",
       "nh5FFSwj/wAbAp2Zl1PiIiZFc3HtAAAAEAGePXRH/wAA4kVY1bQ5bQsAAAARAZ4/akf/AADiwCMi\n",
       "OIqwJ4EAAAA9QZokSahBbJlMCF///oywAFTcEZwAVzhQje4jUOyszSgYMi/kPG0HXuCSVQwMTuyQ\n",
       "lI1QtpVmPcGsd3QOmAAAABVBnkJFFSwj/wAbCZARXsG4biavtzMAAAAQAZ5hdEf/AADiRVjVtDlt\n",
       "CwAAABMBnmNqR/8AKwg9dbciG14Xkd3IAAAAOUGaZ0moQWyZTAhf//6MsABUsp0ADi2jCBP+ps65\n",
       "yIdH36TX7ffQj7RFvXUPeIbUV1h2Aeev1t0DpgAAABVBnoVFFSwj/wAbAp2ajQbh/6spau0AAAAR\n",
       "AZ6makf/AADiwCMiOIqwJ4AAAABOQZqrSahBbJlMCF///oywAFbh/3Ez6lCYoZ3fLRXMRzIJ1lHQ\n",
       "kT8NvI7uFWwHL56BrgTEW+6OXUDiMJ0tb7o+F/nBfKXnPLx1t4BTNB0xAAAAH0GeyUUVLCP/ABup\n",
       "f54gAJ1jNAkD2JS5UZv75ekm+VsAAAAbAZ7odEf/ACxec1JABNXaT1DRkHtVWsK/LNmRAAAAGwGe\n",
       "6mpH/wAsZAelJABNLbMuU2CfFRF1PyzZkQAAAEtBmu1JqEFsmUwUTDP//p4QAFZq+ZcMzgAT93DL\n",
       "8KRwlx4/9q4x3Q9l4NuFT17vbj3YVbVQi2f+6UbneKalHl/z+OMK4NB6VTEFF4EAAAASAZ8Makf/\n",
       "ACxWxo4Pc0x+pQS1AAAAQkGbEUnhClJlMCGf/p4QAFZT/oOgAoNP7l8Rms+Wszwz54kMDAM8mCVn\n",
       "YgZQ4NrQp9I5irYhvBES0EhAnEfUk80NmAAAACFBny9FNEwj/wAbopsTS4AWtu/ArwzIfddi7ZFY\n",
       "pKojVDgAAAAdAZ9OdEf/ACwt7uN+i+f4ACYPtrHoMr1vrNOPF60AAAAQAZ9Qakf/AADf+52MzbEE\n",
       "SAAAADVBm1VJqEFomUwIZ//+nhAAKxqqnACKxY8Xaz2lsVH2gw5YfA/l+/LgjecCVmod63u+MyiC\n",
       "7gAAABVBn3NFESwj/wANp71IFHcyS9tbCfEAAAAZAZ+SdEf/ABYGteFdABK/Tn4RKcLypcF4JwAA\n",
       "AA8Bn5RqR/8AAOLAIyI3yYEAAABPQZuZSahBbJlMCGf//p4QAFYl6DAG1XO29hkWEWskNOJurbv4\n",
       "fwpFZ4BKQ7ALteCzbBEiRggpwa5oBe1wqYZfaeDNrU3W3Ied8SbCIzWhNwAAAB5Bn7dFFSwj/wAc\n",
       "SHZWX7gABYxm665c3kYJVh29RWAAAAAdAZ/WdEf/AC1+SINmWGgAlq/IM7dlSF1G17XiMzUAAAAS\n",
       "AZ/Yakf/AC1qAOfcF8P6RjJgAAAAPkGb3UmoQWyZTAhn//6eEAArGqqcAK5gtYsAU73sPdPPp5sL\n",
       "HnvG7Jvp5wmyR7hKQygiWKH7Pd6X6N/9BYLuAAAAFUGf+0UVLCP/AA28OmKjet1F71A0wQAAAA8B\n",
       "nhp0R/8AAOJFWNWzO4AAAAAPAZ4cakf/AADiwCMiN8mBAAAANUGaAUmoQWyZTAhn//6eEAArGqqc\n",
       "ALAvWyhxWSzLVd3FFF6INUVL0gHOsrEn95HcgFA2BYbNAAAAGkGeP0UVLCP/AA3ShSYAW8aSNXNS\n",
       "+ufnNAT4AAAAEgGeXnRH/wAWIXKJtYvh/SMZMQAAABIBnkBqR/8AFiUAzFwXw/pGMmAAAAA4QZpF\n",
       "SahBbJlMCGf//p4QACsSbv4qBQBErPh2BatDWIJ656pkjPUW06pst0O8Phroh9krFIJwl4EAAAAe\n",
       "QZ5jRRUsI/8ADdU1XAATEdiQMz14N4x/HwxdRbkxAAAAEAGegnRH/wAWL0aJmtsmWWYAAAAQAZ6E\n",
       "akf/ABYs1mYU2wrOTAAAADxBmolJqEFsmUwIZ//+nhAAKxnHuAFSzcpw/818OzwQ23iCxqlqrd+m\n",
       "QWc2E3iWB9XOnPa1AWwqgxgWC7kAAAAUQZ6nRRUsI/8ADdTIFGm7qK/qBpgAAAAPAZ7GdEf/AADi\n",
       "RVjVszuBAAAAGAGeyGpH/wAWPOMAB72QdvOpEVmGmM3GTAAAAEhBms1JqEFsmUwIZ//+nhAAU/Is\n",
       "gBzD1XO9CNNYiCZ4Y30OKQRhNFutaZ9C7V37+4iHBsZ7yzTqG4Ft2ZNYpPcm/xqtyRUhG1EAAAAU\n",
       "QZ7rRRUsI/8ADdE1p0zCZeZFnJkAAAAYAZ8KdEf/ABWTCewATLyNeFxGkz6tp7+BAAAADwGfDGpH\n",
       "/wAA4sAjIjfJgQAAACZBmxFJqEFsmUwIZ//+nhAAKNqlsAFttR1MW0cpIR/o2tMQQWDFgAAAABFB\n",
       "ny9FFSwj/wAAjxUIvrVvNAAAAA8Bn050R/8AAOJFWNWzO4EAAAAPAZ9Qakf/AADiwCMiN8mAAAAA\n",
       "HEGbVUmoQWyZTAhn//6eEABT8XoACwwyAtgFgYEAAAARQZ9zRRUsI/8AAI8VCL61bzUAAAAPAZ+S\n",
       "dEf/AADiRVjVszuBAAAADwGflGpH/wAA4sAjIjfJgQAAABpBm5lJqEFsmUwIZ//+nhAAUbE9QBEj\n",
       "fSwMWAAAABFBn7dFFSwj/wAAjxUIvrVvNAAAAA8Bn9Z0R/8AAOJFWNWzO4EAAAAPAZ/Yakf/AADi\n",
       "wCMiN8mAAAAAIUGb3UmoQWyZTAhn//6eEABT8iyAETHSJcGoxMRpY8WBgQAAABFBn/tFFSwj/wAA\n",
       "jxUIvrVvNQAAAA8Bnhp0R/8AAOJFWNWzO4AAAAAPAZ4cakf/AADiwCMiN8mBAAAAIEGaAUmoQWyZ\n",
       "TAhn//6eEAAp+s3AAHAJNr6fnGvyiDAhAAAAE0GeP0UVLCP/AA2BTvKNBuH/nJgAAAAPAZ5edEf/\n",
       "AADiRVjVszuBAAAADwGeQGpH/wAA4sAjIjfJgAAAADBBmkVJqEFsmUwIX//+jLAAVLLdEARIYxdA\n",
       "4DDJlNCX86U0UVlpVvUt2zdq0vWhhG0AAAATQZ5jRRUsI/8AGwmQEV7BuG4hpwAAAA8BnoJ0R/8A\n",
       "AOJFWNWzO4AAAAAPAZ6Eakf/AADiwCMiN8mAAAAAJkGaiUmoQWyZTAhf//6MsABUsu7YAiYAKv3d\n",
       "figQ4SjlLtKvIKmBAAAAE0Gep0UVLCP/ABsCnZqNBuH/nJgAAAAQAZ7GdEf/ACsi5LUnlhuuwwAA\n",
       "AA8BnshqR/8AAOLAIyI3yYAAAAATQZrNSahBbJlMCF///oywAAAHVQAAABFBnutFFSwj/wAAjxUI\n",
       "vrVvNQAAAA8Bnwp0R/8AAOJFWNWzO4EAAAAPAZ8Makf/AADiwCMiN8mBAAAAKEGbEUmoQWyZTAhX\n",
       "//44QAE9RfVyFbABMfRxnmUgEJlEZ6+UpaSQNmAAAAAcQZ8vRRUsI/8AGg9DXXgBLXJYzERtEf7u\n",
       "HD6AnwAAABABn050R/8AAN/7nz65ypmhAAAAEwGfUGpH/wApeXoAPV7XS92yd/AAAAAoQZtUSahB\n",
       "bJlMCEf//eEABNH/ac4bLxACaupUHbSebptIrNvOHZwMCAAAAB1Bn3JFFSwj/wAae3FACEz7vo1j\n",
       "9GtV6+tJBWBHJwAAABgBn5NqR/8AKdZER0AEPbCIJwtsr7w+Us0AAAASQZuVSahBbJlMCP/8hAAA\n",
       "AwGzAAAVsm1vb3YAAABsbXZoZAAAAAAAAAAAAAAAAAAAA+gAAB9AAAEAAAEAAAAAAAAAAAAAAAAB\n",
       "AAAAAAAAAAAAAAAAAAAAAQAAAAAAAAAAAAAAAAAAQAAAAAAAAAAAAAAAAAAAAAAAAAAAAAAAAAAA\n",
       "AAAAAAIAABTcdHJhawAAAFx0a2hkAAAAAwAAAAAAAAAAAAAAAQAAAAAAAB9AAAAAAAAAAAAAAAAA\n",
       "AAAAAAABAAAAAAAAAAAAAAAAAAAAAQAAAAAAAAAAAAAAAAAAQAAAAAGwAAABIAAAAAAAJGVkdHMA\n",
       "AAAcZWxzdAAAAAAAAAABAAAfQAAAAgAAAQAAAAAUVG1kaWEAAAAgbWRoZAAAAAAAAAAAAAAAAAAA\n",
       "MgAAAZAAVcQAAAAAAC1oZGxyAAAAAAAAAAB2aWRlAAAAAAAAAAAAAAAAVmlkZW9IYW5kbGVyAAAA\n",
       "E/9taW5mAAAAFHZtaGQAAAABAAAAAAAAAAAAAAAkZGluZgAAABxkcmVmAAAAAAAAAAEAAAAMdXJs\n",
       "IAAAAAEAABO/c3RibAAAALNzdHNkAAAAAAAAAAEAAACjYXZjMQAAAAAAAAABAAAAAAAAAAAAAAAA\n",
       "AAAAAAGwASAASAAAAEgAAAAAAAAAAQAAAAAAAAAAAAAAAAAAAAAAAAAAAAAAAAAAAAAAAAAAABj/\n",
       "/wAAADFhdmNDAWQAHv/hABhnZAAerNlBsJaEAAADAAQAAAMBkDxYtlgBAAZo6+PLIsAAAAAcdXVp\n",
       "ZGtoQPJfJE/FujmlG88DI/MAAAAAAAAAGHN0dHMAAAAAAAAAAQAAAZAAAAEAAAAAGHN0c3MAAAAA\n",
       "AAAAAgAAAAEAAAD7AAAMUGN0dHMAAAAAAAABiAAAAAEAAAIAAAAAAQAAAwAAAAABAAABAAAAAAEA\n",
       "AAMAAAAAAQAAAQAAAAABAAAEAAAAAAIAAAEAAAAAAQAABQAAAAABAAACAAAAAAEAAAAAAAAAAQAA\n",
       "AQAAAAABAAADAAAAAAEAAAEAAAAAAQAAAgAAAAABAAAFAAAAAAEAAAIAAAAAAQAAAAAAAAABAAAB\n",
       "AAAAAAEAAAUAAAAAAQAAAgAAAAABAAAAAAAAAAEAAAEAAAAAAQAABAAAAAACAAABAAAAAAEAAAUA\n",
       "AAAAAQAAAgAAAAABAAAAAAAAAAEAAAEAAAAAAQAABQAAAAABAAACAAAAAAEAAAAAAAAAAQAAAQAA\n",
       "AAABAAAFAAAAAAEAAAIAAAAAAQAAAAAAAAABAAABAAAAAAEAAAUAAAAAAQAAAgAAAAABAAAAAAAA\n",
       "AAEAAAEAAAAAAQAABQAAAAABAAACAAAAAAEAAAAAAAAAAQAAAQAAAAABAAADAAAAAAEAAAEAAAAA\n",
       "AQAABQAAAAABAAACAAAAAAEAAAAAAAAAAQAAAQAAAAABAAAFAAAAAAEAAAIAAAAAAQAAAAAAAAAB\n",
       "AAABAAAAAAIAAAIAAAAAAQAABQAAAAABAAACAAAAAAEAAAAAAAAAAQAAAQAAAAABAAAFAAAAAAEA\n",
       "AAIAAAAAAQAAAAAAAAABAAABAAAAAAEAAAIAAAAAAQAABAAAAAACAAABAAAAAAEAAAUAAAAAAQAA\n",
       "AgAAAAABAAAAAAAAAAEAAAEAAAAAAQAABQAAAAABAAACAAAAAAEAAAAAAAAAAQAAAQAAAAABAAAE\n",
       "AAAAAAIAAAEAAAAAAQAABQAAAAABAAACAAAAAAEAAAAAAAAAAQAAAQAAAAABAAAFAAAAAAEAAAIA\n",
       "AAAAAQAAAAAAAAABAAABAAAAAAEAAAUAAAAAAQAAAgAAAAABAAAAAAAAAAEAAAEAAAAAAQAABQAA\n",
       "AAABAAACAAAAAAEAAAAAAAAAAQAAAQAAAAABAAAFAAAAAAEAAAIAAAAAAQAAAAAAAAABAAABAAAA\n",
       "AAEAAAUAAAAAAQAAAgAAAAABAAAAAAAAAAEAAAEAAAAAAQAAAwAAAAABAAABAAAAAAEAAAUAAAAA\n",
       "AQAAAgAAAAABAAAAAAAAAAEAAAEAAAAAAQAABQAAAAABAAACAAAAAAEAAAAAAAAAAQAAAQAAAAAB\n",
       "AAAFAAAAAAEAAAIAAAAAAQAAAAAAAAABAAABAAAAAAEAAAUAAAAAAQAAAgAAAAABAAAAAAAAAAEA\n",
       "AAEAAAAAAQAABQAAAAABAAACAAAAAAEAAAAAAAAAAQAAAQAAAAABAAAFAAAAAAEAAAIAAAAAAQAA\n",
       "AAAAAAABAAABAAAAAAEAAAUAAAAAAQAAAgAAAAABAAAAAAAAAAEAAAEAAAAAAQAABQAAAAABAAAC\n",
       "AAAAAAEAAAAAAAAAAQAAAQAAAAABAAADAAAAAAEAAAEAAAAAAQAABQAAAAABAAACAAAAAAEAAAAA\n",
       "AAAAAQAAAQAAAAABAAAFAAAAAAEAAAIAAAAAAQAAAAAAAAABAAABAAAAAAEAAAUAAAAAAQAAAgAA\n",
       "AAABAAAAAAAAAAEAAAEAAAAAAQAABQAAAAABAAACAAAAAAEAAAAAAAAAAQAAAQAAAAABAAAFAAAA\n",
       "AAEAAAIAAAAAAQAAAAAAAAABAAABAAAAAAEAAAUAAAAAAQAAAgAAAAABAAAAAAAAAAEAAAEAAAAA\n",
       "AQAABQAAAAABAAACAAAAAAEAAAAAAAAAAQAAAQAAAAABAAAFAAAAAAEAAAIAAAAAAQAAAAAAAAAB\n",
       "AAABAAAAAAEAAAUAAAAAAQAAAgAAAAABAAAAAAAAAAEAAAEAAAAAAQAABQAAAAABAAACAAAAAAEA\n",
       "AAAAAAAAAQAAAQAAAAABAAAFAAAAAAEAAAIAAAAAAQAAAAAAAAABAAABAAAAAAEAAAUAAAAAAQAA\n",
       "AgAAAAABAAAAAAAAAAEAAAEAAAAAAQAABQAAAAABAAACAAAAAAEAAAAAAAAAAQAAAQAAAAABAAAF\n",
       "AAAAAAEAAAIAAAAAAQAAAAAAAAABAAABAAAAAAEAAAUAAAAAAQAAAgAAAAABAAAAAAAAAAEAAAEA\n",
       "AAAAAQAABQAAAAABAAACAAAAAAEAAAAAAAAAAQAAAQAAAAABAAAFAAAAAAEAAAIAAAAAAQAAAAAA\n",
       "AAABAAABAAAAAAEAAAUAAAAAAQAAAgAAAAABAAAAAAAAAAEAAAEAAAAAAQAABQAAAAABAAACAAAA\n",
       "AAEAAAAAAAAAAQAAAQAAAAABAAAFAAAAAAEAAAIAAAAAAQAAAAAAAAABAAABAAAAAAEAAAUAAAAA\n",
       "AQAAAgAAAAABAAAAAAAAAAEAAAEAAAAAAQAABQAAAAABAAACAAAAAAEAAAAAAAAAAQAAAQAAAAAB\n",
       "AAAFAAAAAAEAAAIAAAAAAQAAAAAAAAABAAABAAAAAAEAAAUAAAAAAQAAAgAAAAABAAAAAAAAAAEA\n",
       "AAEAAAAAAQAABQAAAAABAAACAAAAAAEAAAAAAAAAAQAAAQAAAAABAAADAAAAAAEAAAEAAAAAAQAA\n",
       "BQAAAAABAAACAAAAAAEAAAAAAAAAAQAAAQAAAAABAAAEAAAAAAIAAAEAAAAAAQAAAgAAAAABAAAF\n",
       "AAAAAAEAAAIAAAAAAQAAAAAAAAABAAABAAAAAAEAAAUAAAAAAQAAAgAAAAABAAAAAAAAAAEAAAEA\n",
       "AAAAAQAABQAAAAABAAACAAAAAAEAAAAAAAAAAQAAAQAAAAABAAAFAAAAAAEAAAIAAAAAAQAAAAAA\n",
       "AAABAAABAAAAAAEAAAUAAAAAAQAAAgAAAAABAAAAAAAAAAEAAAEAAAAAAQAABQAAAAABAAACAAAA\n",
       "AAEAAAAAAAAAAQAAAQAAAAABAAAFAAAAAAEAAAIAAAAAAQAAAAAAAAABAAABAAAAAAEAAAUAAAAA\n",
       "AQAAAgAAAAABAAAAAAAAAAEAAAEAAAAAAQAABQAAAAABAAACAAAAAAEAAAAAAAAAAQAAAQAAAAAB\n",
       "AAAFAAAAAAEAAAIAAAAAAQAAAAAAAAABAAABAAAAAAEAAAUAAAAAAQAAAgAAAAABAAAAAAAAAAEA\n",
       "AAEAAAAAAQAABQAAAAABAAACAAAAAAEAAAAAAAAAAQAAAQAAAAABAAAFAAAAAAEAAAIAAAAAAQAA\n",
       "AAAAAAABAAABAAAAAAEAAAUAAAAAAQAAAgAAAAABAAAAAAAAAAEAAAEAAAAAAQAABQAAAAABAAAC\n",
       "AAAAAAEAAAAAAAAAAQAAAQAAAAABAAAFAAAAAAEAAAIAAAAAAQAAAAAAAAABAAABAAAAAAEAAAUA\n",
       "AAAAAQAAAgAAAAABAAAAAAAAAAEAAAEAAAAAAQAABAAAAAACAAABAAAAAAEAAAUAAAAAAQAAAgAA\n",
       "AAABAAAAAAAAAAEAAAEAAAAAAQAAAwAAAAABAAABAAAAAAEAAAUAAAAAAQAAAgAAAAABAAAAAAAA\n",
       "AAEAAAEAAAAAAQAABQAAAAABAAACAAAAAAEAAAAAAAAAAQAAAQAAAAABAAAFAAAAAAEAAAIAAAAA\n",
       "AQAAAAAAAAABAAABAAAAAAEAAAUAAAAAAQAAAgAAAAABAAAAAAAAAAEAAAEAAAAAAQAABQAAAAAB\n",
       "AAACAAAAAAEAAAAAAAAAAQAAAQAAAAABAAAFAAAAAAEAAAIAAAAAAQAAAAAAAAABAAABAAAAAAEA\n",
       "AAUAAAAAAQAAAgAAAAABAAAAAAAAAAEAAAEAAAAAAQAABQAAAAABAAACAAAAAAEAAAAAAAAAAQAA\n",
       "AQAAAAABAAAFAAAAAAEAAAIAAAAAAQAAAAAAAAABAAABAAAAAAEAAAUAAAAAAQAAAgAAAAABAAAA\n",
       "AAAAAAEAAAEAAAAAAQAABQAAAAABAAACAAAAAAEAAAAAAAAAAQAAAQAAAAABAAAFAAAAAAEAAAIA\n",
       "AAAAAQAAAAAAAAABAAABAAAAAAEAAAUAAAAAAQAAAgAAAAABAAAAAAAAAAEAAAEAAAAAAQAABQAA\n",
       "AAABAAACAAAAAAEAAAAAAAAAAQAAAQAAAAABAAAFAAAAAAEAAAIAAAAAAQAAAAAAAAABAAABAAAA\n",
       "AAEAAAUAAAAAAQAAAgAAAAABAAAAAAAAAAEAAAEAAAAAAQAABQAAAAABAAACAAAAAAEAAAAAAAAA\n",
       "AQAAAQAAAAABAAAEAAAAAAIAAAEAAAAAAQAAAgAAAAAcc3RzYwAAAAAAAAABAAAAAQAAAZAAAAAB\n",
       "AAAGVHN0c3oAAAAAAAAAAAAAAZAAADUkAAACnQAAAFkAAACKAAAAPQAAAJgAAAAyAAAAKQAAAHYA\n",
       "AAAvAAAAKAAAACAAAABUAAAALAAAAEIAAABzAAAAMgAAAB8AAAAnAAAAYQAAAC0AAAAlAAAAIgAA\n",
       "AHAAAAAiAAAAIgAAAJUAAAAsAAAAIwAAAB8AAABQAAAALAAAABoAAAAiAAAAUwAAACgAAAAaAAAA\n",
       "HAAAAFMAAAAuAAAAIwAAACMAAABnAAAAKQAAAB0AAAAdAAAAVwAAACUAAABRAAAAKgAAABgAAAAb\n",
       "AAAAVgAAAC0AAAAkAAAAIQAAADcAAAA0AAAASAAAACgAAAAYAAAAIAAAAHoAAAAjAAAAIQAAABoA\n",
       "AAA8AAAARwAAACMAAAAcAAAAaAAAACUAAAAlAAAAIgAAADsAAAAfAAAAFgAAABYAAABAAAAAHwAA\n",
       "ABkAAABKAAAAJAAAAB0AAAAYAAAAMAAAACsAAAAkAAAAHAAAAD8AAAApAAAAIQAAABgAAAAoAAAA\n",
       "HQAAABYAAAAWAAAANAAAACkAAAAaAAAAGAAAAE0AAAAqAAAAGAAAACMAAABNAAAAKAAAAHgAAAAt\n",
       "AAAAIgAAACQAAABHAAAALAAAACYAAAAaAAAAMwAAACwAAAAaAAAAGAAAADYAAAAlAAAAGAAAABYA\n",
       "AABOAAAALgAAABgAAAAhAAAAUgAAACgAAAAbAAAAGAAAACUAAAAfAAAAFgAAABYAAAA/AAAAIQAA\n",
       "ABYAAAAbAAAAQgAAACkAAAAuAAAAKQAAABsAAAAbAAAATAAAACoAAAAaAAAAGgAAAEEAAAAhAAAA\n",
       "GAAAABgAAAAsAAAAHwAAABYAAAAYAAAAfQAAACIAAAAZAAAAJgAAAEYAAAArAAAAHQAAACAAAAA1\n",
       "AAAAIgAAABkAAAAZAAAAPQAAAC0AAAAdAAAAHgAAAD8AAAAjAAAAGwAAABsAAAA7AAAAKwAAAB0A\n",
       "AAAdAAAARQAAACIAAAAYAAAAGAAAAEYAAAAwAAAAHQAAACMAAAA5AAAAJAAAABgAAAAbAAAAOQAA\n",
       "ACMAAAAZAAAAGgAAAEgAAAAqAAAAIAAAACIAAAAvAAAAJAAAABoAAAAZAAAAJgAAACMAAAAZAAAA\n",
       "GgAAAC8AAAAhAAAAGQAAABkAAAA6AAAAIgAAABoAAAAZAAAASQAAACwAAAAcAAAAHAAAAG8AAAAr\n",
       "AAAAHQAAABwAAAA1AAAAIQAAABgAAAAWAAAATQAAACIAAAAYAAAAGgAAADQAAAAhAAAAGAAAABYA\n",
       "AAA8AAAAJwAAAB0AAAAbAAAATwAAAB0AAABmAAAAJAAAABoAAAAiAAAAJwAAACcAAAAiAABA3wAA\n",
       "AXcAAAA2AAAALwAAAB8AAAA3AAAAHwAAABkAAAAVAAAAMAAAABsAAAAWAAAAFQAAAEkAAAAkAAAA\n",
       "FgAAABcAAAAwAAAAGgAAABQAAAAVAAAAFwAAABcAAAAUAAAAFQAAADAAAAAZAAAAFAAAABUAAAAX\n",
       "AAAAFwAAABQAAAAVAAAALwAAABoAAAAUAAAAFQAAAC8AAAAXAAAAFAAAABUAAAAXAAAAFwAAABQA\n",
       "AAAVAAAAFwAAABcAAAAUAAAAFQAAACkAAAAZAAAAFAAAABUAAABCAAAAGgAAABYAAAAWAAAAPwAA\n",
       "ACEAAAAWAAAAFgAAACAAAAAaAAAAFAAAABUAAABBAAAAGQAAABQAAAAXAAAAPQAAABkAAAAVAAAA\n",
       "UgAAACMAAAAfAAAAHwAAAE8AAAAWAAAARgAAACUAAAAhAAAAFAAAADkAAAAZAAAAHQAAABMAAABT\n",
       "AAAAIgAAACEAAAAWAAAAQgAAABkAAAATAAAAEwAAADkAAAAeAAAAFgAAABYAAAA8AAAAIgAAABQA\n",
       "AAAUAAAAQAAAABgAAAATAAAAHAAAAEwAAAAYAAAAHAAAABMAAAAqAAAAFQAAABMAAAATAAAAIAAA\n",
       "ABUAAAATAAAAEwAAAB4AAAAVAAAAEwAAABMAAAAlAAAAFQAAABMAAAATAAAAJAAAABcAAAATAAAA\n",
       "EwAAADQAAAAXAAAAEwAAABMAAAAqAAAAFwAAABQAAAATAAAAFwAAABUAAAATAAAAEwAAACwAAAAg\n",
       "AAAAFAAAABcAAAAsAAAAIQAAABwAAAAWAAAAFHN0Y28AAAAAAAAAAQAAACwAAABidWR0YQAAAFpt\n",
       "ZXRhAAAAAAAAACFoZGxyAAAAAAAAAABtZGlyYXBwbAAAAAAAAAAAAAAAAC1pbHN0AAAAJal0b28A\n",
       "AAAdZGF0YQAAAAEAAAAATGF2ZjU3LjcxLjEwMA==\n",
       "\">\n",
       "  Your browser does not support the video tag.\n",
       "</video>"
      ]
     },
     "metadata": {},
     "output_type": "display_data"
    }
   ],
   "source": [
    "try:\n",
    "    display_html(HTML(anim.to_html5_video()))\n",
    "# In case the build-in renderers are unaviable, fall back to\n",
    "# a custom one, that doesn't require external libraries\n",
    "except RuntimeError:\n",
    "    anim.save(None, writer=matplotlib_utils.SimpleMovieWriter(0.001))"
   ]
  },
  {
   "cell_type": "markdown",
   "metadata": {},
   "source": [
    "# Logistic regression\n",
    "Your assignment is to implement the logistic regression\n",
    "\n",
    "Plan:\n",
    "* Use a shared variable for weights\n",
    "* Use a matrix placeholder for `X`\n",
    " \n",
    "We shall train on a two-class MNIST dataset\n",
    "* please note that target `y` are `{0,1}` and not `{-1,1}` as in some formulae"
   ]
  },
  {
   "cell_type": "code",
   "execution_count": 50,
   "metadata": {},
   "outputs": [
    {
     "name": "stdout",
     "output_type": "stream",
     "text": [
      "y [shape - (360,)]: [0 1 0 1 0 1 0 0 1 1]\n",
      "X [shape - (360, 64)]:\n"
     ]
    }
   ],
   "source": [
    "from sklearn.datasets import load_digits\n",
    "mnist = load_digits(2)\n",
    "\n",
    "X, y = mnist.data, mnist.target\n",
    "\n",
    "print(\"y [shape - %s]:\" % (str(y.shape)), y[:10])\n",
    "print(\"X [shape - %s]:\" % (str(X.shape)))"
   ]
  },
  {
   "cell_type": "code",
   "execution_count": 51,
   "metadata": {},
   "outputs": [
    {
     "name": "stdout",
     "output_type": "stream",
     "text": [
      "X:\n",
      " [[ 0.  0.  5. 13.  9.  1.  0.  0.  0.  0.]\n",
      " [ 0.  0.  0. 12. 13.  5.  0.  0.  0.  0.]\n",
      " [ 0.  0.  1.  9. 15. 11.  0.  0.  0.  0.]]\n",
      "y:\n",
      " [0 1 0 1 0 1 0 0 1 1]\n"
     ]
    },
    {
     "data": {
      "image/png": "[encoded data removed]",
      "text/plain": [
       "<Figure size 432x288 with 1 Axes>"
      ]
     },
     "metadata": {},
     "output_type": "display_data"
    }
   ],
   "source": [
    "print('X:\\n',X[:3,:10])\n",
    "print('y:\\n',y[:10])\n",
    "plt.imshow(X[0].reshape([8,8]));"
   ]
  },
  {
   "cell_type": "markdown",
   "metadata": {},
   "source": [
    "It's your turn now!\n",
    "Just a small reminder of the relevant math:\n",
    "\n",
    "$$\n",
    "P(y=1|X) = \\sigma(X \\cdot W + b)\n",
    "$$\n",
    "$$\n",
    "\\text{loss} = -\\log\\left(P\\left(y_\\text{predicted} = 1\\right)\\right)\\cdot y_\\text{true} - \\log\\left(1 - P\\left(y_\\text{predicted} = 1\\right)\\right)\\cdot\\left(1 - y_\\text{true}\\right)\n",
    "$$\n",
    "\n",
    "$\\sigma(x)$ is available via `tf.nn.sigmoid` and matrix multiplication via `tf.matmul`"
   ]
  },
  {
   "cell_type": "code",
   "execution_count": 119,
   "metadata": {
    "collapsed": true
   },
   "outputs": [],
   "source": [
    "from sklearn.model_selection import train_test_split\n",
    "X_train, X_test, y_train, y_test = train_test_split(\n",
    "    X, y, random_state=42)"
   ]
  },
  {
   "cell_type": "markdown",
   "metadata": {},
   "source": [
    "__Your code goes here.__ For the training and testing scaffolding to work, please stick to the names in comments."
   ]
  },
  {
   "cell_type": "code",
   "execution_count": 120,
   "metadata": {},
   "outputs": [
    {
     "data": {
      "text/plain": [
       "(360, 64)"
      ]
     },
     "execution_count": 120,
     "metadata": {},
     "output_type": "execute_result"
    }
   ],
   "source": [
    "X.shape"
   ]
  },
  {
   "cell_type": "code",
   "execution_count": 193,
   "metadata": {},
   "outputs": [
    {
     "ename": "NameError",
     "evalue": "name 'random' is not defined",
     "output_type": "error",
     "traceback": [
      "\u001b[0;31m---------------------------------------------------------------------------\u001b[0m",
      "\u001b[0;31mNameError\u001b[0m                                 Traceback (most recent call last)",
      "\u001b[0;32m<ipython-input-193-798f24d36762>\u001b[0m in \u001b[0;36m<module>\u001b[0;34m()\u001b[0m\n\u001b[0;32m----> 1\u001b[0;31m \u001b[0mrandom\u001b[0m\u001b[0;34m.\u001b[0m\u001b[0mrand\u001b[0m\u001b[0;34m(\u001b[0m\u001b[0;34m)\u001b[0m\u001b[0;34m\u001b[0m\u001b[0m\n\u001b[0m",
      "\u001b[0;31mNameError\u001b[0m: name 'random' is not defined"
     ]
    }
   ],
   "source": [
    "random.rand()"
   ]
  },
  {
   "cell_type": "code",
   "execution_count": 176,
   "metadata": {
    "collapsed": true
   },
   "outputs": [],
   "source": [
    "# Model parameters - weights and bias\n",
    "# weights = tf.Variable(...) shape should be (X.shape[1], 1)\n",
    "# b = tf.Variable(...)\n",
    "weights = tf.Variable(initial_value=np.ones(shape=(X.shape[1], 1)), name=\"weights\", dtype='float32')\n",
    "b = tf.Variable(initial_value=1, name='bias', dtype='float32')"
   ]
  },
  {
   "cell_type": "code",
   "execution_count": 177,
   "metadata": {},
   "outputs": [],
   "source": [
    "# Placeholders for the input data\n",
    "# input_X = tf.placeholder(...)\n",
    "# input_y = tf.placeholder(...)\n",
    "input_X = tf.placeholder('float32', shape=(None, X.shape[1]), name=\"input_X\")\n",
    "input_y = tf.placeholder('float32', shape=(None, ), name=\"input_y\")"
   ]
  },
  {
   "cell_type": "code",
   "execution_count": 192,
   "metadata": {},
   "outputs": [],
   "source": [
    "# The model code\n",
    "\n",
    "# Compute a vector of predictions, resulting shape should be [input_X.shape[0],]\n",
    "# This is 1D, if you have extra dimensions, you can  get rid of them with tf.squeeze .\n",
    "# Don't forget the sigmoid.\n",
    "# predicted_y = <predicted probabilities for input_X>\n",
    "#predicted_y = tf.squeeze(tf.nn.sigmoid(tf.matmul(input_X, weights) + b))\n",
    "predicted_y =  tf.squeeze(tf.nn.sigmoid(tf.matmul(input_X, weights) + b))\n",
    "#predicted_y = tf.nn.sigmoid(tf.matmul(input_X, weights) + b)\n",
    "# Loss. Should be a scalar number - average loss over all the objects\n",
    "# tf.reduce_mean is your friend here\n",
    "# loss = <logistic loss (scalar, mean over sample)>\n",
    "loss = tf.reduce_mean(-tf.log(predicted_y) * input_y - tf.log(1 - predicted_y) * (1 - input_y))\n",
    "#loss = predicted_y\n",
    "\n",
    "# See above for an example. tf.train.*Optimizer\n",
    "# optimizer = <optimizer that minimizes loss>\n",
    "optimizer = tf.train.MomentumOptimizer(0.01, 0.5).minimize(loss, var_list=[weights, b])"
   ]
  },
  {
   "cell_type": "markdown",
   "metadata": {},
   "source": [
    "A test to help with the debugging"
   ]
  },
  {
   "cell_type": "code",
   "execution_count": 179,
   "metadata": {},
   "outputs": [],
   "source": [
    "validation_weights = 1e-3 * np.fromiter(map(lambda x:\n",
    "        s.run(weird_psychotic_function, {my_scalar:x, my_vector:[1, 0.1, 2]}),\n",
    "                                   0.15 * np.arange(1, X.shape[1] + 1)),\n",
    "                                   count=X.shape[1], dtype=np.float32)[:, np.newaxis]\n",
    "# Compute predictions for given weights and bias\n",
    "prediction_validation = s.run(\n",
    "    predicted_y, {\n",
    "    input_X: X,\n",
    "    weights: validation_weights,\n",
    "    b: 1e-1})\n",
    "\n",
    "# Load the reference values for the predictions\n",
    "validation_true_values = np.loadtxt(\"validation_predictons.txt\")\n",
    "\n",
    "assert prediction_validation.shape == (X.shape[0],),\\\n",
    "       \"Predictions must be a 1D array with length equal to the number \" \\\n",
    "       \"of examples in input_X\"\n",
    "assert np.allclose(validation_true_values, prediction_validation)\n",
    "loss_validation = s.run(\n",
    "        loss, {\n",
    "            input_X: X[:100],\n",
    "            input_y: y[-100:],\n",
    "            weights: validation_weights+1.21e-3,\n",
    "            b: -1e-1})\n",
    "assert np.allclose(loss_validation, 0.728689)"
   ]
  },
  {
   "cell_type": "code",
   "execution_count": 180,
   "metadata": {},
   "outputs": [
    {
     "name": "stdout",
     "output_type": "stream",
     "text": [
      "0.71852165\n"
     ]
    }
   ],
   "source": [
    "s.run(tf.global_variables_initializer())\n",
    "loss_i = s.run(loss, {input_X: X_train, input_y: y_train})\n",
    "print(loss_i)"
   ]
  },
  {
   "cell_type": "code",
   "execution_count": 181,
   "metadata": {},
   "outputs": [
    {
     "name": "stdout",
     "output_type": "stream",
     "text": [
      "loss at iter 0:0.5376\n",
      "train auc: 1.0\n",
      "test auc: 1.0\n",
      "loss at iter 1:0.3646\n",
      "train auc: 0.9998902064119456\n",
      "test auc: 0.999505928853755\n",
      "loss at iter 2:0.0182\n",
      "train auc: 1.0\n",
      "test auc: 1.0\n",
      "loss at iter 3:0.0100\n",
      "train auc: 1.0\n",
      "test auc: 1.0\n",
      "loss at iter 4:0.0125\n",
      "train auc: 1.0\n",
      "test auc: 1.0\n"
     ]
    }
   ],
   "source": [
    "from sklearn.metrics import roc_auc_score\n",
    "s.run(tf.global_variables_initializer())\n",
    "for i in range(5):\n",
    "    s.run(optimizer, {input_X: X_train, input_y: y_train})\n",
    "    loss_i = s.run(loss, {input_X: X_train, input_y: y_train})\n",
    "    print(\"loss at iter %i:%.4f\" % (i, loss_i))\n",
    "    print(\"train auc:\", roc_auc_score(y_train, s.run(predicted_y, {input_X:X_train})))\n",
    "    print(\"test auc:\", roc_auc_score(y_test, s.run(predicted_y, {input_X:X_test})))"
   ]
  },
  {
   "cell_type": "markdown",
   "metadata": {},
   "source": [
    "### Coursera submission"
   ]
  },
  {
   "cell_type": "code",
   "execution_count": 182,
   "metadata": {
    "collapsed": true
   },
   "outputs": [],
   "source": [
    "grade_submitter = grading.Grader(\"BJCiiY8sEeeCnhKCj4fcOA\")"
   ]
  },
  {
   "cell_type": "code",
   "execution_count": 183,
   "metadata": {
    "collapsed": true
   },
   "outputs": [],
   "source": [
    "test_weights = 1e-3 * np.fromiter(map(lambda x:\n",
    "    s.run(weird_psychotic_function, {my_scalar:x, my_vector:[1, 2, 3]}),\n",
    "                               0.1 * np.arange(1, X.shape[1] + 1)),\n",
    "                               count=X.shape[1], dtype=np.float32)[:, np.newaxis]"
   ]
  },
  {
   "cell_type": "markdown",
   "metadata": {},
   "source": [
    "First, test prediction and loss computation. This part doesn't require a fitted model."
   ]
  },
  {
   "cell_type": "code",
   "execution_count": 184,
   "metadata": {
    "collapsed": true
   },
   "outputs": [],
   "source": [
    "prediction_test = s.run(\n",
    "    predicted_y, {\n",
    "    input_X: X,\n",
    "    weights: test_weights,\n",
    "    b: 1e-1})"
   ]
  },
  {
   "cell_type": "code",
   "execution_count": 185,
   "metadata": {
    "collapsed": true
   },
   "outputs": [],
   "source": [
    "assert prediction_test.shape == (X.shape[0],),\\\n",
    "       \"Predictions must be a 1D array with length equal to the number \" \\\n",
    "       \"of examples in X_test\""
   ]
  },
  {
   "cell_type": "code",
   "execution_count": 186,
   "metadata": {
    "collapsed": true
   },
   "outputs": [],
   "source": [
    "grade_submitter.set_answer(\"0ENlN\", prediction_test)"
   ]
  },
  {
   "cell_type": "code",
   "execution_count": 187,
   "metadata": {
    "collapsed": true
   },
   "outputs": [],
   "source": [
    "loss_test = s.run(\n",
    "    loss, {\n",
    "        input_X: X[:100],\n",
    "        input_y: y[-100:],\n",
    "        weights: test_weights+1.21e-3,\n",
    "        b: -1e-1})\n",
    "# Yes, the X/y indices mistmach is intentional"
   ]
  },
  {
   "cell_type": "code",
   "execution_count": 188,
   "metadata": {
    "collapsed": true
   },
   "outputs": [],
   "source": [
    "grade_submitter.set_answer(\"mMVpM\", loss_test)"
   ]
  },
  {
   "cell_type": "code",
   "execution_count": 189,
   "metadata": {
    "collapsed": true
   },
   "outputs": [],
   "source": [
    "grade_submitter.set_answer(\"D16Rc\", roc_auc_score(y_test, s.run(predicted_y, {input_X:X_test})))"
   ]
  },
  {
   "cell_type": "markdown",
   "metadata": {},
   "source": [
    "Please use the credentials obtained from the Coursera assignment page."
   ]
  },
  {
   "cell_type": "code",
   "execution_count": 190,
   "metadata": {},
   "outputs": [
    {
     "name": "stdout",
     "output_type": "stream",
     "text": [
      "Submitted to Coursera platform. See results on assignment page!\n"
     ]
    }
   ],
   "source": [
    "grade_submitter.submit('orlov.van@gmail.com', '2TbCn3RNEJyAXQGE')"
   ]
  }
 ],
 "metadata": {
  "kernelspec": {
   "display_name": "Python 3",
   "language": "python",
   "name": "python3"
  },
  "language_info": {
   "codemirror_mode": {
    "name": "ipython",
    "version": 3
   },
   "file_extension": ".py",
   "mimetype": "text/x-python",
   "name": "python",
   "nbconvert_exporter": "python",
   "pygments_lexer": "ipython3",
   "version": "3.6.4"
  }
 },
 "nbformat": 4,
 "nbformat_minor": 1
}
